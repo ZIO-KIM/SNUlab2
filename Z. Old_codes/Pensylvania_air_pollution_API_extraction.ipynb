{
 "cells": [
  {
   "cell_type": "code",
   "execution_count": 1,
   "metadata": {},
   "outputs": [],
   "source": [
    "# 기본\n",
    "import os\n",
    "import pandas as pd\n",
    "import seaborn as sns\n",
    "import matplotlib.pyplot as plt\n",
    "import numpy as np\n",
    "import matplotlib\n",
    "from matplotlib import font_manager, rc\n",
    "import platform\n",
    "from tqdm import tqdm\n",
    "import sklearn\n",
    "from sklearn import linear_model\n",
    "import scipy.stats as stats\n",
    "from sklearn.preprocessing import StandardScaler\n",
    "import statsmodels.api as sm\n",
    "import statsmodels.formula.api as smf\n",
    "from statsmodels.stats.outliers_influence import variance_inflation_factor\n",
    "from patsy import dmatrices\n",
    "from sklearn.model_selection import train_test_split\n",
    "\n",
    "# time\n",
    "import datetime\n",
    "\n",
    "# crawling\n",
    "import requests\n",
    "import lxml.html\n",
    "import sqlite3\n",
    "from pandas.io import sql\n",
    "from bs4 import BeautifulSoup\n",
    "import json\n",
    "\n",
    "# 한글 폰트 설정\n",
    "if platform.system() == 'Windows':\n",
    "# 윈도우인 경우\n",
    "    font_name = font_manager.FontProperties(fname=\"c:/Windows/Fonts/malgun.ttf\").get_name()\n",
    "    rc('font', family=font_name)"
   ]
  },
  {
   "cell_type": "code",
   "execution_count": 2,
   "metadata": {},
   "outputs": [],
   "source": [
    "response = requests.get('https://aqs.epa.gov/data/api/sampleData/byState?email=zio0323gm@gmail.com&key=indigowren21&param=42101&bdate=20080101&edate=20080131&state=42').text"
   ]
  },
  {
   "cell_type": "code",
   "execution_count": 2,
   "metadata": {},
   "outputs": [
    {
     "name": "stderr",
     "output_type": "stream",
     "text": [
      "c:\\Users\\admin\\anaconda3\\lib\\site-packages\\urllib3\\connectionpool.py:1045: InsecureRequestWarning: Unverified HTTPS request is being made to host 'aqs.epa.gov'. Adding certificate verification is strongly advised. See: https://urllib3.readthedocs.io/en/1.26.x/advanced-usage.html#ssl-warnings\n",
      "  warnings.warn(\n"
     ]
    },
    {
     "name": "stdout",
     "output_type": "stream",
     "text": [
      "Data append for 2013.02 start ------\n",
      "END. Data length for 2013.02 is 253332\n",
      "Sulfur dioxide data for 2013.02 saved\n"
     ]
    },
    {
     "name": "stderr",
     "output_type": "stream",
     "text": [
      "c:\\Users\\admin\\anaconda3\\lib\\site-packages\\urllib3\\connectionpool.py:1045: InsecureRequestWarning: Unverified HTTPS request is being made to host 'aqs.epa.gov'. Adding certificate verification is strongly advised. See: https://urllib3.readthedocs.io/en/1.26.x/advanced-usage.html#ssl-warnings\n",
      "  warnings.warn(\n"
     ]
    },
    {
     "name": "stdout",
     "output_type": "stream",
     "text": [
      "Data append for 2013.03 start ------\n",
      "END. Data length for 2013.03 is 279525\n",
      "Sulfur dioxide data for 2013.03 saved\n"
     ]
    },
    {
     "name": "stderr",
     "output_type": "stream",
     "text": [
      "c:\\Users\\admin\\anaconda3\\lib\\site-packages\\urllib3\\connectionpool.py:1045: InsecureRequestWarning: Unverified HTTPS request is being made to host 'aqs.epa.gov'. Adding certificate verification is strongly advised. See: https://urllib3.readthedocs.io/en/1.26.x/advanced-usage.html#ssl-warnings\n",
      "  warnings.warn(\n"
     ]
    },
    {
     "name": "stdout",
     "output_type": "stream",
     "text": [
      "Data append for 2013.04 start ------\n",
      "END. Data length for 2013.04 is 271412\n",
      "Sulfur dioxide data for 2013.04 saved\n"
     ]
    },
    {
     "name": "stderr",
     "output_type": "stream",
     "text": [
      "c:\\Users\\admin\\anaconda3\\lib\\site-packages\\urllib3\\connectionpool.py:1045: InsecureRequestWarning: Unverified HTTPS request is being made to host 'aqs.epa.gov'. Adding certificate verification is strongly advised. See: https://urllib3.readthedocs.io/en/1.26.x/advanced-usage.html#ssl-warnings\n",
      "  warnings.warn(\n"
     ]
    },
    {
     "name": "stdout",
     "output_type": "stream",
     "text": [
      "Data append for 2013.05 start ------\n",
      "END. Data length for 2013.05 is 280475\n",
      "Sulfur dioxide data for 2013.05 saved\n"
     ]
    },
    {
     "name": "stderr",
     "output_type": "stream",
     "text": [
      "c:\\Users\\admin\\anaconda3\\lib\\site-packages\\urllib3\\connectionpool.py:1045: InsecureRequestWarning: Unverified HTTPS request is being made to host 'aqs.epa.gov'. Adding certificate verification is strongly advised. See: https://urllib3.readthedocs.io/en/1.26.x/advanced-usage.html#ssl-warnings\n",
      "  warnings.warn(\n"
     ]
    },
    {
     "name": "stdout",
     "output_type": "stream",
     "text": [
      "Data append for 2013.06 start ------\n",
      "END. Data length for 2013.06 is 271426\n",
      "Sulfur dioxide data for 2013.06 saved\n"
     ]
    },
    {
     "name": "stderr",
     "output_type": "stream",
     "text": [
      "c:\\Users\\admin\\anaconda3\\lib\\site-packages\\urllib3\\connectionpool.py:1045: InsecureRequestWarning: Unverified HTTPS request is being made to host 'aqs.epa.gov'. Adding certificate verification is strongly advised. See: https://urllib3.readthedocs.io/en/1.26.x/advanced-usage.html#ssl-warnings\n",
      "  warnings.warn(\n"
     ]
    },
    {
     "name": "stdout",
     "output_type": "stream",
     "text": [
      "Data append for 2013.07 start ------\n",
      "END. Data length for 2013.07 is 280478\n",
      "Sulfur dioxide data for 2013.07 saved\n"
     ]
    },
    {
     "name": "stderr",
     "output_type": "stream",
     "text": [
      "c:\\Users\\admin\\anaconda3\\lib\\site-packages\\urllib3\\connectionpool.py:1045: InsecureRequestWarning: Unverified HTTPS request is being made to host 'aqs.epa.gov'. Adding certificate verification is strongly advised. See: https://urllib3.readthedocs.io/en/1.26.x/advanced-usage.html#ssl-warnings\n",
      "  warnings.warn(\n"
     ]
    },
    {
     "name": "stdout",
     "output_type": "stream",
     "text": [
      "Data append for 2013.08 start ------\n",
      "END. Data length for 2013.08 is 280481\n",
      "Sulfur dioxide data for 2013.08 saved\n"
     ]
    },
    {
     "name": "stderr",
     "output_type": "stream",
     "text": [
      "c:\\Users\\admin\\anaconda3\\lib\\site-packages\\urllib3\\connectionpool.py:1045: InsecureRequestWarning: Unverified HTTPS request is being made to host 'aqs.epa.gov'. Adding certificate verification is strongly advised. See: https://urllib3.readthedocs.io/en/1.26.x/advanced-usage.html#ssl-warnings\n",
      "  warnings.warn(\n"
     ]
    },
    {
     "name": "stdout",
     "output_type": "stream",
     "text": [
      "Data append for 2013.09 start ------\n",
      "END. Data length for 2013.09 is 270067\n",
      "Sulfur dioxide data for 2013.09 saved\n"
     ]
    },
    {
     "name": "stderr",
     "output_type": "stream",
     "text": [
      "c:\\Users\\admin\\anaconda3\\lib\\site-packages\\urllib3\\connectionpool.py:1045: InsecureRequestWarning: Unverified HTTPS request is being made to host 'aqs.epa.gov'. Adding certificate verification is strongly advised. See: https://urllib3.readthedocs.io/en/1.26.x/advanced-usage.html#ssl-warnings\n",
      "  warnings.warn(\n"
     ]
    },
    {
     "name": "stdout",
     "output_type": "stream",
     "text": [
      "Data append for 2013.10 start ------\n",
      "END. Data length for 2013.10 is 277968\n",
      "Sulfur dioxide data for 2013.10 saved\n"
     ]
    },
    {
     "name": "stderr",
     "output_type": "stream",
     "text": [
      "c:\\Users\\admin\\anaconda3\\lib\\site-packages\\urllib3\\connectionpool.py:1045: InsecureRequestWarning: Unverified HTTPS request is being made to host 'aqs.epa.gov'. Adding certificate verification is strongly advised. See: https://urllib3.readthedocs.io/en/1.26.x/advanced-usage.html#ssl-warnings\n",
      "  warnings.warn(\n"
     ]
    },
    {
     "name": "stdout",
     "output_type": "stream",
     "text": [
      "Data append for 2013.11 start ------\n",
      "END. Data length for 2013.11 is 271218\n",
      "Sulfur dioxide data for 2013.11 saved\n"
     ]
    },
    {
     "name": "stderr",
     "output_type": "stream",
     "text": [
      "c:\\Users\\admin\\anaconda3\\lib\\site-packages\\urllib3\\connectionpool.py:1045: InsecureRequestWarning: Unverified HTTPS request is being made to host 'aqs.epa.gov'. Adding certificate verification is strongly advised. See: https://urllib3.readthedocs.io/en/1.26.x/advanced-usage.html#ssl-warnings\n",
      "  warnings.warn(\n"
     ]
    },
    {
     "name": "stdout",
     "output_type": "stream",
     "text": [
      "Data append for 2013.12 start ------\n",
      "END. Data length for 2013.12 is 280470\n",
      "Sulfur dioxide data for 2013.12 saved\n"
     ]
    },
    {
     "name": "stderr",
     "output_type": "stream",
     "text": [
      "c:\\Users\\admin\\anaconda3\\lib\\site-packages\\urllib3\\connectionpool.py:1045: InsecureRequestWarning: Unverified HTTPS request is being made to host 'aqs.epa.gov'. Adding certificate verification is strongly advised. See: https://urllib3.readthedocs.io/en/1.26.x/advanced-usage.html#ssl-warnings\n",
      "  warnings.warn(\n"
     ]
    },
    {
     "name": "stdout",
     "output_type": "stream",
     "text": [
      "Data append for 2014.02 start ------\n",
      "END. Data length for 2014.02 is 253342\n",
      "Sulfur dioxide data for 2014.02 saved\n"
     ]
    },
    {
     "name": "stderr",
     "output_type": "stream",
     "text": [
      "c:\\Users\\admin\\anaconda3\\lib\\site-packages\\urllib3\\connectionpool.py:1045: InsecureRequestWarning: Unverified HTTPS request is being made to host 'aqs.epa.gov'. Adding certificate verification is strongly advised. See: https://urllib3.readthedocs.io/en/1.26.x/advanced-usage.html#ssl-warnings\n",
      "  warnings.warn(\n"
     ]
    },
    {
     "name": "stdout",
     "output_type": "stream",
     "text": [
      "Data append for 2014.03 start ------\n",
      "END. Data length for 2014.03 is 280487\n",
      "Sulfur dioxide data for 2014.03 saved\n"
     ]
    },
    {
     "name": "stderr",
     "output_type": "stream",
     "text": [
      "c:\\Users\\admin\\anaconda3\\lib\\site-packages\\urllib3\\connectionpool.py:1045: InsecureRequestWarning: Unverified HTTPS request is being made to host 'aqs.epa.gov'. Adding certificate verification is strongly advised. See: https://urllib3.readthedocs.io/en/1.26.x/advanced-usage.html#ssl-warnings\n",
      "  warnings.warn(\n"
     ]
    },
    {
     "name": "stdout",
     "output_type": "stream",
     "text": [
      "Data append for 2014.04 start ------\n",
      "END. Data length for 2014.04 is 271439\n",
      "Sulfur dioxide data for 2014.04 saved\n"
     ]
    },
    {
     "name": "stderr",
     "output_type": "stream",
     "text": [
      "c:\\Users\\admin\\anaconda3\\lib\\site-packages\\urllib3\\connectionpool.py:1045: InsecureRequestWarning: Unverified HTTPS request is being made to host 'aqs.epa.gov'. Adding certificate verification is strongly advised. See: https://urllib3.readthedocs.io/en/1.26.x/advanced-usage.html#ssl-warnings\n",
      "  warnings.warn(\n"
     ]
    },
    {
     "name": "stdout",
     "output_type": "stream",
     "text": [
      "Data append for 2014.05 start ------\n",
      "END. Data length for 2014.05 is 280487\n",
      "Sulfur dioxide data for 2014.05 saved\n"
     ]
    },
    {
     "name": "stderr",
     "output_type": "stream",
     "text": [
      "c:\\Users\\admin\\anaconda3\\lib\\site-packages\\urllib3\\connectionpool.py:1045: InsecureRequestWarning: Unverified HTTPS request is being made to host 'aqs.epa.gov'. Adding certificate verification is strongly advised. See: https://urllib3.readthedocs.io/en/1.26.x/advanced-usage.html#ssl-warnings\n",
      "  warnings.warn(\n"
     ]
    },
    {
     "name": "stdout",
     "output_type": "stream",
     "text": [
      "Data append for 2014.06 start ------\n",
      "END. Data length for 2014.06 is 271439\n",
      "Sulfur dioxide data for 2014.06 saved\n"
     ]
    },
    {
     "name": "stderr",
     "output_type": "stream",
     "text": [
      "c:\\Users\\admin\\anaconda3\\lib\\site-packages\\urllib3\\connectionpool.py:1045: InsecureRequestWarning: Unverified HTTPS request is being made to host 'aqs.epa.gov'. Adding certificate verification is strongly advised. See: https://urllib3.readthedocs.io/en/1.26.x/advanced-usage.html#ssl-warnings\n",
      "  warnings.warn(\n"
     ]
    },
    {
     "name": "stdout",
     "output_type": "stream",
     "text": [
      "Data append for 2014.07 start ------\n",
      "END. Data length for 2014.07 is 271127\n",
      "Sulfur dioxide data for 2014.07 saved\n"
     ]
    },
    {
     "name": "stderr",
     "output_type": "stream",
     "text": [
      "c:\\Users\\admin\\anaconda3\\lib\\site-packages\\urllib3\\connectionpool.py:1045: InsecureRequestWarning: Unverified HTTPS request is being made to host 'aqs.epa.gov'. Adding certificate verification is strongly advised. See: https://urllib3.readthedocs.io/en/1.26.x/advanced-usage.html#ssl-warnings\n",
      "  warnings.warn(\n"
     ]
    },
    {
     "name": "stdout",
     "output_type": "stream",
     "text": [
      "Data append for 2014.08 start ------\n",
      "END. Data length for 2014.08 is 270815\n",
      "Sulfur dioxide data for 2014.08 saved\n"
     ]
    },
    {
     "name": "stderr",
     "output_type": "stream",
     "text": [
      "c:\\Users\\admin\\anaconda3\\lib\\site-packages\\urllib3\\connectionpool.py:1045: InsecureRequestWarning: Unverified HTTPS request is being made to host 'aqs.epa.gov'. Adding certificate verification is strongly advised. See: https://urllib3.readthedocs.io/en/1.26.x/advanced-usage.html#ssl-warnings\n",
      "  warnings.warn(\n"
     ]
    },
    {
     "name": "stdout",
     "output_type": "stream",
     "text": [
      "Data append for 2014.09 start ------\n",
      "END. Data length for 2014.09 is 262079\n",
      "Sulfur dioxide data for 2014.09 saved\n"
     ]
    },
    {
     "name": "stderr",
     "output_type": "stream",
     "text": [
      "c:\\Users\\admin\\anaconda3\\lib\\site-packages\\urllib3\\connectionpool.py:1045: InsecureRequestWarning: Unverified HTTPS request is being made to host 'aqs.epa.gov'. Adding certificate verification is strongly advised. See: https://urllib3.readthedocs.io/en/1.26.x/advanced-usage.html#ssl-warnings\n",
      "  warnings.warn(\n"
     ]
    },
    {
     "name": "stdout",
     "output_type": "stream",
     "text": [
      "Data append for 2014.10 start ------\n"
     ]
    }
   ],
   "source": [
    "# 2008~2020 Pennsylvania pollutant data extraction\n",
    "# pollutant를 바꿔가면서 추출\n",
    "    # 42101 CO - done\n",
    "    # 42401 SO2 - 2012.10까지밖에 추출 안됨, 일단 밑에것부터 하자\n",
    "    # 42602 NO2 - done\n",
    "    # 44201 O3 - done\n",
    "    # 81102 PM10 - done\n",
    "    # 88101 PM2.5 - done\n",
    "\n",
    "import json\n",
    "\n",
    "pollutant = 42401\n",
    "pollutant_name = 'Sulfur dioxide'\n",
    "months_30 = [4, 6, 9, 11]\n",
    "months_31 = [1, 3, 5, 7, 8, 10, 12]\n",
    "\n",
    "for year in range(2013, 2021):   # 여기 바꾸기\n",
    "    for month in range(2, 13): \n",
    "        if month in months_30: \n",
    "            response = requests.get('https://aqs.epa.gov/data/api/sampleData/byState?email=zio0323gm@gmail.com&key=indigowren21&param={}&bdate={}{:02d}01&edate={}{:02d}30&state=42'.format(pollutant, year, month, year, month), verify=False)\n",
    "        elif month in months_31: \n",
    "            response = requests.get('https://aqs.epa.gov/data/api/sampleData/byState?email=zio0323gm@gmail.com&key=indigowren21&param={}&bdate={}{:02d}01&edate={}{:02d}31&state=42'.format(pollutant, year, month, year, month), verify=False)\n",
    "        else:   # 2월인 경우\n",
    "            if year % 4 == 0:   # 윤년인 경우 따로 분리 - 29일까지 있음\n",
    "                response = requests.get('https://aqs.epa.gov/data/api/sampleData/byState?email=zio0323gm@gmail.com&key=indigowren21&param={}&bdate={}{:02d}01&edate={}{:02d}29&state=42'.format(pollutant, year, month, year, month), verify=False)\n",
    "            else:   # 28일까지 있는 경우\n",
    "                response = requests.get('https://aqs.epa.gov/data/api/sampleData/byState?email=zio0323gm@gmail.com&key=indigowren21&param={}&bdate={}{:02d}01&edate={}{:02d}28&state=42'.format(pollutant, year, month, year, month), verify=False)\n",
    "\n",
    "        html = response.text\n",
    "        python_obj = json.loads(html)\n",
    "\n",
    "        # key들을 list로 변환\n",
    "        list_key = []\n",
    "        for keys in python_obj['Data'][0].keys(): \n",
    "            list_key.append(keys)\n",
    "\n",
    "        # create empty df, list_key as columns (월별로 저장하기 위해, 월별로 새로운 empty dataframe 생성)\n",
    "        df = pd.DataFrame(columns = list_key)\n",
    "\n",
    "        print(\"Data append for {}.{:02d} start ------\".format(year, month))\n",
    "        # value들을 list로 변환하면서 final df에 append\n",
    "        for idx in range(len(python_obj['Data'])): \n",
    "            list_value = []\n",
    "            for values in python_obj['Data'][idx].values(): \n",
    "                list_value.append(values)\n",
    "            list_value_df = pd.DataFrame(list_value, index = list_key)\n",
    "            list_value_df = list_value_df.transpose()\n",
    "            \n",
    "            df = pd.concat([df, list_value_df], axis = 0)\n",
    "        \n",
    "        df.reset_index(drop = True, inplace = True)\n",
    "        print(\"END. Data length for {}.{:02d} is {}\".format(year, month, idx))\n",
    "        df.to_csv(\"D:\\\\SNUlab\\\\0. data\\\\Pennsylvania pollutant data (EPA AQS API)\\\\{}\\\\{}{:02d}.csv\".format(pollutant_name, year, month), index = False) \n",
    "        print(\"{} data for {}.{:02d} saved\".format(pollutant_name, year, month))"
   ]
  },
  {
   "cell_type": "code",
   "execution_count": null,
   "metadata": {},
   "outputs": [],
   "source": [
    "# 2008.01.01 ~ 2008.01.31 CO2 test\n",
    "import json\n",
    "\n",
    "response = requests.get('https://aqs.epa.gov/data/api/sampleData/byState?email=zio0323gm@gmail.com&key=indigowren21&param=42101&bdate=20080101&edate=20080131&state=42')\n",
    "html = response.text\n",
    "python_obj = json.loads(html)\n",
    "\n",
    "# key들을 list로 변환\n",
    "list_key = []\n",
    "for keys in python_obj['Data'][0].keys(): \n",
    "    list_key.append(keys)\n",
    "\n",
    "# create empty df, list_key as columns\n",
    "df = pd.DataFrame(columns = list_key)\n",
    "\n",
    "# value들을 list로 변환하면서 final df에 append\n",
    "for idx in range(len(python_obj['Data'])): \n",
    "    list_value = []\n",
    "    for values in python_obj['Data'][idx].values(): \n",
    "        list_value.append(values)\n",
    "    list_value_df = pd.DataFrame(list_value, index = list_key)\n",
    "    list_value_df = list_value_df.transpose()\n",
    "    \n",
    "    df = pd.concat([df, list_value_df], axis = 0)\n",
    "\n",
    "df.reset_index(drop = True, inplace = True)\n",
    "df"
   ]
  },
  {
   "cell_type": "code",
   "execution_count": null,
   "metadata": {},
   "outputs": [],
   "source": [
    "# https://aqs.epa.gov/data/api/list/parametersByClass?email=test@aqs.api&key=test&pc=CRITERIA\n",
    "# pollutants parameter code"
   ]
  }
 ],
 "metadata": {
  "kernelspec": {
   "display_name": "Python 3.8.8 ('base')",
   "language": "python",
   "name": "python3"
  },
  "language_info": {
   "codemirror_mode": {
    "name": "ipython",
    "version": 3
   },
   "file_extension": ".py",
   "mimetype": "text/x-python",
   "name": "python",
   "nbconvert_exporter": "python",
   "pygments_lexer": "ipython3",
   "version": "3.10.9"
  },
  "orig_nbformat": 4,
  "vscode": {
   "interpreter": {
    "hash": "a077222d77dfe082b8f1dd562ad70e458ac2ab76993a0b248ab0476e32e9e8dd"
   }
  }
 },
 "nbformat": 4,
 "nbformat_minor": 2
}
