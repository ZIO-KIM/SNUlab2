{
 "cells": [
  {
   "cell_type": "code",
   "execution_count": 2,
   "metadata": {},
   "outputs": [],
   "source": [
    "# 기본\n",
    "import os\n",
    "import pandas as pd\n",
    "import seaborn as sns\n",
    "import matplotlib.pyplot as plt\n",
    "import numpy as np\n",
    "import matplotlib\n",
    "from matplotlib import font_manager, rc\n",
    "import platform\n",
    "from tqdm import tqdm\n",
    "import sklearn\n",
    "from sklearn import linear_model\n",
    "import scipy.stats as stats\n",
    "from sklearn.preprocessing import StandardScaler\n",
    "import statsmodels.api as sm\n",
    "import statsmodels.formula.api as smf\n",
    "from statsmodels.stats.outliers_influence import variance_inflation_factor\n",
    "from patsy import dmatrices\n",
    "from sklearn.model_selection import train_test_split\n",
    "\n",
    "# time\n",
    "import datetime\n",
    "\n",
    "# crawling\n",
    "import requests\n",
    "import lxml.html\n",
    "import sqlite3\n",
    "from pandas.io import sql\n",
    "from bs4 import BeautifulSoup\n",
    "\n",
    "# 한글 폰트 설정\n",
    "if platform.system() == 'Windows':\n",
    "# 윈도우인 경우\n",
    "    font_name = font_manager.FontProperties(fname=\"c:/Windows/Fonts/malgun.ttf\").get_name()\n",
    "    rc('font', family=font_name)"
   ]
  },
  {
   "cell_type": "code",
   "execution_count": 3,
   "metadata": {},
   "outputs": [],
   "source": [
    "data = pd.read_csv('D:\\\\SNUlab\\\\0. data\\\\질병관리청_청소년건강행태조사\\\\c_health_1420.csv', encoding = 'cp949', low_memory = False)"
   ]
  },
  {
   "cell_type": "code",
   "execution_count": 4,
   "metadata": {},
   "outputs": [],
   "source": [
    "df_PRBI = data[['YEAR', 'CITY', 'GRADE', 'PR_BI']]\n",
    "df_MSTR = data[['YEAR', 'CITY', 'GRADE', 'M_STR']]"
   ]
  },
  {
   "cell_type": "code",
   "execution_count": 5,
   "metadata": {},
   "outputs": [],
   "source": [
    "# GRADE / YEAR / CITY 에 따라 cov_matrix, heatmap 그리는 함수 생성\n",
    "\n",
    "import random\n",
    "\n",
    "def cov_matrix_heatmap(df, var_name, year_start, year_end, grade, city): \n",
    "\n",
    "    # print title\n",
    "    print(\"{} {}-{} {} grade{}\".format(var_name, year_start, year_end, city, grade))\n",
    "    \n",
    "    # loc data\n",
    "    data = df.loc[(df['CITY'] == city) & (df['GRADE'] == grade) & (df['YEAR'] >= year_start) & (df['YEAR'] <= year_end)].reset_index(drop = True)\n",
    "\n",
    "    # generate list of var by year\n",
    "    x = []\n",
    "    for yr in range(year_start, year_end + 1): \n",
    "        tmp = data.loc[data['YEAR'] == yr, var_name].dropna().reset_index(drop = True).tolist()\n",
    "        x.append(tmp)\n",
    "\n",
    "    lst_len = []\n",
    "    for element in x: # 각 년도별로 na 제거했을 때 가장 작은 n수를 smallest_len 에 저장\n",
    "        lst_len.append(len(element))\n",
    "\n",
    "    smallest_len = min(lst_len)\n",
    "\n",
    "    x_random_sampled = []\n",
    "    for element in x: \n",
    "        tmp = random.choices(element, k= smallest_len)\n",
    "        x_random_sampled.append(tmp)\n",
    "\n",
    "    np.set_printoptions(suppress=True)\n",
    "    print(np.cov(x_random_sampled, bias=True))  # covariance matrix 출력\n",
    "\n",
    "    cov = np.cov(x_random_sampled, bias=True)\n",
    "\n",
    "    labs = []\n",
    "    for yr in range(year_start, year_end + 1): \n",
    "        labs.append('{}_{}_grade{}_{}'.format(var_name, city, grade, yr))\n",
    "\n",
    "    sns.heatmap(cov, annot=True, fmt='g', xticklabels=labs, yticklabels=labs)\n",
    "    plt.show()"
   ]
  },
  {
   "cell_type": "markdown",
   "metadata": {},
   "source": [
    "#### PR_BI, 2016-2019"
   ]
  },
  {
   "cell_type": "code",
   "execution_count": null,
   "metadata": {},
   "outputs": [],
   "source": [
    "grade_ = [1, 2, 3, 4, 5, 6]\n",
    "city_ = df_PRBI['CITY'].unique().tolist()\n",
    "\n",
    "for city in city_: \n",
    "    for grade in grade_: \n",
    "        cov_matrix_heatmap(df_PRBI, 'PR_BI', 2016, 2019, grade, city)"
   ]
  },
  {
   "cell_type": "markdown",
   "metadata": {},
   "source": [
    "#### PR_BI, 2017 - 2020"
   ]
  },
  {
   "cell_type": "code",
   "execution_count": null,
   "metadata": {},
   "outputs": [],
   "source": [
    "grade_ = [1, 2, 3, 4, 5, 6]\n",
    "city_ = df_PRBI['CITY'].unique().tolist()\n",
    "\n",
    "for city in city_: \n",
    "    for grade in grade_: \n",
    "        cov_matrix_heatmap(df_PRBI, 'PR_BI', 2017, 2020, grade, city)"
   ]
  },
  {
   "cell_type": "markdown",
   "metadata": {},
   "source": [
    "#### PR_BI, 2018 - 2021"
   ]
  },
  {
   "cell_type": "code",
   "execution_count": null,
   "metadata": {},
   "outputs": [],
   "source": [
    "grade_ = [1, 2, 3, 4, 5, 6]\n",
    "city_ = df_PRBI['CITY'].unique().tolist()\n",
    "\n",
    "for city in city_: \n",
    "    for grade in grade_: \n",
    "        cov_matrix_heatmap(df_PRBI, 'PR_BI', 2018, 2021, grade, city)"
   ]
  },
  {
   "cell_type": "markdown",
   "metadata": {},
   "source": [
    "#### M_STR, 2016 - 2019"
   ]
  },
  {
   "cell_type": "code",
   "execution_count": null,
   "metadata": {},
   "outputs": [],
   "source": [
    "grade_ = [1, 2, 3, 4, 5, 6]\n",
    "city_ = df_MSTR['CITY'].unique().tolist()\n",
    "\n",
    "for city in city_: \n",
    "    for grade in grade_: \n",
    "        cov_matrix_heatmap(df_MSTR, 'M_STR', 2016, 2019, grade, city)"
   ]
  },
  {
   "cell_type": "markdown",
   "metadata": {},
   "source": [
    "#### M_STR, 2017-2020"
   ]
  },
  {
   "cell_type": "code",
   "execution_count": null,
   "metadata": {},
   "outputs": [],
   "source": [
    "grade_ = [1, 2, 3, 4, 5, 6]\n",
    "city_ = df_MSTR['CITY'].unique().tolist()\n",
    "\n",
    "for city in city_: \n",
    "    for grade in grade_: \n",
    "        cov_matrix_heatmap(df_MSTR, 'M_STR', 2017, 2020, grade, city)"
   ]
  },
  {
   "cell_type": "markdown",
   "metadata": {},
   "source": [
    "#### M_STR, 2018-2021"
   ]
  },
  {
   "cell_type": "code",
   "execution_count": null,
   "metadata": {},
   "outputs": [],
   "source": [
    "grade_ = [1, 2, 3, 4, 5, 6]\n",
    "city_ = df_MSTR['CITY'].unique().tolist()\n",
    "\n",
    "for city in city_: \n",
    "    for grade in grade_: \n",
    "        cov_matrix_heatmap(df_MSTR, 'M_STR', 2018, 2021, grade, city)"
   ]
  },
  {
   "cell_type": "code",
   "execution_count": null,
   "metadata": {},
   "outputs": [],
   "source": []
  }
 ],
 "metadata": {
  "kernelspec": {
   "display_name": "Python 3.8.8 ('base')",
   "language": "python",
   "name": "python3"
  },
  "language_info": {
   "codemirror_mode": {
    "name": "ipython",
    "version": 3
   },
   "file_extension": ".py",
   "mimetype": "text/x-python",
   "name": "python",
   "nbconvert_exporter": "python",
   "pygments_lexer": "ipython3",
   "version": "3.8.8"
  },
  "orig_nbformat": 4,
  "vscode": {
   "interpreter": {
    "hash": "a077222d77dfe082b8f1dd562ad70e458ac2ab76993a0b248ab0476e32e9e8dd"
   }
  }
 },
 "nbformat": 4,
 "nbformat_minor": 2
}
