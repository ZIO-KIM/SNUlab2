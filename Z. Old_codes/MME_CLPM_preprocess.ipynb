{
 "cells": [
  {
   "cell_type": "markdown",
   "metadata": {},
   "source": [
    "##### NOTE"
   ]
  },
  {
   "cell_type": "markdown",
   "metadata": {},
   "source": [
    "- 혈압 상승 -> eGFR 감소의 인과관계 확인           \n",
    "- Cross-Lagged Panel Model\n",
    "- 검진 간격 1년 & 2년인 사람만 뽑아서 확인 예정 (1기 vs. 2기, 1기 vs. 3기)\n",
    "- Confounder - matching을 통해 해결\n",
    "    - Group 1 : 혈압 정상 & eGFR 정상\n",
    "    - Group 2 : at least 1 (bp, eGFR) not normal"
   ]
  },
  {
   "cell_type": "markdown",
   "metadata": {},
   "source": [
    "#### IMPORT"
   ]
  },
  {
   "cell_type": "code",
   "execution_count": 6,
   "metadata": {},
   "outputs": [],
   "source": [
    "# 기본\n",
    "import os\n",
    "import pandas as pd\n",
    "import seaborn as sns\n",
    "import matplotlib.pyplot as plt\n",
    "import numpy as np\n",
    "import matplotlib\n",
    "from matplotlib import font_manager, rc\n",
    "import platform\n",
    "from tqdm import tqdm\n",
    "import sklearn\n",
    "from sklearn import linear_model\n",
    "import scipy.stats as stats\n",
    "from sklearn.preprocessing import StandardScaler\n",
    "import statsmodels.api as sm\n",
    "import statsmodels.formula.api as smf\n",
    "from statsmodels.stats.outliers_influence import variance_inflation_factor\n",
    "from patsy import dmatrices\n",
    "from sklearn.model_selection import train_test_split\n",
    "\n",
    "# time\n",
    "import datetime\n",
    "\n",
    "# crawling\n",
    "import requests\n",
    "import lxml.html\n",
    "import sqlite3\n",
    "from pandas.io import sql\n",
    "from bs4 import BeautifulSoup\n",
    "\n",
    "# 한글 폰트 설정\n",
    "if platform.system() == 'Windows':\n",
    "# 윈도우인 경우\n",
    "    font_name = font_manager.FontProperties(fname=\"c:/Windows/Fonts/malgun.ttf\").get_name()\n",
    "    rc('font', family=font_name)"
   ]
  },
  {
   "cell_type": "markdown",
   "metadata": {},
   "source": [
    "#### MME preprocessed data check"
   ]
  },
  {
   "cell_type": "markdown",
   "metadata": {},
   "source": [
    "##### 1 ~ 7기 나눠놓은 데이터 가져오기"
   ]
  },
  {
   "cell_type": "code",
   "execution_count": 7,
   "metadata": {},
   "outputs": [],
   "source": [
    "MME_A01 = pd.read_csv('data\\\\MME_preprocessed\\\\MME_A01.csv', encoding = 'euc-kr')\n",
    "MME_A02 = pd.read_csv('data\\\\MME_preprocessed\\\\MME_A02.csv', encoding = 'euc-kr')\n",
    "MME_A03 = pd.read_csv('data\\\\MME_preprocessed\\\\MME_A03.csv', encoding = 'euc-kr')\n",
    "MME_A04 = pd.read_csv('data\\\\MME_preprocessed\\\\MME_A04.csv', encoding = 'euc-kr')\n",
    "MME_A05 = pd.read_csv('data\\\\MME_preprocessed\\\\MME_A05.csv', encoding = 'euc-kr')\n",
    "MME_A06 = pd.read_csv('data\\\\MME_preprocessed\\\\MME_A06.csv', encoding = 'euc-kr')\n",
    "MME_A07 = pd.read_csv('data\\\\MME_preprocessed\\\\MME_A07.csv', encoding = 'euc-kr')"
   ]
  },
  {
   "cell_type": "markdown",
   "metadata": {},
   "source": [
    "##### 1,2기만 뽑아서 concat"
   ]
  },
  {
   "cell_type": "code",
   "execution_count": null,
   "metadata": {},
   "outputs": [],
   "source": [
    "MME = pd.concat([MME_A01, MME_A02], axis = 0)\n",
    "MME"
   ]
  },
  {
   "cell_type": "markdown",
   "metadata": {},
   "source": [
    "check what 55555 ~ 99999 means\n",
    "\n",
    "55555 : 추적조사 자료의 경우, 해당 차수의 추적조사에 참여하지 않은 사람      \n",
    "66666 : 조사항목이 특정 대상 데이터에 대해 조사되지 않은 경우           \n",
    "77777 : 응답의 대상이 아닌 경우 (ex. 자궁경부암 진단여부 변수 - 성별 남성)   \n",
    "99999 : 미상 / 무응답 / 결측 "
   ]
  },
  {
   "cell_type": "markdown",
   "metadata": {},
   "source": [
    "##### 필요한 column만 뽑기"
   ]
  },
  {
   "cell_type": "code",
   "execution_count": null,
   "metadata": {},
   "outputs": [],
   "source": []
  }
 ],
 "metadata": {
  "interpreter": {
   "hash": "6d46af94c2bbce495f1e668725902fa517c90b1782bcfe2fce0dd9868df553d3"
  },
  "kernelspec": {
   "display_name": "Python 3.8.8 64-bit ('base': conda)",
   "language": "python",
   "name": "python3"
  },
  "language_info": {
   "codemirror_mode": {
    "name": "ipython",
    "version": 3
   },
   "file_extension": ".py",
   "mimetype": "text/x-python",
   "name": "python",
   "nbconvert_exporter": "python",
   "pygments_lexer": "ipython3",
   "version": "3.8.8"
  },
  "orig_nbformat": 4
 },
 "nbformat": 4,
 "nbformat_minor": 2
}
