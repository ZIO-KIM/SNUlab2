{
 "cells": [
  {
   "cell_type": "code",
   "execution_count": 1,
   "metadata": {},
   "outputs": [],
   "source": [
    "# 기본\n",
    "import os\n",
    "import pandas as pd\n",
    "import seaborn as sns\n",
    "import matplotlib.pyplot as plt\n",
    "import numpy as np\n",
    "import matplotlib\n",
    "from matplotlib import font_manager, rc\n",
    "import platform\n",
    "from tqdm import tqdm\n",
    "import sklearn\n",
    "from sklearn import linear_model\n",
    "import scipy.stats as stats\n",
    "from sklearn.preprocessing import StandardScaler\n",
    "import statsmodels.api as sm\n",
    "import statsmodels.formula.api as smf\n",
    "from statsmodels.stats.outliers_influence import variance_inflation_factor\n",
    "from patsy import dmatrices\n",
    "from sklearn.model_selection import train_test_split\n",
    "\n",
    "# time\n",
    "import datetime\n",
    "\n",
    "# crawling\n",
    "import requests\n",
    "import lxml.html\n",
    "import sqlite3\n",
    "from pandas.io import sql\n",
    "from bs4 import BeautifulSoup\n",
    "\n",
    "# 한글 폰트 설정\n",
    "if platform.system() == 'Windows':\n",
    "# 윈도우인 경우\n",
    "    font_name = font_manager.FontProperties(fname=\"c:/Windows/Fonts/malgun.ttf\").get_name()\n",
    "    rc('font', family=font_name)"
   ]
  },
  {
   "cell_type": "code",
   "execution_count": 2,
   "metadata": {},
   "outputs": [],
   "source": [
    "# 기본 DB 불러오기\n",
    "\n",
    "basic1 = pd.read_csv('D:\\\\국민건강영양조사\\\\국민건강영양조사_기수별통합\\\\1998-2019 기본DB\\\\기본DB_1기 (1998).csv', encoding = 'euc-kr', low_memory = False)\n",
    "basic2 = pd.read_csv('D:\\\\국민건강영양조사\\\\국민건강영양조사_기수별통합\\\\1998-2019 기본DB\\\\기본DB_2기 (2001).csv', encoding = 'euc-kr', low_memory = False)\n",
    "basic3 = pd.read_csv('D:\\\\국민건강영양조사\\\\국민건강영양조사_기수별통합\\\\1998-2019 기본DB\\\\기본DB_3기 (2005).csv', encoding = 'euc-kr', low_memory = False)\n",
    "basic4 = pd.read_csv('D:\\\\국민건강영양조사\\\\국민건강영양조사_기수별통합\\\\1998-2019 기본DB\\\\기본DB_4기 (2007-2009).csv', encoding = 'euc-kr', low_memory = False)\n",
    "basic5 = pd.read_csv('D:\\\\국민건강영양조사\\\\국민건강영양조사_기수별통합\\\\1998-2019 기본DB\\\\기본DB_5기 (2010-2012).csv', encoding = 'euc-kr', low_memory = False)\n",
    "basic6 = pd.read_csv('D:\\\\국민건강영양조사\\\\국민건강영양조사_기수별통합\\\\1998-2019 기본DB\\\\기본DB_6기 (2013-2015).csv', encoding = 'euc-kr', low_memory = False)\n",
    "basic7 = pd.read_csv('D:\\\\국민건강영양조사\\\\국민건강영양조사_기수별통합\\\\1998-2019 기본DB\\\\기본DB_7기 (2016-2017).csv', encoding = 'euc-kr', low_memory = False)\n",
    "basic18 = pd.read_sas('D:\\\\국민건강영양조사\\\\1998-2020 기본DB\\\\hn18_all.sas7bdat')\n",
    "basic19 = pd.read_sas('D:\\\\국민건강영양조사\\\\1998-2020 기본DB\\\\hn19_all.sas7bdat')\n",
    "basic20 = pd.read_sas('D:\\\\국민건강영양조사\\\\1998-2020 기본DB\\\\hn20_all.sas7bdat')"
   ]
  },
  {
   "cell_type": "code",
   "execution_count": 9,
   "metadata": {},
   "outputs": [
    {
     "data": {
      "text/html": [
       "<div>\n",
       "<style scoped>\n",
       "    .dataframe tbody tr th:only-of-type {\n",
       "        vertical-align: middle;\n",
       "    }\n",
       "\n",
       "    .dataframe tbody tr th {\n",
       "        vertical-align: top;\n",
       "    }\n",
       "\n",
       "    .dataframe thead th {\n",
       "        text-align: right;\n",
       "    }\n",
       "</style>\n",
       "<table border=\"1\" class=\"dataframe\">\n",
       "  <thead>\n",
       "    <tr style=\"text-align: right;\">\n",
       "      <th></th>\n",
       "      <th>BP8</th>\n",
       "    </tr>\n",
       "  </thead>\n",
       "  <tbody>\n",
       "    <tr>\n",
       "      <th>0</th>\n",
       "      <td>9.0</td>\n",
       "    </tr>\n",
       "    <tr>\n",
       "      <th>1</th>\n",
       "      <td>4.0</td>\n",
       "    </tr>\n",
       "    <tr>\n",
       "      <th>2</th>\n",
       "      <td>NaN</td>\n",
       "    </tr>\n",
       "    <tr>\n",
       "      <th>3</th>\n",
       "      <td>7.0</td>\n",
       "    </tr>\n",
       "    <tr>\n",
       "      <th>4</th>\n",
       "      <td>6.0</td>\n",
       "    </tr>\n",
       "    <tr>\n",
       "      <th>...</th>\n",
       "      <td>...</td>\n",
       "    </tr>\n",
       "    <tr>\n",
       "      <th>24866</th>\n",
       "      <td>5.0</td>\n",
       "    </tr>\n",
       "    <tr>\n",
       "      <th>24867</th>\n",
       "      <td>8.0</td>\n",
       "    </tr>\n",
       "    <tr>\n",
       "      <th>24868</th>\n",
       "      <td>8.0</td>\n",
       "    </tr>\n",
       "    <tr>\n",
       "      <th>24869</th>\n",
       "      <td>5.0</td>\n",
       "    </tr>\n",
       "    <tr>\n",
       "      <th>24870</th>\n",
       "      <td>6.0</td>\n",
       "    </tr>\n",
       "  </tbody>\n",
       "</table>\n",
       "<p>24871 rows × 1 columns</p>\n",
       "</div>"
      ],
      "text/plain": [
       "       BP8\n",
       "0      9.0\n",
       "1      4.0\n",
       "2      NaN\n",
       "3      7.0\n",
       "4      6.0\n",
       "...    ...\n",
       "24866  5.0\n",
       "24867  8.0\n",
       "24868  8.0\n",
       "24869  5.0\n",
       "24870  6.0\n",
       "\n",
       "[24871 rows x 1 columns]"
      ]
     },
     "execution_count": 9,
     "metadata": {},
     "output_type": "execute_result"
    }
   ],
   "source": [
    "basic4[['BP8']]"
   ]
  },
  {
   "cell_type": "code",
   "execution_count": null,
   "metadata": {},
   "outputs": [],
   "source": [
    "'year', 'ID', 'sex', 'age', 'psu',"
   ]
  }
 ],
 "metadata": {
  "interpreter": {
   "hash": "a077222d77dfe082b8f1dd562ad70e458ac2ab76993a0b248ab0476e32e9e8dd"
  },
  "kernelspec": {
   "display_name": "Python 3.8.8 ('base')",
   "language": "python",
   "name": "python3"
  },
  "language_info": {
   "codemirror_mode": {
    "name": "ipython",
    "version": 3
   },
   "file_extension": ".py",
   "mimetype": "text/x-python",
   "name": "python",
   "nbconvert_exporter": "python",
   "pygments_lexer": "ipython3",
   "version": "3.8.8"
  },
  "orig_nbformat": 4,
  "vscode": {
   "interpreter": {
    "hash": "a077222d77dfe082b8f1dd562ad70e458ac2ab76993a0b248ab0476e32e9e8dd"
   }
  }
 },
 "nbformat": 4,
 "nbformat_minor": 2
}
