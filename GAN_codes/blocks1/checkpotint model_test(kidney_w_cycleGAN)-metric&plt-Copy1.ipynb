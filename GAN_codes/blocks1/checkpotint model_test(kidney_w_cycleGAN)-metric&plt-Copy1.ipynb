{
 "cells": [
  {
   "cell_type": "code",
   "execution_count": null,
   "metadata": {},
   "outputs": [],
   "source": [
    "!nvidia-smi"
   ]
  },
  {
   "cell_type": "code",
   "execution_count": null,
   "metadata": {},
   "outputs": [],
   "source": [
    "import tensorflow as tf\n",
    "import matplotlib.pyplot as plt\n",
    "import matplotlib.image as img\n",
    "from sklearn.metrics import mean_absolute_error\n",
    "from skimage.metrics import peak_signal_noise_ratio\n",
    "import os\n",
    "import numpy as np"
   ]
  },
  {
   "cell_type": "code",
   "execution_count": null,
   "metadata": {},
   "outputs": [],
   "source": [
    "MAEs_g_a = []\n",
    "PSNRs_g_a = []\n",
    "MS_SSIMs_g_a = []\n",
    "\n",
    "MAEs_p_a = []\n",
    "PSNRs_p_a = []\n",
    "MS_SSIMs_p_a = []"
   ]
  },
  {
   "cell_type": "code",
   "execution_count": null,
   "metadata": {},
   "outputs": [],
   "source": [
    "def MAE(img1, img2, ln):\n",
    "    img1 = tf.reshape(img1, (512,512*4))\n",
    "    img2 = tf.reshape(img2, (512,512*4))\n",
    "    mae = mean_absolute_error(img1, img2)\n",
    "    #print(\"MAE: \", mae)\n",
    "    ln.append(mae)\n",
    "    \n",
    "def PSNR(img1, img2, ln):\n",
    "    psnr = peak_signal_noise_ratio(img1, img2)\n",
    "    #print(\"PSNR: \", psnr)\n",
    "    ln.append(psnr)\n",
    "\n",
    "def MS_SSIM(img1, img2, ln):\n",
    "    \n",
    "    ms_ssim = tf.reduce_mean(tf.image.ssim_multiscale(img1, img2, 1))\n",
    "    #ms_ssim2 = tf.image.ssim_multiscale(img1, img2, 1)\n",
    "    #print(\"MS_SSIM: \", ms_ssim)\n",
    "    #print(\"MS_SSIM2: \", ms_ssim2)\n",
    "    ln.append(ms_ssim)"
   ]
  },
  {
   "cell_type": "code",
   "execution_count": null,
   "metadata": {
    "scrolled": true
   },
   "outputs": [],
   "source": [
    "\n",
    "nm = '02_01_0325_0086.png'\n",
    "#nm = '02_01_0321_0055.png'\n",
    "pt1 = '/home/ncp/workspace/blocks1/kidneyData_windowing_mass/TEST/PRE/'+nm\n",
    "pt2 = '/home/ncp/workspace/blocks1/kidneyData_windowing_mass/TEST/ART/'+nm\n",
    "#pt3 = '/home/ncp/workspace/blocks1/kidneyData_windowing/Test_data/ART/02_01_0321_0100.dcm.png'\n",
    "pt = '/home/ncp/workspace/blocks1/kidneyData_windowing_mass/TEST/GCCT-100/'+nm\n",
    "\n",
    "plt.figure(figsize=(18, 18))\n",
    "img_pre = img.imread(pt1)\n",
    "img_gcct = img.imread(pt)\n",
    "img_art = img.imread(pt2)\n",
    "\n",
    "display_list = [img_pre, img_gcct, img_art]\n",
    "title = ['Input Image(PRE)', 'Predicted Image', 'ART']\n",
    "\n",
    "for i in range(3):\n",
    "    plt.subplot(1, 3, i+1)\n",
    "    plt.title(title[i])\n",
    "    # getting the pixel values between [0, 1] to plot it.\n",
    "    #plt.imshow(display_list[i] * 0.5 + 0.5)\n",
    "    plt.imshow(display_list[i])\n",
    "    plt.axis('off')\n",
    "plt.show()"
   ]
  },
  {
   "cell_type": "code",
   "execution_count": null,
   "metadata": {},
   "outputs": [],
   "source": [
    "\n",
    "\n",
    "nm = '02_01_0151_0060.png'\n",
    "pt1 = '/home/ncp/workspace/blocks1/Classification/kidneyData_windowing/TRAIN/PRE/AML + onco/'\n",
    "pt2 = '/home/ncp/workspace/blocks1/kidneyData_windowing/Train_data/ART/'+nm\n",
    "\n",
    "plt.figure(figsize=(18, 18))\n",
    "img_pre = img.imread(pt1)\n",
    "#img_gcct = img.imread(pt3)\n",
    "img_art = img.imread(pt2)\n",
    "\n",
    "display_list = [img_pre, img_art]\n",
    "title = ['Input Image(PRE)', 'ART']\n",
    "\n",
    "for i in range(2):\n",
    "    plt.subplot(1, 2, i+1)\n",
    "    plt.title(title[i])\n",
    "    # getting the pixel values between [0, 1] to plot it.\n",
    "    #plt.imshow(display_list[i] * 0.5 + 0.5)\n",
    "    plt.imshow(display_list[i])\n",
    "    plt.axis('off')\n",
    "plt.show()"
   ]
  },
  {
   "cell_type": "code",
   "execution_count": null,
   "metadata": {},
   "outputs": [],
   "source": [
    "pa = '/home/ncp/workspace/blocks1/kidneyData_windowing/Test_data/GCCT2/'\n",
    "path = '/home/ncp/workspace/blocks1/kidneyData_windowing/Test_data/'\n",
    "f = os.listdir(pa) #Test_data/ART\n",
    "print(len(f))\n",
    "\n",
    "for fn in f:\n",
    "    pre_path = path+'PRE/'+fn\n",
    "    gcct_path =  path+'GCCT2/'+fn\n",
    "    art_path =  path+'ART/'+fn\n",
    "    pre = img.imread(pre_path)\n",
    "    gcct = img.imread(gcct_path)\n",
    "    art = img.imread(art_path)\n",
    "    #print(art)\n",
    "    MAE(art, gcct, MAEs_g_a)\n",
    "    PSNR(art, gcct, PSNRs_g_a)\n",
    "    MS_SSIM(art, gcct, MS_SSIMs_g_a)\n",
    "    MAE(art, pre, MAEs_p_a)\n",
    "    PSNR(art, pre, PSNRs_p_a)\n",
    "    MS_SSIM(art, pre, MS_SSIMs_p_a)\n"
   ]
  },
  {
   "cell_type": "code",
   "execution_count": null,
   "metadata": {},
   "outputs": [],
   "source": [
    "print(\"** GCCT - CCT(ART) **\\n\")\n",
    "print(\"MAE mean:\", np.mean(MAEs_g_a))\n",
    "print(\"MAE std\", np.std(MAEs_g_a))\n",
    "print(\"PSNR mean:\", np.mean(PSNRs_g_a))\n",
    "print(\"PSNR std\", np.std(PSNRs_g_a))\n",
    "print(\"MS_SSIM mean:\", np.mean(MS_SSIMs_g_a))\n",
    "print(\"MS_SSIM std\", np.std(MS_SSIMs_g_a))\n",
    "print(\"\\n\")\n",
    "\n",
    "print(\"**NCCT(PRE) - CCT(ART)**\\n\")\n",
    "print(\"MAE mean:\", np.mean(MAEs_p_a))\n",
    "print(\"MAE std\", np.std(MAEs_p_a))\n",
    "print(\"PSNR mean:\", np.mean(PSNRs_p_a))\n",
    "print(\"PSNR std\", np.std(PSNRs_p_a))\n",
    "print(\"MS_SSIM mean:\", np.mean(MS_SSIMs_p_a))\n",
    "print(\"MS_SSIM std\", np.std(MS_SSIMs_p_a))\n",
    "\n",
    "print(len(MAEs_g_a))\n",
    "print(len(PSNRs_g_a))\n",
    "print(len(MS_SSIMs_g_a))\n",
    "print(len(MAEs_p_a))\n",
    "print(len(PSNRs_p_a))\n",
    "print(len(MS_SSIMs_p_a))"
   ]
  },
  {
   "cell_type": "code",
   "execution_count": null,
   "metadata": {},
   "outputs": [],
   "source": [
    "#os.removedirs('/home/ncp/workspace/blocks1/kidneyData_windowing/Train_data/PRE/.ipynb_checkpoints')"
   ]
  },
  {
   "cell_type": "code",
   "execution_count": null,
   "metadata": {},
   "outputs": [],
   "source": [
    "print(\"-----GCCT2-----\")\n",
    "print(\"** GCCT - CCT(ART) **\\n\")\n",
    "print(\"MAE mean:\", np.mean(MAEs_g_a))\n",
    "print(\"MAE std\", np.std(MAEs_g_a))\n",
    "print(\"PSNR mean:\", np.mean(PSNRs_g_a))\n",
    "print(\"PSNR std\", np.std(PSNRs_g_a))\n",
    "print(\"MS_SSIM mean:\", np.mean(MS_SSIMs_g_a))\n",
    "print(\"MS_SSIM std\", np.std(MS_SSIMs_g_a))\n",
    "print(\"\\n\")\n",
    "\n",
    "print(\"**NCCT(PRE) - CCT(ART)**\\n\")\n",
    "print(\"MAE mean:\", np.mean(MAEs_p_a))\n",
    "print(\"MAE std\", np.std(MAEs_p_a))\n",
    "print(\"PSNR mean:\", np.mean(PSNRs_p_a))\n",
    "print(\"PSNR std\", np.std(PSNRs_p_a))\n",
    "print(\"MS_SSIM mean:\", np.mean(MS_SSIMs_p_a))\n",
    "print(\"MS_SSIM std\", np.std(MS_SSIMs_p_a))\n",
    "\n",
    "print(len(MAEs_g_a))\n",
    "print(len(PSNRs_g_a))\n",
    "print(len(MS_SSIMs_g_a))\n",
    "print(len(MAEs_p_a))\n",
    "print(len(PSNRs_p_a))\n",
    "print(len(MS_SSIMs_p_a))"
   ]
  },
  {
   "cell_type": "code",
   "execution_count": null,
   "metadata": {},
   "outputs": [],
   "source": []
  }
 ],
 "metadata": {
  "kernelspec": {
   "display_name": "ddd",
   "language": "python",
   "name": "ddd"
  },
  "language_info": {
   "codemirror_mode": {
    "name": "ipython",
    "version": 3
   },
   "file_extension": ".py",
   "mimetype": "text/x-python",
   "name": "python",
   "nbconvert_exporter": "python",
   "pygments_lexer": "ipython3",
   "version": "3.6.13"
  }
 },
 "nbformat": 4,
 "nbformat_minor": 2
}
