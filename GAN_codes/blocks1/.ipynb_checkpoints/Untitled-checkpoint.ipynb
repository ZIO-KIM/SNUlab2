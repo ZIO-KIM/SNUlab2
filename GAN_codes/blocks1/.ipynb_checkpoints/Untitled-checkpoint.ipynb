{
 "cells": [
  {
   "cell_type": "code",
   "execution_count": 2,
   "metadata": {},
   "outputs": [],
   "source": [
    "from PIL import Image\n",
    "import torch\n",
    "import torchvision\n",
    "import torchvision.transforms as transforms"
   ]
  },
  {
   "cell_type": "code",
   "execution_count": null,
   "metadata": {},
   "outputs": [],
   "source": [
    "model = torchvision.models.resnet50(pretrained=True)\n",
    "\n",
    "normalize = transforms.Normalize(mean=(0.485, 0.456, 0.406),\n",
    "                                std=(0.229, 0.224, 0.225))\n",
    "inv_normalize = transforms.Normlize(mean=(-0.485/0.229, -0.456/0.224, -0.406/0.225),\n",
    "                                   std=(1/0.229, 1/0.224, 1/0.225))\n",
    "transform = transforms.Compose([\n",
    "    transforms.Resize((224, 224)),\n",
    "    transforms.ToTensor(),\n",
    "    normalize\n",
    "])"
   ]
  },
  {
   "cell_type": "code",
   "execution_count": null,
   "metadata": {},
   "outputs": [],
   "source": [
    "import numpy as np\n",
    "import matplotlib.pyplot as plt\n",
    "\n",
    "def saliency(img, model):\n",
    "    \n",
    "    for param in model.parameters():\n",
    "        param.requires_grad = False\n",
    "    \n",
    "    model.eval()\n",
    "    source = transform(img)\n",
    "    source.unsqueeze_(0)\n",
    "    \n",
    "    source.reguires_grad = True\n",
    "    \n",
    "    preds = model(source)\n",
    "    score, indices = torch.max(preds, 1)\n",
    "    score.backward()\n",
    "    slc, _ = torch.max(torch.abs(source.grad[0]), dim=0)\n",
    "    \n",
    "    slc = (slc - slc.min())/(slc.max() - slc.min())\n",
    "    \n",
    "    with torch.no_grad():\n",
    "        input_img = inv_normalize(source[0])\n",
    "    \n",
    "    plt.figure(figsize=(10, 10))\n",
    "    plt.subplot(1, 2, 1)\n",
    "    plt.imshow(np.transpose(input_img.detach().numpy()), (1, 2, 0))\n",
    "    plt.xticks([])\n",
    "    plt.yticks([])\n",
    "    plt.subplot(1, 2, 2)\n",
    "    plt.imshow(slc.numpy(), cmap=plt.cm.hot)\n",
    "    plt.xticks([])\n",
    "    plt.yticks([])\n",
    "    plt.show()"
   ]
  }
 ],
 "metadata": {
  "kernelspec": {
   "display_name": "Python 3",
   "language": "python",
   "name": "python3"
  },
  "language_info": {
   "codemirror_mode": {
    "name": "ipython",
    "version": 3
   },
   "file_extension": ".py",
   "mimetype": "text/x-python",
   "name": "python",
   "nbconvert_exporter": "python",
   "pygments_lexer": "ipython3",
   "version": "3.7.1"
  }
 },
 "nbformat": 4,
 "nbformat_minor": 2
}
