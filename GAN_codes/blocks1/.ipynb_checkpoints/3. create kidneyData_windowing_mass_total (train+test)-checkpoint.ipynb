{
 "cells": [
  {
   "cell_type": "code",
   "execution_count": 1,
   "metadata": {},
   "outputs": [],
   "source": [
    "import os\n",
    "import shutil"
   ]
  },
  {
   "cell_type": "code",
   "execution_count": 4,
   "metadata": {},
   "outputs": [],
   "source": [
    "# loop through folders and merge\n",
    "# kidneyData_windowing_mass_total 폴더는 만들고 돌려야 함\n",
    "\n",
    "def makedir(path): \n",
    "    if not os.path.exists(path): \n",
    "        os.mkdir(path)\n",
    "        \n",
    "dir = '/home/ncp/workspace/blocks1/kidneyData_windowing_mass_total/'\n",
    "makedir(os.path.join(dir, \"ART\"))\n",
    "makedir(os.path.join(dir, \"PRE\"))\n",
    "\n",
    "new_ART_path = '/home/ncp/workspace/blocks1/kidneyData_windowing_mass_total/ART/'\n",
    "new_PRE_path = '/home/ncp/workspace/blocks1/kidneyData_windowing_mass_total/PRE/'\n",
    "\n",
    "ART_train_path = '/home/ncp/workspace/blocks1/kidneyData_windowing_mass/TRAIN/ART/'\n",
    "ART_train_list = os.listdir(ART_train_path)\n",
    "ART_test_path = '/home/ncp/workspace/blocks1/kidneyData_windowing_mass/TEST/ART/'\n",
    "ART_test_list = os.listdir(ART_test_path)\n",
    "\n",
    "PRE_train_path = '/home/ncp/workspace/blocks1/kidneyData_windowing_mass/TRAIN/PRE/'\n",
    "PRE_train_list = os.listdir(PRE_train_path)\n",
    "PRE_test_path = '/home/ncp/workspace/blocks1/kidneyData_windowing_mass/TEST/PRE/'\n",
    "PRE_test_list = os.listdir(PRE_test_path)\n",
    "\n",
    "# ART\n",
    "for files in ART_train_list: \n",
    "    shutil.copy(ART_train_path + files, new_ART_path + files)\n",
    "for files in ART_test_list: \n",
    "    shutil.copy(ART_test_path + files, new_ART_path + files)\n",
    "    \n",
    "# PRE\n",
    "for files in PRE_train_list: \n",
    "    shutil.copy(PRE_train_path + files, new_PRE_path + files)\n",
    "for files in PRE_test_list: \n",
    "    shutil.copy(PRE_test_path + files, new_PRE_path + files)"
   ]
  },
  {
   "cell_type": "code",
   "execution_count": 5,
   "metadata": {},
   "outputs": [
    {
     "name": "stdout",
     "output_type": "stream",
     "text": [
      "ART : 2710\n",
      "PRE : 2689\n"
     ]
    }
   ],
   "source": [
    "# kidneyData_windowing_mass_total len check\n",
    "\n",
    "path = '/home/ncp/workspace/blocks1/kidneyData_windowing_mass_total/'\n",
    "\n",
    "print('ART :', len(os.listdir(path + 'ART')))\n",
    "print('PRE :', len(os.listdir(path + 'PRE')))"
   ]
  },
  {
   "cell_type": "code",
   "execution_count": null,
   "metadata": {},
   "outputs": [],
   "source": []
  }
 ],
 "metadata": {
  "kernelspec": {
   "display_name": "main_env",
   "language": "python",
   "name": "main_env"
  },
  "language_info": {
   "codemirror_mode": {
    "name": "ipython",
    "version": 3
   },
   "file_extension": ".py",
   "mimetype": "text/x-python",
   "name": "python",
   "nbconvert_exporter": "python",
   "pygments_lexer": "ipython3",
   "version": "3.6.13"
  }
 },
 "nbformat": 4,
 "nbformat_minor": 2
}
