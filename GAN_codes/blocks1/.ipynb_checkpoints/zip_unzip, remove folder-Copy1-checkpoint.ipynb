{
 "cells": [
  {
   "cell_type": "code",
   "execution_count": 1,
   "metadata": {},
   "outputs": [],
   "source": [
    "import tensorflow as tf"
   ]
  },
  {
   "cell_type": "code",
   "execution_count": 2,
   "metadata": {},
   "outputs": [
    {
     "data": {
      "text/plain": [
       "'2.2.0'"
      ]
     },
     "execution_count": 2,
     "metadata": {},
     "output_type": "execute_result"
    }
   ],
   "source": [
    "tf.__version__"
   ]
  },
  {
   "cell_type": "code",
   "execution_count": 11,
   "metadata": {},
   "outputs": [],
   "source": [
    "#unzip\n",
    "\n",
    "import zipfile as zf\n",
    "\n",
    "files = zf.ZipFile(\"./StarGAN/stargan_celeba_128/models/celeba-128x128-5attrs.zip\", 'r')\n",
    "files.extractall('./StarGAN/stargan_celeba_128/models/celeba-128x128-5attrs')\n",
    "files.close()"
   ]
  },
  {
   "cell_type": "code",
   "execution_count": null,
   "metadata": {},
   "outputs": [],
   "source": [
    "celeba-128x128-5attrs.zip"
   ]
  },
  {
   "cell_type": "code",
   "execution_count": 7,
   "metadata": {},
   "outputs": [
    {
     "name": "stdout",
     "output_type": "stream",
     "text": [
      "/home/ncp/workspace/blocks1/kidneyData_windowing_mass/Train_data\n"
     ]
    }
   ],
   "source": [
    "cd /home/ncp/workspace/blocks1/kidneyData_windowing_mass/Train_data"
   ]
  },
  {
   "cell_type": "code",
   "execution_count": 1,
   "metadata": {},
   "outputs": [
    {
     "data": {
      "text/plain": [
       "'/home/ncp/workspace/blocks1/kidneyData_windowing_half1.zip'"
      ]
     },
     "execution_count": 1,
     "metadata": {},
     "output_type": "execute_result"
    }
   ],
   "source": [
    "#zip\n",
    "import shutil\n",
    "shutil.make_archive('kidneyData_windowing_half1', 'zip', '/home/ncp/workspace/blocks1/kidneyData_windowing_half1')"
   ]
  },
  {
   "cell_type": "code",
   "execution_count": 2,
   "metadata": {},
   "outputs": [
    {
     "data": {
      "text/plain": [
       "'/home/ncp/workspace/blocks1/kidneyData_windowing_half2.zip'"
      ]
     },
     "execution_count": 2,
     "metadata": {},
     "output_type": "execute_result"
    }
   ],
   "source": [
    "#zip\n",
    "import shutil\n",
    "shutil.make_archive('kidneyData_windowing_half2', 'zip', 'kidneyData_windowing_half2')"
   ]
  },
  {
   "cell_type": "code",
   "execution_count": 6,
   "metadata": {},
   "outputs": [
    {
     "name": "stdout",
     "output_type": "stream",
     "text": [
      "Collecting zip\n",
      "  Downloading zip-0.0.2.tar.gz (3.0 kB)\n",
      "Collecting Flask-Admin>=1.0.4\n",
      "  Downloading Flask-Admin-1.6.0.tar.gz (6.6 MB)\n",
      "\u001b[K     |████████████████████████████████| 6.6 MB 14.1 MB/s eta 0:00:01\n",
      "\u001b[?25hCollecting Flask-Bootstrap>=2.2.2-1\n",
      "  Downloading Flask-Bootstrap-3.3.7.1.tar.gz (456 kB)\n",
      "\u001b[K     |████████████████████████████████| 456 kB 71.9 MB/s eta 0:00:01\n",
      "\u001b[?25hCollecting Flask-Cache>=0.10.1\n",
      "  Downloading Flask-Cache-0.13.1.tar.gz (45 kB)\n",
      "\u001b[K     |████████████████████████████████| 45 kB 7.5 MB/s  eta 0:00:01\n",
      "\u001b[?25hCollecting Flask-FlatPages>=0.3\n",
      "  Downloading Flask_FlatPages-0.8.1-py2.py3-none-any.whl (10 kB)\n",
      "Collecting Flask-Gravatar>=0.2.4\n",
      "  Downloading Flask_Gravatar-0.5.0-py2.py3-none-any.whl (7.5 kB)\n",
      "Collecting Flask-Login>=0.1.3\n",
      "  Downloading Flask_Login-0.5.0-py2.py3-none-any.whl (16 kB)\n",
      "Collecting Flask-Mail>=0.7.4\n",
      "  Downloading Flask-Mail-0.9.1.tar.gz (45 kB)\n",
      "\u001b[K     |████████████████████████████████| 45 kB 8.0 MB/s  eta 0:00:01\n",
      "\u001b[?25hCollecting Flask-PyMongo>=0.2.1\n",
      "  Downloading Flask_PyMongo-2.3.0-py2.py3-none-any.whl (12 kB)\n",
      "Collecting Flask-Restless>=0.9.1\n",
      "  Downloading Flask-Restless-0.17.0.tar.gz (42 kB)\n",
      "\u001b[K     |████████████████████████████████| 42 kB 3.2 MB/s  eta 0:00:01\n",
      "\u001b[?25hCollecting Flask-SQLAlchemy>=0.16\n",
      "  Downloading Flask_SQLAlchemy-2.5.1-py2.py3-none-any.whl (17 kB)\n",
      "Collecting Flask-Themes>=0.1.3\n",
      "  Downloading Flask-Themes-0.1.3.tar.gz (9.7 kB)\n",
      "Collecting Flask-Uploads>=0.1.3\n",
      "  Downloading Flask-Uploads-0.2.1.tar.gz (7.6 kB)\n",
      "Collecting Flask-WTF>=0.8.2\n",
      "  Downloading Flask_WTF-1.0.1-py3-none-any.whl (12 kB)\n",
      "Collecting Flask>=0.9\n",
      "  Downloading Flask-2.0.3-py3-none-any.whl (95 kB)\n",
      "\u001b[K     |████████████████████████████████| 95 kB 9.6 MB/s  eta 0:00:01\n",
      "\u001b[?25hCollecting frozen-flask\n",
      "  Downloading Frozen_Flask-0.18-py3-none-any.whl (21 kB)\n",
      "Requirement already satisfied: Jinja2>=2.6 in /opt/conda/envs/ddd/lib/python3.6/site-packages (from zip) (3.0.3)\n",
      "Requirement already satisfied: Markdown>=2.2.1 in /opt/conda/envs/ddd/lib/python3.6/site-packages (from zip) (3.3.4)\n",
      "Requirement already satisfied: PyYAML>=3.11 in /opt/conda/envs/ddd/lib/python3.6/site-packages (from zip) (5.4.1)\n",
      "Collecting SQLAlchemy>=0.8.0b2\n",
      "  Downloading SQLAlchemy-1.4.39-cp36-cp36m-manylinux_2_5_x86_64.manylinux1_x86_64.manylinux_2_17_x86_64.manylinux2014_x86_64.whl (1.6 MB)\n",
      "\u001b[K     |████████████████████████████████| 1.6 MB 77.6 MB/s eta 0:00:01\n",
      "\u001b[?25hCollecting Sphinx>=1.3.1\n",
      "  Using cached Sphinx-5.0.2-py3-none-any.whl (3.1 MB)\n",
      "Collecting WTForms>=1.0.3\n",
      "  Downloading WTForms-3.0.0-py3-none-any.whl (136 kB)\n",
      "\u001b[K     |████████████████████████████████| 136 kB 85.3 MB/s eta 0:00:01\n",
      "\u001b[?25hRequirement already satisfied: Werkzeug>=0.8.3 in /opt/conda/envs/ddd/lib/python3.6/site-packages (from zip) (2.0.3)\n",
      "Collecting argparse>=1.2.1\n",
      "  Downloading argparse-1.4.0-py2.py3-none-any.whl (23 kB)\n",
      "Requirement already satisfied: blinker>=1.2 in /opt/conda/envs/ddd/lib/python3.6/site-packages (from zip) (1.4)\n",
      "Collecting bumpversion>=0.5.3\n",
      "  Downloading bumpversion-0.6.0-py2.py3-none-any.whl (8.4 kB)\n",
      "Requirement already satisfied: click>=6.3 in /opt/conda/envs/ddd/lib/python3.6/site-packages (from zip) (8.0.3)\n",
      "Requirement already satisfied: colorama>=0.3.7 in /opt/conda/envs/ddd/lib/python3.6/site-packages (from zip) (0.4.4)\n",
      "Requirement already satisfied: coverage>=4.0 in /opt/conda/envs/ddd/lib/python3.6/site-packages (from zip) (5.5)\n",
      "Requirement already satisfied: cryptography>=1.0.1 in /opt/conda/envs/ddd/lib/python3.6/site-packages (from zip) (3.4.7)\n",
      "Collecting flake8>=2.4.1\n",
      "  Using cached flake8-4.0.1-py2.py3-none-any.whl (64 kB)\n",
      "Requirement already satisfied: networkx>=1.11 in /opt/conda/envs/ddd/lib/python3.6/site-packages (from zip) (2.5.1)\n",
      "Collecting pymongo>=2.5.1\n",
      "  Downloading pymongo-4.1.1-cp36-cp36m-manylinux_2_17_x86_64.manylinux2014_x86_64.whl (462 kB)\n",
      "\u001b[K     |████████████████████████████████| 462 kB 81.9 MB/s eta 0:00:01\n",
      "\u001b[?25hCollecting pytest>=2.8.3\n",
      "  Downloading pytest-7.0.1-py3-none-any.whl (296 kB)\n",
      "\u001b[K     |████████████████████████████████| 296 kB 79.0 MB/s eta 0:00:01\n",
      "\u001b[?25hRequirement already satisfied: python-dateutil>=1.5 in /opt/conda/envs/ddd/lib/python3.6/site-packages (from zip) (2.8.2)\n",
      "Requirement already satisfied: six>=1.10.0 in /opt/conda/envs/ddd/lib/python3.6/site-packages (from zip) (1.16.0)\n",
      "Collecting tox>=2.1.1\n",
      "  Downloading tox-3.25.1-py2.py3-none-any.whl (85 kB)\n",
      "\u001b[K     |████████████████████████████████| 85 kB 10.3 MB/s eta 0:00:01\n",
      "\u001b[?25hCollecting watchdog>=0.8.3\n",
      "  Using cached watchdog-2.1.9-py3-none-manylinux2014_x86_64.whl (78 kB)\n",
      "Requirement already satisfied: wheel>=0.23.0 in /opt/conda/envs/ddd/lib/python3.6/site-packages (from zip) (0.37.1)\n",
      "Collecting wsgiref>=0.1.2\n",
      "  Downloading wsgiref-0.1.2.zip (37 kB)\n",
      "\u001b[31m    ERROR: Command errored out with exit status 1:\n",
      "     command: /opt/conda/envs/ddd/bin/python -c 'import io, os, sys, setuptools, tokenize; sys.argv[0] = '\"'\"'/var/tmp/pip-install-_zuhk_da/wsgiref_12ec5a0e5b4f46a6a089e3fba4fc725b/setup.py'\"'\"'; __file__='\"'\"'/var/tmp/pip-install-_zuhk_da/wsgiref_12ec5a0e5b4f46a6a089e3fba4fc725b/setup.py'\"'\"';f = getattr(tokenize, '\"'\"'open'\"'\"', open)(__file__) if os.path.exists(__file__) else io.StringIO('\"'\"'from setuptools import setup; setup()'\"'\"');code = f.read().replace('\"'\"'\\r\\n'\"'\"', '\"'\"'\\n'\"'\"');f.close();exec(compile(code, __file__, '\"'\"'exec'\"'\"'))' egg_info --egg-base /var/tmp/pip-pip-egg-info-gzne_a4q\n",
      "         cwd: /var/tmp/pip-install-_zuhk_da/wsgiref_12ec5a0e5b4f46a6a089e3fba4fc725b/\n",
      "    Complete output (8 lines):\n",
      "    Traceback (most recent call last):\n",
      "      File \"<string>\", line 1, in <module>\n",
      "      File \"/var/tmp/pip-install-_zuhk_da/wsgiref_12ec5a0e5b4f46a6a089e3fba4fc725b/setup.py\", line 5, in <module>\n",
      "        import ez_setup\n",
      "      File \"/var/tmp/pip-install-_zuhk_da/wsgiref_12ec5a0e5b4f46a6a089e3fba4fc725b/ez_setup/__init__.py\", line 170\n",
      "        print \"Setuptools version\",version,\"or greater has been installed.\"\n",
      "                                 ^\n",
      "    SyntaxError: Missing parentheses in call to 'print'. Did you mean print(\"Setuptools version\",version,\"or greater has been installed.\")?\n",
      "    ----------------------------------------\u001b[0m\n",
      "\u001b[33mWARNING: Discarding https://files.pythonhosted.org/packages/41/9e/309259ce8dff8c596e8c26df86dbc4e848b9249fd36797fd60be456f03fc/wsgiref-0.1.2.zip#sha256=c7e610c800957046c04c8014aab8cce8f0b9f0495c8cd349e57c1f7cabf40e79 (from https://pypi.org/simple/wsgiref/). Command errored out with exit status 1: python setup.py egg_info Check the logs for full command output.\u001b[0m\n",
      "Collecting zip\n",
      "  Downloading zip-0.0.1.tar.gz (2.3 kB)\n",
      "\u001b[31m    ERROR: Command errored out with exit status 1:\n",
      "     command: /opt/conda/envs/ddd/bin/python -c 'import io, os, sys, setuptools, tokenize; sys.argv[0] = '\"'\"'/var/tmp/pip-install-_zuhk_da/zip_b48b355a8f08466395c0255b5acb2c58/setup.py'\"'\"'; __file__='\"'\"'/var/tmp/pip-install-_zuhk_da/zip_b48b355a8f08466395c0255b5acb2c58/setup.py'\"'\"';f = getattr(tokenize, '\"'\"'open'\"'\"', open)(__file__) if os.path.exists(__file__) else io.StringIO('\"'\"'from setuptools import setup; setup()'\"'\"');code = f.read().replace('\"'\"'\\r\\n'\"'\"', '\"'\"'\\n'\"'\"');f.close();exec(compile(code, __file__, '\"'\"'exec'\"'\"'))' egg_info --egg-base /var/tmp/pip-pip-egg-info-9lb8_2qm\n",
      "         cwd: /var/tmp/pip-install-_zuhk_da/zip_b48b355a8f08466395c0255b5acb2c58/\n",
      "    Complete output (5 lines):\n",
      "    Traceback (most recent call last):\n",
      "      File \"<string>\", line 1, in <module>\n",
      "      File \"/var/tmp/pip-install-_zuhk_da/zip_b48b355a8f08466395c0255b5acb2c58/setup.py\", line 4, in <module>\n",
      "        from pip.req import parse_requirements\n",
      "    ModuleNotFoundError: No module named 'pip.req'\n",
      "    ----------------------------------------\u001b[0m\n",
      "\u001b[33mWARNING: Discarding https://files.pythonhosted.org/packages/b1/e7/212bf1ce8d65b357c337da56934922d18c3845127e8a188182266157c663/zip-0.0.1.tar.gz#sha256=970ba619ab742b5023ff1dbe88ed82b150dacbbad28aacf4a5ec18c54639988e (from https://pypi.org/simple/zip/). Command errored out with exit status 1: python setup.py egg_info Check the logs for full command output.\u001b[0m\n",
      "\u001b[31mERROR: Could not find a version that satisfies the requirement wsgiref>=0.1.2 (from zip) (from versions: 0.1, 0.1.1, 0.1.2)\u001b[0m\n",
      "\u001b[31mERROR: No matching distribution found for wsgiref>=0.1.2\u001b[0m\n"
     ]
    },
    {
     "name": "stdout",
     "output_type": "stream",
     "text": [
      "Note: you may need to restart the kernel to use updated packages.\n"
     ]
    }
   ],
   "source": [
    "pip install zip"
   ]
  },
  {
   "cell_type": "code",
   "execution_count": 8,
   "metadata": {},
   "outputs": [],
   "source": [
    "#remove folder\n",
    "import shutil\n",
    "\n",
    "shutil.rmtree('/home/ncp/workspace/blocks1/celeba')"
   ]
  },
  {
   "cell_type": "code",
   "execution_count": 9,
   "metadata": {},
   "outputs": [],
   "source": [
    "from tensorflow.keras import backend\n",
    "backend.clear_session()"
   ]
  },
  {
   "cell_type": "code",
   "execution_count": 18,
   "metadata": {},
   "outputs": [
    {
     "name": "stdout",
     "output_type": "stream",
     "text": [
      "[Errno 2] No such file or directory: 'blocks1/Classification'\n",
      "/home/ncp/workspace/blocks1/Classification/kidneyData_windowing\n"
     ]
    }
   ],
   "source": [
    "cd blocks1/Classification"
   ]
  },
  {
   "cell_type": "code",
   "execution_count": 19,
   "metadata": {},
   "outputs": [
    {
     "name": "stdout",
     "output_type": "stream",
     "text": [
      "/home/ncp/workspace/blocks1/Classification\n"
     ]
    }
   ],
   "source": [
    "cd .."
   ]
  },
  {
   "cell_type": "code",
   "execution_count": 20,
   "metadata": {},
   "outputs": [
    {
     "name": "stdout",
     "output_type": "stream",
     "text": [
      "0627-Copy1.ipynb                        \u001b[0m\u001b[01;34mkidneyData_windowing\u001b[0m/\r\n",
      "0722_Kidney Classification-Copy1.ipynb  kidneyData_windowing.zip\r\n",
      "0816_3D classification-Copy1.ipynb\r\n"
     ]
    }
   ],
   "source": [
    "ls"
   ]
  },
  {
   "cell_type": "code",
   "execution_count": null,
   "metadata": {},
   "outputs": [],
   "source": []
  }
 ],
 "metadata": {
  "kernelspec": {
   "display_name": "ddd",
   "language": "python",
   "name": "ddd"
  },
  "language_info": {
   "codemirror_mode": {
    "name": "ipython",
    "version": 3
   },
   "file_extension": ".py",
   "mimetype": "text/x-python",
   "name": "python",
   "nbconvert_exporter": "python",
   "pygments_lexer": "ipython3",
   "version": "3.6.13"
  }
 },
 "nbformat": 4,
 "nbformat_minor": 2
}
