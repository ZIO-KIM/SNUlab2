{
 "cells": [
  {
   "cell_type": "code",
   "execution_count": 1,
   "metadata": {},
   "outputs": [],
   "source": [
    "import numpy as np\n",
    "#import cv2, pydicom\n",
    "import os\n",
    "import pydicom\n",
    "import matplotlib.pyplot as plt\n",
    "from pydicom.pixel_data_handlers.util import apply_modality_lut, apply_voi_lut, apply_windowing"
   ]
  },
  {
   "cell_type": "code",
   "execution_count": 2,
   "metadata": {},
   "outputs": [],
   "source": [
    "os.environ[\"CUDA_VISIBLE_DEVICES\"] = \"1\""
   ]
  },
  {
   "cell_type": "code",
   "execution_count": 3,
   "metadata": {},
   "outputs": [],
   "source": [
    "window_center = 50\n",
    "window_width = 350"
   ]
  },
  {
   "cell_type": "code",
   "execution_count": 4,
   "metadata": {},
   "outputs": [],
   "source": [
    "path = '/home/ncp/workspace/202002n035/035.신장암 진단을 위한 의료 영상 데이터/01.데이터/신장암2/2.Validation/원천데이터/'"
   ]
  },
  {
   "cell_type": "code",
   "execution_count": 5,
   "metadata": {},
   "outputs": [],
   "source": [
    "#Except patient no. 323\n",
    "\n",
    "for f in range(321,323): \n",
    "    if f < 10:\n",
    "        folder = '02_01_000{}'.format(f)\n",
    "    elif f < 100:\n",
    "        folder = '02_01_00{}'.format(f)\n",
    "    else:\n",
    "        folder = '02_01_0{}'.format(f)\n",
    "    path_ = path + folder \n",
    "    dicom_path = path_+'/'+folder+'_ART/'\n",
    "    file_names = os.listdir(dicom_path)\n",
    "    #print(file_names) #['0002.dcm', '0004.dcm', \n",
    "    #print(folder)#02_01_0001\n",
    "    for name in file_names:\n",
    "        #print(folder+\"_\"+name+'.png') #02_01_0006_0062.DCM.png\n",
    "        #print(dicom_path+name)#full\n",
    "        \n",
    "        slice = pydicom.read_file(dicom_path+name)\n",
    "        s = int(slice.RescaleSlope) #slope\n",
    "        b = int(slice.RescaleIntercept) #intercept\n",
    "        ct_image = s * slice.pixel_array + b\n",
    "    \n",
    "        slice.WindowCenter = window_center\n",
    "        slice.WindowWidth = window_width\n",
    "    \n",
    "        w_img = apply_windowing(ct_image, slice)\n",
    "   \n",
    "        plt.imsave('/home/ncp/workspace/blocks1/kidneyData_windowing/TEST/ART/'+folder+\"_\"+name[0:4]+'.png', w_img,  cmap='gray')"
   ]
  },
  {
   "cell_type": "code",
   "execution_count": 6,
   "metadata": {},
   "outputs": [],
   "source": [
    "for f in range(324,361): \n",
    "    if f < 10:\n",
    "        folder = '02_01_000{}'.format(f)\n",
    "    elif f < 100:\n",
    "        folder = '02_01_00{}'.format(f)\n",
    "    else:\n",
    "        folder = '02_01_0{}'.format(f)\n",
    "    path_ = path + folder \n",
    "    dicom_path = path_+'/'+folder+'_ART/'\n",
    "    file_names = os.listdir(dicom_path)\n",
    "    #print(file_names) #['0002.dcm', '0004.dcm', \n",
    "    #print(folder)#02_01_0001\n",
    "    for name in file_names:\n",
    "        #print(folder+\"_\"+name+'.png') #02_01_0006_0062.DCM.png\n",
    "        #print(dicom_path+name)#full\n",
    "        \n",
    "        slice = pydicom.read_file(dicom_path+name)\n",
    "        s = int(slice.RescaleSlope) #slope\n",
    "        b = int(slice.RescaleIntercept) #intercept\n",
    "        ct_image = s * slice.pixel_array + b\n",
    "    \n",
    "        slice.WindowCenter = window_center\n",
    "        slice.WindowWidth = window_width\n",
    "    \n",
    "        w_img = apply_windowing(ct_image, slice)\n",
    "   \n",
    "        plt.imsave('/home/ncp/workspace/blocks1/kidneyData_windowing/TEST/ART/'+folder+\"_\"+name[0:4]+'.png', w_img,  cmap='gray')"
   ]
  },
  {
   "cell_type": "code",
   "execution_count": 7,
   "metadata": {},
   "outputs": [],
   "source": [
    "for f in range(321,323): \n",
    "    if f < 10:\n",
    "        folder = '02_01_000{}'.format(f)\n",
    "    elif f < 100:\n",
    "        folder = '02_01_00{}'.format(f)\n",
    "    else:\n",
    "        folder = '02_01_0{}'.format(f)\n",
    "    path_ = path + folder \n",
    "    dicom_path = path_+'/'+folder+'_PRE/'\n",
    "    file_names = os.listdir(dicom_path)\n",
    "    #print(file_names) #['0002.dcm', '0004.dcm', \n",
    "    #print(folder)#02_01_0001\n",
    "    for name in file_names:\n",
    "        #print(folder+\"_\"+name+'.png') #02_01_0006_0062.DCM.png\n",
    "        #print(dicom_path+name)#full\n",
    "        \n",
    "        slice = pydicom.read_file(dicom_path+name)\n",
    "        s = int(slice.RescaleSlope) #slope\n",
    "        b = int(slice.RescaleIntercept) #intercept\n",
    "        ct_image = s * slice.pixel_array + b\n",
    "    \n",
    "        slice.WindowCenter = window_center\n",
    "        slice.WindowWidth = window_width\n",
    "    \n",
    "        w_img = apply_windowing(ct_image, slice)\n",
    "        plt.imsave('/home/ncp/workspace/blocks1/kidneyData_windowing/TEST/PRE/'+folder+\"_\"+name[0:4]+'.png', w_img,  cmap='gray')"
   ]
  },
  {
   "cell_type": "code",
   "execution_count": 8,
   "metadata": {},
   "outputs": [],
   "source": [
    "for f in range(324,361): \n",
    "    if f < 10:\n",
    "        folder = '02_01_000{}'.format(f)\n",
    "    elif f < 100:\n",
    "        folder = '02_01_00{}'.format(f)\n",
    "    else:\n",
    "        folder = '02_01_0{}'.format(f)\n",
    "    path_ = path + folder \n",
    "    dicom_path = path_+'/'+folder+'_PRE/'\n",
    "    file_names = os.listdir(dicom_path)\n",
    "    #print(file_names) #['0002.dcm', '0004.dcm', \n",
    "    #print(folder)#02_01_0001\n",
    "    for name in file_names:\n",
    "        #print(folder+\"_\"+name+'.png') #02_01_0006_0062.DCM.png\n",
    "        #print(dicom_path+name)#full\n",
    "        \n",
    "        slice = pydicom.read_file(dicom_path+name)\n",
    "        s = int(slice.RescaleSlope) #slope\n",
    "        b = int(slice.RescaleIntercept) #intercept\n",
    "        ct_image = s * slice.pixel_array + b\n",
    "    \n",
    "        slice.WindowCenter = window_center\n",
    "        slice.WindowWidth = window_width\n",
    "    \n",
    "        w_img = apply_windowing(ct_image, slice)\n",
    "        plt.imsave('/home/ncp/workspace/blocks1/kidneyData_windowing/TEST/PRE/'+folder+\"_\"+name[0:4]+'.png', w_img,  cmap='gray')"
   ]
  },
  {
   "cell_type": "code",
   "execution_count": 9,
   "metadata": {},
   "outputs": [
    {
     "name": "stdout",
     "output_type": "stream",
     "text": [
      "/home/ncp/workspace/blocks1/kidneyData_windowing/TEST/ART\n"
     ]
    }
   ],
   "source": [
    "cd kidneyData_windowing/TEST/ART"
   ]
  },
  {
   "cell_type": "code",
   "execution_count": null,
   "metadata": {},
   "outputs": [],
   "source": []
  }
 ],
 "metadata": {
  "kernelspec": {
   "display_name": "main_env",
   "language": "python",
   "name": "main_env"
  },
  "language_info": {
   "codemirror_mode": {
    "name": "ipython",
    "version": 3
   },
   "file_extension": ".py",
   "mimetype": "text/x-python",
   "name": "python",
   "nbconvert_exporter": "python",
   "pygments_lexer": "ipython3",
   "version": "3.6.13"
  }
 },
 "nbformat": 4,
 "nbformat_minor": 2
}
