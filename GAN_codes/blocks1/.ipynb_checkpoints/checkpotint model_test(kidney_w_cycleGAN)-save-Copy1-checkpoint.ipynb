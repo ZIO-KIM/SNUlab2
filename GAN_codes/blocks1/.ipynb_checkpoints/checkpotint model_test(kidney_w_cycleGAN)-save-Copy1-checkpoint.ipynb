{
 "cells": [
  {
   "cell_type": "code",
   "execution_count": null,
   "metadata": {
    "scrolled": true
   },
   "outputs": [],
   "source": [
    "import tensorflow as tf\n",
    "import tensorflow_datasets as tfds\n",
    "from tensorflow_examples.models.pix2pix import pix2pix\n",
    "\n",
    "import os\n",
    "import time\n",
    "import matplotlib.pyplot as plt\n",
    "from IPython.display import clear_output\n",
    "\n",
    "#AUTOTUNE = tf.data.AUTOTUNE\n",
    "AUTOTUNE = tf.data.experimental.AUTOTUNE"
   ]
  },
  {
   "cell_type": "code",
   "execution_count": null,
   "metadata": {},
   "outputs": [],
   "source": [
    "os.environ[\"CUDA_VISIBLE_DEVICES\"] = \"0\""
   ]
  },
  {
   "cell_type": "code",
   "execution_count": null,
   "metadata": {},
   "outputs": [],
   "source": [
    "!nvidia-smi"
   ]
  },
  {
   "cell_type": "code",
   "execution_count": null,
   "metadata": {},
   "outputs": [],
   "source": [
    "#from tensorflow.python.client import device_lib"
   ]
  },
  {
   "cell_type": "code",
   "execution_count": null,
   "metadata": {},
   "outputs": [],
   "source": [
    "#device_lib.list_local_devices()"
   ]
  },
  {
   "cell_type": "code",
   "execution_count": null,
   "metadata": {},
   "outputs": [],
   "source": [
    "#p1 = '/home/ncp/workspace/blocks1/kidneyData_windowing/Train_data/ART/'\n",
    "#p2 = '/home/ncp/workspace/blocks1/kidneyData_windowing/Train_data/PRE/'\n",
    "#p3 = '/home/ncp/workspace/blocks1/kidneyData_windowing/Test_data/ART/'\n",
    "#p4 = '/home/ncp/workspace/blocks1/kidneyData_windowing/Test_data/PRE/'\n",
    "p3 = '/home/ncp/workspace/blocks1/kidneyData_windowing_mass_total/ART/'\n",
    "p4 = '/home/ncp/workspace/blocks1/kidneyData_windowing_mass_total/PRE/'\n",
    "#p3 = '/home/ncp/workspace/blocks1/RCC/ART/'\n",
    "#p4 = '/home/ncp/workspace/blocks1/RCC/PRE/'\n",
    "\n",
    "#f1 = os.listdir(p1)\n",
    "#f2 = os.listdir(p2) \n",
    "f3 = os.listdir(p3)\n",
    "f4 = os.listdir(p4)\n",
    "#print(f)\n",
    "'''\n",
    "f3 = [\n",
    "      '02_01_0321_0001.dcm.png',\n",
    "      '02_01_0333.0057.dcm.png',\n",
    "      '02_01_0329.0008.dcm.png', \n",
    "      '02_01_0334.0078.dcm.png',\n",
    "      '02_01_0326.0087.dcm.png'\n",
    "     ]\n",
    "f4 = [\n",
    "      '02_01_0321_0001.dcm.png',\n",
    "      '02_01_0333.0057.dcm.png',\n",
    "      '02_01_0329.0008.dcm.png', \n",
    "      '02_01_0334.0078.dcm.png',\n",
    "      '02_01_0326.0087.dcm.png'\n",
    "     ]\n",
    "'''"
   ]
  },
  {
   "cell_type": "markdown",
   "metadata": {},
   "source": [
    "#with open ('/home/ncp/workspace/blocks1/kidney_data.csv', 'w') as writeFile:\n",
    "    writer = csv.writer(writeFile)\n",
    "    for filename in f4: \n",
    "        writer.writerow(p4+filename)\n",
    "writeFile.close()"
   ]
  },
  {
   "cell_type": "code",
   "execution_count": null,
   "metadata": {},
   "outputs": [],
   "source": [
    "#ART\n",
    "fn3 = tf.constant(f3)\n",
    "d3 = tf.data.Dataset.from_tensor_slices((fn3))\n",
    "\n",
    "#PRE\n",
    "fn4 = tf.constant(f4)\n",
    "d4 = tf.data.Dataset.from_tensor_slices((fn4))"
   ]
  },
  {
   "cell_type": "code",
   "execution_count": null,
   "metadata": {},
   "outputs": [],
   "source": [
    "print(len(fn3))\n",
    "print(len(fn4))#pre\n",
    "num_pre = len(fn4)"
   ]
  },
  {
   "cell_type": "code",
   "execution_count": null,
   "metadata": {},
   "outputs": [],
   "source": [
    "# normalizing the images to [-1, 1]\n",
    "def normalize(image):\n",
    "  image = tf.cast(image, tf.float32)\n",
    "  image = (image / 127.5) - 1\n",
    "  return image"
   ]
  },
  {
   "cell_type": "code",
   "execution_count": null,
   "metadata": {},
   "outputs": [],
   "source": [
    "def preprocess_img_test(fn4):\n",
    "  raw = tf.io.read_file(p4+fn4)\n",
    "  image = tf.image.decode_png(raw, channels=3)\n",
    "  image = normalize(image)\n",
    "  return image\n",
    "\n",
    "def preprocess_img_test_art(fn3):\n",
    "  raw = tf.io.read_file(p3+fn3)\n",
    "  image = tf.image.decode_png(raw, channels=3)\n",
    "  image = normalize(image)\n",
    "  #print(filenames)\n",
    "  return image"
   ]
  },
  {
   "cell_type": "code",
   "execution_count": null,
   "metadata": {},
   "outputs": [],
   "source": [
    "t_PRE = d4.map(preprocess_img_test)\n",
    "\n",
    "n = 0\n",
    "v = tf.keras.backend.get_value(fn4[n])\n",
    "v1 = str(v , 'utf-8')\n",
    "#print(type(v))\n",
    "print(v)\n",
    "\n",
    "\n",
    "print(fn3[0])\n",
    "print(fn3[1])\n",
    "print(fn3[2])\n",
    "print(fn3[3])\n",
    "print(fn3[4])\n"
   ]
  },
  {
   "cell_type": "code",
   "execution_count": null,
   "metadata": {},
   "outputs": [],
   "source": [
    "#print(t_PRE[1])"
   ]
  },
  {
   "cell_type": "code",
   "execution_count": null,
   "metadata": {},
   "outputs": [],
   "source": [
    "t_ART = d3.map(preprocess_img_test_art)\n",
    "#print(fn3[0])\n",
    "#print(fn3[1])\n",
    "#print(fn3[2])\n",
    "#print(fn3[3])\n",
    "#print(fn3[4])"
   ]
  },
  {
   "cell_type": "code",
   "execution_count": null,
   "metadata": {},
   "outputs": [],
   "source": [
    "#print(t_PRE.shape)\n"
   ]
  },
  {
   "cell_type": "markdown",
   "metadata": {},
   "source": [
    "## Input Pipeline"
   ]
  },
  {
   "cell_type": "code",
   "execution_count": null,
   "metadata": {},
   "outputs": [],
   "source": [
    "OUTPUT_CHANNELS = 3\n",
    "\n",
    "generator_g = pix2pix.unet_generator(OUTPUT_CHANNELS, norm_type='instancenorm')\n",
    "generator_f = pix2pix.unet_generator(OUTPUT_CHANNELS, norm_type='instancenorm')\n",
    "\n",
    "discriminator_x = pix2pix.discriminator(norm_type='instancenorm', target=False)\n",
    "discriminator_y = pix2pix.discriminator(norm_type='instancenorm', target=False)"
   ]
  },
  {
   "cell_type": "code",
   "execution_count": null,
   "metadata": {},
   "outputs": [],
   "source": [
    "generator_g_optimizer = tf.keras.optimizers.Adam(2e-4, beta_1=0.5)\n",
    "generator_f_optimizer = tf.keras.optimizers.Adam(2e-4, beta_1=0.5)\n",
    "\n",
    "discriminator_x_optimizer = tf.keras.optimizers.Adam(2e-4, beta_1=0.5)\n",
    "discriminator_y_optimizer = tf.keras.optimizers.Adam(2e-4, beta_1=0.5)"
   ]
  },
  {
   "cell_type": "markdown",
   "metadata": {},
   "source": [
    "## Training\n",
    "\n",
    "Note: This example model is trained for fewer epochs (40) than the paper (200) to keep training time reasonable for this tutorial. Predictions may be less accurate. "
   ]
  },
  {
   "cell_type": "code",
   "execution_count": null,
   "metadata": {},
   "outputs": [],
   "source": [
    "#path = '/home/ncp/workspace/blocks1/GCCT_CCT/GCCT/'\n",
    "\n",
    "def generate_images(model, test_input):\n",
    "  prediction = model(test_input)\n",
    "  #print(type(prediction[0])) #float32\n",
    "  #print(type(prediction))\n",
    "  #plt.figure(figsize=(12, 12))\n",
    "\n",
    "  #display_list = [test_input[0], prediction[0]]\n",
    "  #title = ['Input Image(PRE)', 'Predicted Image']\n",
    "  plt.axis('off'), plt.xticks([]), plt.yticks([])\n",
    "  plt.tight_layout()\n",
    "  img = prediction[0]*0.5 +0.5\n",
    "  plt.imshow(img)\n",
    "  img = img.numpy()\n",
    "\n",
    "  #print(type(b))\n",
    "  #for i in range(2):\n",
    "\n",
    "  #  plt.subplot(1, 2, i+1)\n",
    "  #  plt.title(title[i])\n",
    "    # getting the pixel values between [0, 1] to plot it.\n",
    "  #  plt.imshow(display_list[i] * 0.5 + 0.5)\n",
    "  #  plt.axis('off')\n",
    "  #plt.show()\n",
    "  global n\n",
    "  v = tf.keras.backend.get_value(fn4[n])\n",
    "  v1 = str(v , 'utf-8')\n",
    "  plt.imsave('/home/ncp/workspace/blocks1/kidneyData_windowing_mass_total/GCCT/'+v1, img)  #save image path\n",
    "  n += 1\n"
   ]
  },
  {
   "cell_type": "code",
   "execution_count": null,
   "metadata": {},
   "outputs": [],
   "source": [
    "checkpoint_path = \"/home/ncp/workspace/blocks2/checkpoint_mass_100_0315/ckpt-100\"  #checkpoint path\n",
    "\n",
    "ckpt = tf.train.Checkpoint(\n",
    "                           generator_g=generator_g,\n",
    "                           generator_f=generator_f,\n",
    "                           discriminator_x=discriminator_x,\n",
    "                           discriminator_y=discriminator_y,\n",
    "                           generator_g_optimizer=generator_g_optimizer,\n",
    "                           generator_f_optimizer=generator_f_optimizer,\n",
    "                           discriminator_x_optimizer=discriminator_x_optimizer,\n",
    "                           discriminator_y_optimizer=discriminator_y_optimizer)\n",
    "\n",
    "ckpt_manager = tf.train.CheckpointManager(ckpt, checkpoint_path, max_to_keep=5)\n",
    "\n",
    "# if a checkpoint exists, restore the latest checkpoint.\n",
    "if ckpt_manager.latest_checkpoint:\n",
    "  ckpt.restore(ckpt_manager.latest_checkpoint)\n",
    "  print ('Latest checkpoint restored!!')"
   ]
  },
  {
   "cell_type": "markdown",
   "metadata": {},
   "source": [
    "## Generate using test dataset"
   ]
  },
  {
   "cell_type": "code",
   "execution_count": null,
   "metadata": {},
   "outputs": [],
   "source": [
    "# ckpt 저장되어있는 전체 폴더에서 restore 해야함\n",
    "ckpt.restore(tf.train.latest_checkpoint('/home/ncp/workspace/blocks2/checkpoint_mass_100_0315/')) #checkpoint path"
   ]
  },
  {
   "cell_type": "code",
   "execution_count": null,
   "metadata": {},
   "outputs": [],
   "source": [
    "generator_g = ckpt.generator_g\n",
    "#generator_g.load_weights('./checkpoint_kidney_w_cycleGAN_half2')"
   ]
  },
  {
   "cell_type": "code",
   "execution_count": null,
   "metadata": {},
   "outputs": [],
   "source": [
    "import matplotlib.image as img\n",
    "import numpy as np"
   ]
  },
  {
   "cell_type": "code",
   "execution_count": null,
   "metadata": {},
   "outputs": [],
   "source": [
    "global n\n",
    "n = 0\n",
    "print(n)"
   ]
  },
  {
   "cell_type": "code",
   "execution_count": null,
   "metadata": {},
   "outputs": [],
   "source": [
    "# Run the trained model on the test dataset\n",
    "\n",
    "for inp in t_PRE.take(num_pre): #.take(n):n->num of PRE\n",
    "    #print(inp.dtype)\n",
    "    inp=np.reshape(inp,(1,)+inp.shape)\n",
    "    generate_images(generator_g, inp)\n",
    "    #print(inp.shape)"
   ]
  },
  {
   "cell_type": "code",
   "execution_count": null,
   "metadata": {},
   "outputs": [],
   "source": [
    "#rmdir  /home/ncp/workspace/blocks1/kidneyData_windowing_mass/TEST/GCCT/.ipynb_checkpoints"
   ]
  },
  {
   "cell_type": "code",
   "execution_count": null,
   "metadata": {},
   "outputs": [],
   "source": []
  }
 ],
 "metadata": {
  "kernelspec": {
   "display_name": "main_env",
   "language": "python",
   "name": "main_env"
  },
  "language_info": {
   "codemirror_mode": {
    "name": "ipython",
    "version": 3
   },
   "file_extension": ".py",
   "mimetype": "text/x-python",
   "name": "python",
   "nbconvert_exporter": "python",
   "pygments_lexer": "ipython3",
   "version": "3.6.13"
  }
 },
 "nbformat": 4,
 "nbformat_minor": 2
}
