{
 "cells": [
  {
   "cell_type": "code",
   "execution_count": null,
   "metadata": {},
   "outputs": [],
   "source": [
    "import matplotlib.pyplot as plt\n",
    "import matplotlib.image as img\n",
    "\n",
    "import os"
   ]
  },
  {
   "cell_type": "code",
   "execution_count": null,
   "metadata": {},
   "outputs": [],
   "source": [
    "pt1 = '/home/ncp/workspace/blocks1/kidneyData_windowing_mass/TRAIN/ART/'\n",
    "file_names = os.listdir(pt1)"
   ]
  },
  {
   "cell_type": "code",
   "execution_count": null,
   "metadata": {},
   "outputs": [],
   "source": [
    "file_name = [file for file in file_names if file.startswith('02_01_0277')]"
   ]
  },
  {
   "cell_type": "code",
   "execution_count": null,
   "metadata": {},
   "outputs": [],
   "source": [
    "file_name"
   ]
  },
  {
   "cell_type": "code",
   "execution_count": null,
   "metadata": {},
   "outputs": [],
   "source": [
    "pt1 = '/home/ncp/workspace/blocks1/kidneyData_windowing_mass/TRAIN/ART/02_01_0003_0030.png'\n",
    "pt2 = '/home/ncp/workspace/blocks1/kidneyData_windowing_mass/TRAIN/ART/02_01_0003_0031.png'\n",
    "pt3 = '/home/ncp/workspace/blocks1/kidneyData_windowing_mass/TRAIN/ART/02_01_0003_0032.png'\n",
    "pt4 = '/home/ncp/workspace/blocks1/kidneyData_windowing_mass/TRAIN/ART/02_01_0003_0033.png'\n",
    "pt5 = '/home/ncp/workspace/blocks1/kidneyData_windowing_mass/TRAIN/ART/02_01_0003_0034.png'\n",
    "pt6 = '/home/ncp/workspace/blocks1/kidneyData_windowing_mass/TRAIN/ART/02_01_0003_0035.png'"
   ]
  },
  {
   "cell_type": "code",
   "execution_count": null,
   "metadata": {},
   "outputs": [],
   "source": [
    "img1 = img.imread(pt1)\n",
    "img2 = img.imread(pt2)\n",
    "img3 = img.imread(pt3)\n",
    "img4 = img.imread(pt4)\n",
    "img5 = img.imread(pt5)\n",
    "img6 = img.imread(pt6)"
   ]
  },
  {
   "cell_type": "code",
   "execution_count": null,
   "metadata": {},
   "outputs": [],
   "source": [
    "display_list = [img1, img2, img3, img4, img5, img6]\n",
    "title = [30, 31, 32, 33, 34, 35]"
   ]
  },
  {
   "cell_type": "code",
   "execution_count": null,
   "metadata": {},
   "outputs": [],
   "source": [
    "plt.figure(figsize = (18, 18))\n",
    "for i in range(6):\n",
    "    plt.subplot(1, 6,i+1)\n",
    "    plt.title(title[i])\n",
    "    plt.imshow(display_list[i])\n",
    "    plt.axis('off')\n",
    "plt.show()"
   ]
  },
  {
   "cell_type": "code",
   "execution_count": null,
   "metadata": {},
   "outputs": [],
   "source": [
    "#PRE--GCCT--ART\n",
    "import matplotlib.pyplot as plt\n",
    "import matplotlib.image as img\n",
    "\n",
    "import os\n",
    "nm_list = [ '02_01_0346_0086.png','02_01_0350_0073.png',\n",
    " '02_01_0321_0061.png',\n",
    " '02_01_0329_0093.png',\n",
    " '02_01_0340_0050.png',\n",
    " '02_01_0341_0083.png',\n",
    " '02_01_0339_0046.png',\n",
    " '02_01_0355_0057.png']\n",
    "nm=nm_list[4]\n",
    "pt1 = '/home/ncp/workspace/blocks1/kidneyData_windowing_mass/TEST/PRE/'+nm\n",
    "pt2 = '/home/ncp/workspace/blocks1/kidneyData_windowing_half2/TEST/GCCT/'+nm\n",
    "pt3 = '/home/ncp/workspace/blocks1/kidneyData_windowing_mass/TEST/ART/'+nm\n",
    "\n",
    "plt.figure(figsize = (18, 18))\n",
    "\n",
    "img1 = img.imread(pt1)\n",
    "img2 = img.imread(pt2)\n",
    "img3 = img.imread(pt3)\n",
    "\n",
    "display_list = [img1, img2, img3]\n",
    "title = ['PRE','GCCT','ART']\n",
    "\n",
    "for i in range(3):\n",
    "    plt.subplot(1, 3,i+1)\n",
    "    plt.title(title[i])\n",
    "    plt.imshow(display_list[i])\n",
    "    plt.axis('off')\n",
    "plt.show()"
   ]
  },
  {
   "cell_type": "code",
   "execution_count": null,
   "metadata": {},
   "outputs": [],
   "source": [
    "###################\n",
    "#####  MAIN  ######\n",
    "###################\n",
    "#PRE--GCCT--ART\n",
    "import matplotlib.pyplot as plt\n",
    "import matplotlib.image as img\n",
    "\n",
    "import os\n",
    "nm_list = [ '02_01_0346_0086.png','02_01_0350_0073.png',\n",
    " '02_01_0321_0061.png',\n",
    " '02_01_0329_0093.png',\n",
    " '02_01_0340_0050.png',\n",
    " '02_01_0341_0083.png',\n",
    " '02_01_0339_0046.png',\n",
    " '02_01_0355_0057.png']\n",
    "nm=nm_list[0]\n",
    "pt1 = '/home/ncp/workspace/blocks1/kidneyData_windowing_mass/TEST/PRE/'+nm\n",
    "pt2 = '/home/ncp/workspace/blocks1/kidneyData_windowing_mass/TEST/GCCT/'+nm\n",
    "pt3 = '/home/ncp/workspace/blocks1/kidneyData_windowing_mass/TEST/ART/'+nm\n",
    "\n",
    "plt.figure(figsize = (18, 18))\n",
    "\n",
    "img1 = img.imread(pt1)\n",
    "img2 = img.imread(pt2)\n",
    "img3 = img.imread(pt3)\n",
    "\n",
    "display_list = [img1, img2, img3]\n",
    "title = ['PRE','GCCT','ART']\n",
    "\n",
    "for i in range(3):\n",
    "    plt.subplot(1, 3,i+1)\n",
    "    plt.title(title[i])\n",
    "    plt.imshow(display_list[i])\n",
    "    plt.axis('off')\n",
    "plt.show()"
   ]
  },
  {
   "cell_type": "code",
   "execution_count": null,
   "metadata": {},
   "outputs": [],
   "source": [
    "#PRE--GCCT--ART\n",
    "import matplotlib.pyplot as plt\n",
    "import matplotlib.image as img\n",
    "\n",
    "import os\n",
    "nm_list = [ '02_01_0346_0086.png','02_01_0350_0073.png',\n",
    " '02_01_0321_0061.png',\n",
    " '02_01_0329_0093.png',\n",
    " '02_01_0340_0050.png',\n",
    " '02_01_0341_0083.png',\n",
    " '02_01_0339_0046.png',\n",
    " '02_01_0355_0057.png']\n",
    "nm=nm_list[0]\n",
    "pt1 = '/home/ncp/workspace/blocks1/kidneyData_windowing_mass/TEST/PRE/'+nm\n",
    "pt2 = '/home/ncp/workspace/blocks1/kidneyData_windowing_mass/TEST/GCCT-400-lamda3/'+nm\n",
    "pt3 = '/home/ncp/workspace/blocks1/kidneyData_windowing_mass/TEST/ART/'+nm\n",
    "\n",
    "plt.figure(figsize = (18, 18))\n",
    "\n",
    "img1 = img.imread(pt1)\n",
    "img2 = img.imread(pt2)\n",
    "img3 = img.imread(pt3)\n",
    "\n",
    "display_list = [img1, img2, img3]\n",
    "title = ['PRE','GCCT-400-lamda3','ART']\n",
    "\n",
    "for i in range(3):\n",
    "    plt.subplot(1, 3,i+1)\n",
    "    plt.title(title[i])\n",
    "    plt.imshow(display_list[i])\n",
    "    plt.axis('off')\n",
    "plt.show()"
   ]
  },
  {
   "cell_type": "code",
   "execution_count": null,
   "metadata": {},
   "outputs": [],
   "source": [
    "import os\n",
    "pt1 = '/home/ncp/workspace/blocks1/RCC/GCCT/'\n",
    "file_names = os.listdir(pt1)\n",
    "file_names"
   ]
  },
  {
   "cell_type": "code",
   "execution_count": null,
   "metadata": {},
   "outputs": [],
   "source": [
    "###################\n",
    "#####  MAIN  ######\n",
    "###################\n",
    "'''RCC'''\n",
    "#PRE--GCCT--ART\n",
    "import matplotlib.pyplot as plt\n",
    "import matplotlib.image as img\n",
    "\n",
    "import os\n",
    "nm_list = [ '33590914_RCC0119.jpg',\n",
    " '22080145_RCC0098.jpg',\n",
    " '33590914_RCC0049.jpg',\n",
    " '10858749_RCC0011.jpg',\n",
    " '33590914_RCC0038.jpg',\n",
    " '31800242_RCC0008.jpg',\n",
    " '33590914_RCC0069.jpg',\n",
    " '22080145_RCC0090.jpg',\n",
    " '10858749_RCC0107.jpg',\n",
    " '10858749_RCC0108.jpg',\n",
    " '33590914_RCC0020.jpg',\n",
    " '31800242_RCC0021.jpg',\n",
    " '10858749_RCC0063.jpg',\n",
    " '31800242_RCC0058.jpg',\n",
    " '31800242_RCC0115.jpg',\n",
    " '22080145_RCC0002.jpg',\n",
    " '33590914_RCC0059.jpg',\n",
    " '10858749_RCC0039.jpg',\n",
    " '33590914_RCC0115.jpg',\n",
    " '10858749_RCC0060.jpg',\n",
    " '33590914_RCC0111.jpg',\n",
    " '22080145_RCC0100.jpg',\n",
    " '22080145_RCC0079.jpg',\n",
    " '22080145_RCC0081.jpg',\n",
    " '10858749_RCC0043.jpg',\n",
    " '33590914_RCC0092.jpg',\n",
    " '33590914_RCC0090.jpg',\n",
    " '22080145_RCC0056.jpg',\n",
    " '22080145_RCC0047.jpg',\n",
    " '10858749_RCC0110.jpg',\n",
    " '31800242_RCC0070.jpg',\n",
    " '33590914_RCC0086.jpg',\n",
    " '31800242_RCC0056.jpg',\n",
    " '22080145_RCC0068.jpg']\n",
    "nm=nm_list[17]\n",
    "pt1 = '/home/ncp/workspace/blocks1/RCC/PRE/'+nm\n",
    "pt2 = '/home/ncp/workspace/blocks1/RCC/GCCT/'+nm\n",
    "pt3 = '/home/ncp/workspace/blocks1/RCC/ART/'+nm\n",
    "\n",
    "plt.figure(figsize = (18, 18))\n",
    "\n",
    "img1 = img.imread(pt1)\n",
    "img2 = img.imread(pt2)\n",
    "img3 = img.imread(pt3)\n",
    "print(img1.max())\n",
    "print(img2.max())\n",
    "display_list = [img1, img2, img3]\n",
    "title = ['PRE','GCCT','ART']\n",
    "\n",
    "for i in range(3):\n",
    "    plt.subplot(1, 3,i+1)\n",
    "    plt.title(title[i])\n",
    "    plt.imshow(display_list[i], cmap='gray')\n",
    "    plt.axis('off')\n",
    "plt.show()"
   ]
  },
  {
   "cell_type": "code",
   "execution_count": null,
   "metadata": {},
   "outputs": [],
   "source": [
    "###################\n",
    "#####  MAIN  ######\n",
    "###################\n",
    "#PRE--GCCT--ART\n",
    "import matplotlib.pyplot as plt\n",
    "import matplotlib.image as img\n",
    "\n",
    "import os\n",
    "nm_list = [ \n",
    " '02_01_0008_0125.png','02_01_0115_0068.png','02_01_0133_0031.png','02_01_0177_0042.png','02_01_0189_0076.png', '02_01_0091_0051.png','02_01_0098_0053.png',\n",
    " '02_01_0270_0058.png','02_01_0091_0053.png','02_01_0043_0035.png','02_01_0300_0062.png','02_01_0128_0057.png','02_01_0259_0065.png','02_01_0269_0061.png',\n",
    " '02_01_0295_0045.png','02_01_0076_0046.png','02_01_0277_0059.png','02_01_0049_0060.png','02_01_0025_0057.png','02_01_0032_0033.png','02_01_0196_0023.png',\n",
    " '02_01_0274_0038.png','02_01_0025_0053.png','02_01_0003_0033.png','02_01_0107_0048.png','02_01_0111_0061.png','02_01_0211_0084.png','02_01_0272_0035.png',\n",
    " '02_01_0155_0053.png','02_01_0223_0033.png','02_01_0270_0053.png', '02_01_0115_0070.png','02_01_0225_0059.png','02_01_0128_0056.png',\n",
    " '02_01_0250_0024.png','02_01_0047_0082.png','02_01_0145_0063.png']\n",
    "nm=nm_list[13]\n",
    "pt1 = '/home/ncp/workspace/blocks1/kidneyData_windowing_mass/TRAIN/PRE/'+nm\n",
    "pt2 = '/home/ncp/workspace/blocks1/kidneyData_windowing_mass/TRAIN/GCCT/'+nm\n",
    "pt3 = '/home/ncp/workspace/blocks1/kidneyData_windowing_mass/TRAIN/ART/'+nm\n",
    "\n",
    "plt.figure(figsize = (18, 18))\n",
    "\n",
    "img1 = img.imread(pt1)\n",
    "img2 = img.imread(pt2)\n",
    "img3 = img.imread(pt3)\n",
    "\n",
    "\n",
    "display_list = [img1, img2, img3]\n",
    "title = ['PRE','GCCT','ART']\n",
    "\n",
    "for i in range(3):\n",
    "    plt.subplot(1, 3,i+1)\n",
    "    plt.title(title[i])\n",
    "    plt.imshow(display_list[i])\n",
    "    plt.axis('off')\n",
    "plt.show()"
   ]
  },
  {
   "cell_type": "code",
   "execution_count": null,
   "metadata": {},
   "outputs": [],
   "source": [
    "from PIL import Image\n",
    "img = Image.open('/home/ncp/workspace/blocks1/kidneyData_windowing_mass/TRAIN/PRE/02_01_0155_0053.png')\n",
    "arr = np.array(img)\n",
    "print(img.mode)\n",
    "print(arr.max())"
   ]
  },
  {
   "cell_type": "code",
   "execution_count": null,
   "metadata": {},
   "outputs": [],
   "source": [
    "from PIL import Image\n",
    "import numpy as np\n",
    "img = Image.open('/home/ncp/workspace/blocks1/RCC/PRE/31800242_RCC0070.jpg')\n",
    "arr = np.array(img)\n",
    "print(img.mode)\n",
    "print(arr.max())"
   ]
  },
  {
   "cell_type": "code",
   "execution_count": null,
   "metadata": {},
   "outputs": [],
   "source": [
    "###################\n",
    "#####  MAIN  ######\n",
    "###################\n",
    "#PRE--GCCT--ART\n",
    "import matplotlib.pyplot as plt\n",
    "import matplotlib.image as img\n",
    "\n",
    "import os\n",
    "\n",
    "pt1 = '/home/ncp/workspace/blocks1/kidneyData_windowing/TRAIN/PRE/02_01_0007_0110.png'\n",
    "\n",
    "plt.figure(figsize = (6, 6))\n",
    "\n",
    "img1 = img.imread(pt1)\n",
    "\n",
    "\n",
    "#plt.subplot(1, 3,i+1)\n",
    "#    plt.title(title[i])\n",
    "plt.imshow(img1)\n",
    "#    plt.axis('off')\n",
    "plt.show()"
   ]
  },
  {
   "cell_type": "code",
   "execution_count": null,
   "metadata": {},
   "outputs": [],
   "source": [
    "cd '/home/ncp/workspace/blocks1/kidneyData_windowing/TRAIN/PRE/'"
   ]
  },
  {
   "cell_type": "code",
   "execution_count": null,
   "metadata": {},
   "outputs": [],
   "source": [
    "ls"
   ]
  },
  {
   "cell_type": "code",
   "execution_count": null,
   "metadata": {},
   "outputs": [],
   "source": [
    "192-110\n"
   ]
  },
  {
   "cell_type": "code",
   "execution_count": null,
   "metadata": {
    "scrolled": true
   },
   "outputs": [],
   "source": [
    "import os\n",
    "import matplotlib.pyplot as plt\n",
    "import matplotlib.image as img\n",
    "import pandas as pd\n",
    "import numpy as np\n",
    "\n",
    "import os\n",
    "from tqdm import tqdm\n",
    "import json\n",
    "import shutil\n",
    "\n",
    "# image data\n",
    "from PIL import Image\n",
    "from glob import glob\n",
    "# import cv2\n",
    "path = '/home/ncp/workspace/blocks1/kidneyData_windowing_mass_new/TRAIN(kidney_json_extract_mass_instanceNumber2)/PRE/'\n",
    "img_lst = os.listdir(path)\n",
    "#print(img_lst)\n",
    "\n",
    "for i in range(0, 200, 10): \n",
    "    plt.figure(figsize = (20, 20))\n",
    "    test = Image.open(path+ img_lst[i])\n",
    "    for j in range(i + 1, i + 10): \n",
    "        tmp = Image.open(path + img_lst[j])\n",
    "        test = np.concatenate((test, tmp), axis = 1)\n",
    "    plt.imshow(test)\n",
    "    print('{} - {}'.format(i, i+10))\n",
    "    "
   ]
  },
  {
   "cell_type": "code",
   "execution_count": null,
   "metadata": {
    "scrolled": false
   },
   "outputs": [],
   "source": [
    "import os\n",
    "import matplotlib.pyplot as plt\n",
    "import matplotlib.image as img\n",
    "import pandas as pd\n",
    "import numpy as np\n",
    "\n",
    "import os\n",
    "from tqdm import tqdm\n",
    "import json\n",
    "import shutil\n",
    "\n",
    "# image data\n",
    "from PIL import Image\n",
    "from glob import glob\n",
    "# import cv2\n",
    "path = '/home/ncp/workspace/blocks1/kidneyData_windowing/TRAIN/ART/02_01_0061_*'\n",
    "lst = glob(path)\n",
    "lst.sort()\n",
    "\n",
    "#print(img_lst)\n",
    "\n",
    "for i in range(0, 300, 10): \n",
    "    plt.figure(figsize = (30, 30))\n",
    "    test = Image.open(lst[i])\n",
    "    for j in range(i + 1, i + 10): \n",
    "        tmp = Image.open(lst[j])\n",
    "        test = np.concatenate((test, tmp), axis = 1)\n",
    "    plt.imshow(test)\n",
    "    print('{} - {}'.format(i, i+10))\n",
    "    \n",
    "    \n",
    "    \n"
   ]
  },
  {
   "cell_type": "code",
   "execution_count": null,
   "metadata": {},
   "outputs": [],
   "source": [
    "path = '/home/ncp/workspace/blocks1/kidneyData_windowing/TRAIN/ART/02_01_0295_*'\n",
    "lst = glob(path)\n",
    "lst.sort()\n",
    "print(lst)"
   ]
  },
  {
   "cell_type": "code",
   "execution_count": null,
   "metadata": {},
   "outputs": [],
   "source": []
  },
  {
   "cell_type": "code",
   "execution_count": null,
   "metadata": {},
   "outputs": [],
   "source": []
  }
 ],
 "metadata": {
  "kernelspec": {
   "display_name": "ddd",
   "language": "python",
   "name": "ddd"
  },
  "language_info": {
   "codemirror_mode": {
    "name": "ipython",
    "version": 3
   },
   "file_extension": ".py",
   "mimetype": "text/x-python",
   "name": "python",
   "nbconvert_exporter": "python",
   "pygments_lexer": "ipython3",
   "version": "3.6.13"
  }
 },
 "nbformat": 4,
 "nbformat_minor": 2
}
