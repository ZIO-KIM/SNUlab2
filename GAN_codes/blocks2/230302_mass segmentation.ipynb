{
 "cells": [
  {
   "cell_type": "code",
   "execution_count": null,
   "metadata": {},
   "outputs": [],
   "source": [
    "import pandas as pd\n",
    "import numpy as np\n",
    "\n",
    "import os\n",
    "from tqdm import tqdm\n",
    "import json\n",
    "import shutil\n",
    "\n",
    "# image data\n",
    "from PIL import Image\n",
    "from glob import glob\n",
    "import cv2\n",
    "import pydicom"
   ]
  },
  {
   "cell_type": "code",
   "execution_count": null,
   "metadata": {},
   "outputs": [],
   "source": [
    "import tensorflow.keras as keras\n",
    "from tensorflow.keras.preprocessing.image import ImageDataGenerator, load_img, img_to_array\n",
    "from tensorflow.keras.models import Sequential\n",
    "# from keras.utils import np_utils\n",
    "from tensorflow.keras import layers\n",
    "from tensorflow.keras.layers import Dense,Activation, Flatten, Dropout, BatchNormalization, Conv2D, MaxPooling2D\n",
    "from tensorflow.keras.callbacks import ModelCheckpoint, EarlyStopping\n",
    "from tensorflow.keras import regularizers, optimizers\n",
    "import tensorflow as tf\n",
    "from tensorflow.keras.applications import ResNet50,VGG16,ResNet101, VGG19, DenseNet201,   MobileNetV2 # ,EfficientNetB4\n",
    "from tensorflow.keras.applications import resnet, vgg16 , vgg19, densenet,  mobilenet_v2 # ,efficientnet\n",
    "from tensorflow.keras import Model\n",
    "\n",
    "import numpy as np\n",
    "import matplotlib.pyplot as plt\n",
    "import pandas as pd\n",
    "\n",
    "import scipy\n",
    "\n",
    "import PIL\n",
    "import os"
   ]
  },
  {
   "cell_type": "code",
   "execution_count": null,
   "metadata": {},
   "outputs": [],
   "source": [
    "gpus =tf.config.experimental.list_physical_devices('GPU')\n",
    "if gpus: \n",
    "    # tensorflow가 첫번째 gpu만 사용하도록 제한\n",
    "    try: \n",
    "        tf.config.experimental.set_visible_devices(gpus[0], 'GPU')\n",
    "    except RuntimeError as e: \n",
    "        print(e)"
   ]
  },
  {
   "cell_type": "code",
   "execution_count": null,
   "metadata": {},
   "outputs": [],
   "source": [
    "tf.test.is_built_with_gpu_support()"
   ]
  },
  {
   "cell_type": "code",
   "execution_count": null,
   "metadata": {},
   "outputs": [],
   "source": [
    "ART_train_path = '/home/ncp/workspace/blocks3/kidneyData_windowing_mass_total_Shuffled_TrainTest/TRAIN/ART/'\n",
    "ART_test_path = '/home/ncp/workspace/blocks3/kidneyData_windowing_mass_total_Shuffled_TrainTest/TEST/ART/'\n",
    "PRE_train_path = '/home/ncp/workspace/blocks3/kidneyData_windowing_mass_total_Shuffled_TrainTest/TRAIN/PRE/'\n",
    "PRE_test_path = '/home/ncp/workspace/blocks3/kidneyData_windowing_mass_total_Shuffled_TrainTest/TEST/PRE/'\n",
    "GCCT_train_path = '/home/ncp/workspace/blocks3/kidneyData_windowing_mass_total_Shuffled_TrainTest/TRAIN/GCCT/'\n",
    "GCCT_test_path = '/home/ncp/workspace/blocks3/kidneyData_windowing_mass_total_Shuffled_TrainTest/TEST/GCCT/'"
   ]
  },
  {
   "cell_type": "code",
   "execution_count": null,
   "metadata": {},
   "outputs": [],
   "source": [
    "lst = glob(ART_train_path)\n",
    "lst.sort()\n",
    "lst"
   ]
  },
  {
   "cell_type": "code",
   "execution_count": null,
   "metadata": {},
   "outputs": [],
   "source": [
    "test = Image.open(ART_train_path + lst[1])\n",
    "test"
   ]
  },
  {
   "cell_type": "code",
   "execution_count": null,
   "metadata": {
    "scrolled": true
   },
   "outputs": [],
   "source": [
    "# height, width, target height, target width\n",
    "import matplotlib.pyplot as plt\n",
    "test = Image.open(ART_train_path + lst[1])\n",
    "test_cropped = tf.image.crop_to_bounding_box(test, 150,110,256,256)\n",
    "plt.imshow(test_cropped)"
   ]
  },
  {
   "cell_type": "code",
   "execution_count": null,
   "metadata": {
    "scrolled": true
   },
   "outputs": [],
   "source": [
    "# 02_01_0001 \n",
    "\n",
    "for i in range(0, 100, 10): \n",
    "    plt.figure(figsize = (20, 20))\n",
    "    test = Image.open(ART_train_path + lst[i])\n",
    "    test_cropped = tf.image.crop_to_bounding_box(test, 150,110,256,256)\n",
    "    for j in range(i + 1, i + 10): \n",
    "        tmp = Image.open(ART_train_path + lst[j])\n",
    "        tmp_cropped = tf.image.crop_to_bounding_box(tmp, 150,110,256,256)\n",
    "        test_cropped = np.concatenate((test_cropped, tmp_cropped), axis = 1)\n",
    "    plt.imshow(test_cropped)"
   ]
  },
  {
   "cell_type": "code",
   "execution_count": null,
   "metadata": {},
   "outputs": [],
   "source": [
    "# left kidney ymax, xmin\n",
    "import matplotlib.pyplot as plt\n",
    "test_cropped = tf.image.crop_to_bounding_box(test, 355, 298, 32,32)\n",
    "plt.imshow(test_cropped)"
   ]
  },
  {
   "cell_type": "code",
   "execution_count": null,
   "metadata": {},
   "outputs": [],
   "source": [
    "LABEL_path = '/home/ncp/workspace/202002n035/035.신장암 진단을 위한 의료 영상 데이터/01.데이터/신장암2/1.Training/라벨링데이터/'\n",
    "people = os.listdir(LABEL_path)\n",
    "file_path = '/home/ncp/workspace/202002n035/035.신장암 진단을 위한 의료 영상 데이터/01.데이터/신장암2/1.Training/원천데이터/'\n",
    "header_path = file_path + '02_01_0001/' + '02_01_0001_ART/'"
   ]
  },
  {
   "cell_type": "code",
   "execution_count": null,
   "metadata": {},
   "outputs": [],
   "source": [
    "# 02_01_0001 - 47\n",
    "xy_leftMass_art = []\n",
    "ppl = '02_01_0001'\n",
    "ppl_ARTlabel_path = LABEL_path + ppl + '/' + '02_01_0001_ART.json'.format(ppl)\n",
    "header = pydicom.dcmread(header_path + '0047.dcm', stop_before_pixels = True)\n",
    "h_num = header.InstanceNumber\n",
    "total_len = len(os.listdir(header_path))\n",
    "\n",
    "with open(ppl_ARTlabel_path) as f: \n",
    "    ART_json = json.load(f)\n",
    "    length = len(ART_json['roi_list']['left mass'])\n",
    "    z_list = []\n",
    "    for i in range(length): \n",
    "        z_list.append(ART_json['roi_list']['left mass'][i]['z'])\n",
    "    z_list = list(set(z_list))\n",
    "    \n",
    "    for j in z_list:\n",
    "        if h_num == total_len - j: \n",
    "            for i in range(len(ART_json['roi_list']['left mass'])):\n",
    "                xy_leftMass_art.append((ART_json['roi_list']['left mass'][i]['x'], ART_json['roi_list']['left mass'][i]['y']))"
   ]
  },
  {
   "cell_type": "code",
   "execution_count": null,
   "metadata": {},
   "outputs": [],
   "source": [
    "z_list"
   ]
  },
  {
   "cell_type": "code",
   "execution_count": null,
   "metadata": {},
   "outputs": [],
   "source": [
    "file_path = '/home/ncp/workspace/202002n035/035.신장암 진단을 위한 의료 영상 데이터/01.데이터/신장암2/1.Training/원천데이터/'\n",
    "header_path = file_path + '02_01_0001/' + '02_01_0001_ART/'\n",
    "print(len(os.listdir(pathh)))\n",
    "header = pydicom.dcmread(header_path + '0047.dcm', stop_before_pixels = True)\n",
    "h_num = header.InstanceNumber\n",
    "print(h_num)\n",
    "print(len(os.listdir(pathh)) - 59)"
   ]
  },
  {
   "cell_type": "code",
   "execution_count": null,
   "metadata": {},
   "outputs": [],
   "source": [
    "xy_leftMass_art"
   ]
  },
  {
   "cell_type": "code",
   "execution_count": null,
   "metadata": {},
   "outputs": [],
   "source": [
    "len(xy_leftMass_art)"
   ]
  },
  {
   "cell_type": "code",
   "execution_count": null,
   "metadata": {},
   "outputs": [],
   "source": [
    "for i in range(len(ART_json['roi_list']['left mass'])):\n",
    "    xy_leftMass_art.append((ART_json['roi_list']['left mass'][i]['x'], ART_json['roi_list']['left mass'][i]['y']))"
   ]
  },
  {
   "cell_type": "code",
   "execution_count": null,
   "metadata": {},
   "outputs": [],
   "source": [
    "ART_json['roi_list']['left mass'][0]['x']"
   ]
  },
  {
   "cell_type": "code",
   "execution_count": null,
   "metadata": {},
   "outputs": [],
   "source": [
    "max(xy_leftMass_art[0])"
   ]
  },
  {
   "cell_type": "code",
   "execution_count": null,
   "metadata": {},
   "outputs": [],
   "source": [
    "min(xy_leftMass_art[1])"
   ]
  },
  {
   "cell_type": "markdown",
   "metadata": {},
   "source": [
    "### mass 부분만 남기고 나머지는 masking"
   ]
  },
  {
   "cell_type": "code",
   "execution_count": null,
   "metadata": {},
   "outputs": [],
   "source": [
    "path = '/home/ncp/workspace/blocks2/kidneyData_windowing_mass_leftright/'\n",
    "lst = os.listdir(path + 'TRAIN/ART/LEFT/')\n",
    "lst.sort()\n",
    "test = cv2.imread(path + 'TRAIN/ART/LEFT/' + lst[0]) # array\n",
    "image = Image.open(path + 'TRAIN/ART/LEFT/' + lst[0]) # image"
   ]
  },
  {
   "cell_type": "code",
   "execution_count": null,
   "metadata": {},
   "outputs": [],
   "source": [
    "lst[0]"
   ]
  },
  {
   "cell_type": "code",
   "execution_count": null,
   "metadata": {},
   "outputs": [],
   "source": [
    "clist = []\n",
    "for i in range(len(xy_leftMass_art)): \n",
    "    clist.append(xy_leftMass_art[i])"
   ]
  },
  {
   "cell_type": "code",
   "execution_count": null,
   "metadata": {},
   "outputs": [],
   "source": [
    "clist"
   ]
  },
  {
   "cell_type": "code",
   "execution_count": null,
   "metadata": {},
   "outputs": [],
   "source": [
    "mask = np.zeros((test.shape[0], test.shape[1]))\n",
    "pts = np.array(clist)"
   ]
  },
  {
   "cell_type": "code",
   "execution_count": null,
   "metadata": {},
   "outputs": [],
   "source": [
    "pts"
   ]
  },
  {
   "cell_type": "code",
   "execution_count": null,
   "metadata": {},
   "outputs": [],
   "source": [
    "import cv2"
   ]
  },
  {
   "cell_type": "code",
   "execution_count": null,
   "metadata": {},
   "outputs": [],
   "source": [
    "cv2.fillConvexPoly(mask, pts, 1)"
   ]
  },
  {
   "cell_type": "code",
   "execution_count": null,
   "metadata": {},
   "outputs": [],
   "source": [
    "mask = mask.astype(np.bool)"
   ]
  },
  {
   "cell_type": "code",
   "execution_count": null,
   "metadata": {},
   "outputs": [],
   "source": [
    "out=np.zeros_like(test)"
   ]
  },
  {
   "cell_type": "code",
   "execution_count": null,
   "metadata": {},
   "outputs": [],
   "source": [
    "out[mask] = test[mask]"
   ]
  },
  {
   "cell_type": "code",
   "execution_count": null,
   "metadata": {},
   "outputs": [],
   "source": [
    "plt.figure(figsize = (20,20))\n",
    "plt.imshow(out)\n",
    "plt.imsave('test.png', out, cmap = 'gray')"
   ]
  },
  {
   "cell_type": "markdown",
   "metadata": {},
   "source": [
    "### 전체에 적용"
   ]
  },
  {
   "cell_type": "code",
   "execution_count": null,
   "metadata": {},
   "outputs": [],
   "source": [
    "# create ART_train_label dataframe\n",
    "\n",
    "LABEL_path = '/home/ncp/workspace/202002n035/035.신장암 진단을 위한 의료 영상 데이터/01.데이터/신장암2/1.Training/라벨링데이터/'\n",
    "people = os.listdir(LABEL_path) \n",
    "ART_train_label = pd.DataFrame()\n",
    "\n",
    "for ppl in tqdm(people): \n",
    "    ppl_ARTlabel_path = LABEL_path + ppl + '/' + '{}_ART.json'.format(ppl)\n",
    "    with open(ppl_ARTlabel_path) as f: \n",
    "        ART_json = json.load(f)\n",
    "    case_id = ART_json['case_id'][0:10]\n",
    "    type = ART_json['Clinical Information (Global)']['histologic type']\n",
    "    \n",
    "    mass_list = []\n",
    "    for key in ART_json['roi_list'].keys(): \n",
    "        if len(ART_json['roi_list'][key]) > 0 and 'kidney' not in key: # if list is not empty and not kidney - mass exists\n",
    "            mass_list.append(key)\n",
    "\n",
    "    data = {'case_id' : [case_id], 'histologic type' : [type], 'where': [mass_list]}\n",
    "    data = pd.DataFrame(data)\n",
    "    ART_train_label = pd.concat([ART_train_label, data]).reset_index(drop = True)"
   ]
  },
  {
   "cell_type": "code",
   "execution_count": null,
   "metadata": {},
   "outputs": [],
   "source": [
    "# create ART_val_label dataframe\n",
    "\n",
    "LABEL_path = '/home/ncp/workspace/202002n035/035.신장암 진단을 위한 의료 영상 데이터/01.데이터/신장암2/2.Validation/라벨링데이터/'\n",
    "people = os.listdir(LABEL_path) \n",
    "ART_val_label = pd.DataFrame()\n",
    "\n",
    "for ppl in tqdm(people): \n",
    "    ppl_ARTlabel_path = LABEL_path + ppl + '/' + '{}_ART.json'.format(ppl)\n",
    "    with open(ppl_ARTlabel_path) as f: \n",
    "        ART_json = json.load(f)\n",
    "    case_id = ART_json['case_id'][0:10]\n",
    "    type = ART_json['Clinical Information (Global)']['histologic type']\n",
    "    \n",
    "    mass_list = []\n",
    "    for key in ART_json['roi_list'].keys(): \n",
    "        if len(ART_json['roi_list'][key]) > 0 and 'kidney' not in key: # if list is not empty and not kidney - mass exists\n",
    "            mass_list.append(key)\n",
    "\n",
    "    data = {'case_id' : [case_id], 'histologic type' : [type], 'where': [mass_list]}\n",
    "    data = pd.DataFrame(data)\n",
    "    ART_val_label = pd.concat([ART_val_label, data]).reset_index(drop = True)"
   ]
  },
  {
   "cell_type": "code",
   "execution_count": null,
   "metadata": {},
   "outputs": [],
   "source": [
    "# create PRE_train_label dataframe\n",
    "\n",
    "LABEL_path = '/home/ncp/workspace/202002n035/035.신장암 진단을 위한 의료 영상 데이터/01.데이터/신장암2/1.Training/라벨링데이터/'\n",
    "people = os.listdir(LABEL_path) \n",
    "PRE_train_label = pd.DataFrame()\n",
    "\n",
    "for ppl in tqdm(people): \n",
    "    ppl_PRElabel_path = LABEL_path + ppl + '/' + '{}_PRE.json'.format(ppl)\n",
    "    with open(ppl_PRElabel_path) as f: \n",
    "        PRE_json = json.load(f)\n",
    "    case_id = PRE_json['case_id'][0:10]\n",
    "    type = PRE_json['Clinical Information (Global)']['histologic type']\n",
    "    \n",
    "    mass_list = []\n",
    "    for key in PRE_json['roi_list'].keys(): \n",
    "        if len(PRE_json['roi_list'][key]) > 0 and 'kidney' not in key: # if list is not empty and not kidney - mass exists\n",
    "            mass_list.append(key)\n",
    "\n",
    "    data = {'case_id' : [case_id], 'histologic type' : [type], 'where': [mass_list]}\n",
    "    data = pd.DataFrame(data)\n",
    "    PRE_train_label = pd.concat([PRE_train_label, data]).reset_index(drop = True)"
   ]
  },
  {
   "cell_type": "code",
   "execution_count": null,
   "metadata": {},
   "outputs": [],
   "source": [
    "# create PRE_val_label dataframe\n",
    "\n",
    "LABEL_path = '/home/ncp/workspace/202002n035/035.신장암 진단을 위한 의료 영상 데이터/01.데이터/신장암2/2.Validation/라벨링데이터/'\n",
    "people = os.listdir(LABEL_path) \n",
    "PRE_val_label = pd.DataFrame()\n",
    "\n",
    "for ppl in tqdm(people): \n",
    "    ppl_PRElabel_path = LABEL_path + ppl + '/' + '{}_PRE.json'.format(ppl)\n",
    "    with open(ppl_PRElabel_path) as f: \n",
    "        PRE_json = json.load(f)\n",
    "    case_id = PRE_json['case_id'][0:10]\n",
    "    type = PRE_json['Clinical Information (Global)']['histologic type']\n",
    "    \n",
    "    mass_list = []\n",
    "    for key in PRE_json['roi_list'].keys(): \n",
    "        if len(PRE_json['roi_list'][key]) > 0 and 'kidney' not in key: # if list is not empty and not kidney - mass exists\n",
    "            mass_list.append(key)\n",
    "\n",
    "    data = {'case_id' : [case_id], 'histologic type' : [type], 'where': [mass_list]}\n",
    "    data = pd.DataFrame(data)\n",
    "    PRE_val_label = pd.concat([PRE_val_label, data]).reset_index(drop = True)"
   ]
  },
  {
   "cell_type": "code",
   "execution_count": null,
   "metadata": {},
   "outputs": [],
   "source": [
    "ART_train_label['histologic type'].unique()"
   ]
  },
  {
   "cell_type": "code",
   "execution_count": null,
   "metadata": {},
   "outputs": [],
   "source": [
    "# create new label in label_df\n",
    "    # cc, chr, pp -> RCC\n",
    "    # AML\n",
    "    # ONCO\n",
    "# (07.28 수정 반영) RCC // AML + onco 로 binary classification\n",
    "\n",
    "def new_label(df): \n",
    "    df['label'] = df['histologic type']\n",
    "    df.loc[df['label'].isin(['cc', 'chr', 'pp']) == True, 'label'] = 'RCC'\n",
    "    df.loc[df['label'] == 'AML', 'label'] = 'AML + onco'\n",
    "    df.loc[df['label'] == 'onco', 'label'] = 'AML + onco'\n",
    "    return df\n",
    "\n",
    "ART_train_label = new_label(ART_train_label)\n",
    "PRE_train_label = new_label(PRE_train_label)\n",
    "ART_val_label = new_label(ART_val_label)\n",
    "PRE_val_label = new_label(PRE_val_label)"
   ]
  },
  {
   "cell_type": "code",
   "execution_count": null,
   "metadata": {},
   "outputs": [],
   "source": [
    "# left only, right only 표기하고, left right 두개 다 있으면 both로 표기\n",
    "\n",
    "def left_right(df): \n",
    "    for id in df['case_id']: \n",
    "        left = 0\n",
    "        right = 0\n",
    "        where = df.loc[df['case_id'] == id, 'where']\n",
    "        for k in where: \n",
    "            for item in k: \n",
    "                if 'left' in item: \n",
    "                    left = 1\n",
    "                if 'right' in item: \n",
    "                    right = 1\n",
    "        if left == 1 and right == 1: \n",
    "            df.loc[df['case_id'] == id, 'location'] = 'both'\n",
    "        if left == 1 and right == 0: \n",
    "            df.loc[df['case_id'] == id, 'location'] = 'left'\n",
    "        if left == 0 and right == 1: \n",
    "            df.loc[df['case_id'] == id, 'location'] = 'right'\n",
    "        \n",
    "    return df\n",
    "\n",
    "ART_train_label = left_right(ART_train_label)\n",
    "PRE_train_label = left_right(PRE_train_label)\n",
    "ART_val_label = left_right(ART_val_label)\n",
    "PRE_val_label = left_right(PRE_val_label)"
   ]
  },
  {
   "cell_type": "code",
   "execution_count": null,
   "metadata": {},
   "outputs": [],
   "source": [
    "ART_train_label"
   ]
  },
  {
   "cell_type": "code",
   "execution_count": null,
   "metadata": {},
   "outputs": [],
   "source": []
  }
 ],
 "metadata": {
  "kernelspec": {
   "display_name": "main_env",
   "language": "python",
   "name": "main_env"
  },
  "language_info": {
   "codemirror_mode": {
    "name": "ipython",
    "version": 3
   },
   "file_extension": ".py",
   "mimetype": "text/x-python",
   "name": "python",
   "nbconvert_exporter": "python",
   "pygments_lexer": "ipython3",
   "version": "3.6.13"
  }
 },
 "nbformat": 4,
 "nbformat_minor": 2
}
