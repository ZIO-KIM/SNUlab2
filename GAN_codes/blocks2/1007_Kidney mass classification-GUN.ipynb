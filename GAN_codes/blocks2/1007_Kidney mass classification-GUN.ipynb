{
 "cells": [
  {
   "cell_type": "markdown",
   "metadata": {},
   "source": [
    "### Import"
   ]
  },
  {
   "cell_type": "code",
   "execution_count": 1,
   "metadata": {},
   "outputs": [],
   "source": [
    "import pandas as pd\n",
    "import numpy as np\n",
    "\n",
    "import os\n",
    "from tqdm import tqdm\n",
    "import json\n",
    "import shutil\n",
    "\n",
    "# image data\n",
    "from PIL import Image\n",
    "from glob import glob\n",
    "# import cv2"
   ]
  },
  {
   "cell_type": "code",
   "execution_count": 3,
   "metadata": {},
   "outputs": [],
   "source": [
    "import os\n",
    "os.environ[\"CUDA_VISIBLE_DEVICES\"]=\"0\""
   ]
  },
  {
   "cell_type": "code",
   "execution_count": 4,
   "metadata": {},
   "outputs": [
    {
     "name": "stdout",
     "output_type": "stream",
     "text": [
      "Wed Oct 12 08:01:20 2022       \r\n",
      "+-----------------------------------------------------------------------------+\r\n",
      "| NVIDIA-SMI 418.67       Driver Version: 418.67       CUDA Version: 10.1     |\r\n",
      "|-------------------------------+----------------------+----------------------+\r\n",
      "| GPU  Name        Persistence-M| Bus-Id        Disp.A | Volatile Uncorr. ECC |\r\n",
      "| Fan  Temp  Perf  Pwr:Usage/Cap|         Memory-Usage | GPU-Util  Compute M. |\r\n",
      "|===============================+======================+======================|\r\n",
      "|   0  Tesla V100-SXM2...  On   | 00000000:00:05.0 Off |                  Off |\r\n",
      "| N/A   34C    P0    38W / 300W |      0MiB / 32480MiB |      0%      Default |\r\n",
      "+-------------------------------+----------------------+----------------------+\r\n",
      "|   1  Tesla V100-SXM2...  On   | 00000000:00:06.0 Off |                  Off |\r\n",
      "| N/A   34C    P0    64W / 300W |  31117MiB / 32480MiB |      0%      Default |\r\n",
      "+-------------------------------+----------------------+----------------------+\r\n",
      "                                                                               \r\n",
      "+-----------------------------------------------------------------------------+\r\n",
      "| Processes:                                                       GPU Memory |\r\n",
      "|  GPU       PID   Type   Process name                             Usage      |\r\n",
      "|=============================================================================|\r\n",
      "+-----------------------------------------------------------------------------+\r\n"
     ]
    }
   ],
   "source": [
    "!nvidia-smi"
   ]
  },
  {
   "cell_type": "markdown",
   "metadata": {},
   "source": [
    "### 1. EDA"
   ]
  },
  {
   "cell_type": "code",
   "execution_count": 5,
   "metadata": {},
   "outputs": [
    {
     "data": {
      "text/plain": [
       "'/home/ncp/workspace/blocks3/Gun_code'"
      ]
     },
     "execution_count": 5,
     "metadata": {},
     "output_type": "execute_result"
    }
   ],
   "source": [
    "os.getcwd()"
   ]
  },
  {
   "cell_type": "code",
   "execution_count": 6,
   "metadata": {},
   "outputs": [
    {
     "name": "stdout",
     "output_type": "stream",
     "text": [
      "ART_TRAIN N:  2398\n",
      "PRE_TRAIN N:  2369\n"
     ]
    }
   ],
   "source": [
    "# define paths for ART, PRE train datas\n",
    "\n",
    "ART_path = '/home/ncp/workspace/blocks1/kidneyData_windowing_mass/TRAIN/ART/'\n",
    "PRE_path = '/home/ncp/workspace/blocks1/kidneyData_windowing_mass/TRAIN/PRE/'\n",
    "\n",
    "print(\"ART_TRAIN N: \", len(os.listdir(ART_path)))\n",
    "print(\"PRE_TRAIN N: \", len(os.listdir(PRE_path)))"
   ]
  },
  {
   "cell_type": "code",
   "execution_count": 9,
   "metadata": {},
   "outputs": [],
   "source": [
    "new_ART_train_path = '/home/ncp/workspace/blocks3/kidneyData_windowing_mass_classified/TRAIN/ART/'\n",
    "new_ART_test_path = '/home/ncp/workspace/blocks3/kidneyData_windowing_mass_classified/TEST/ART/'\n",
    "new_PRE_train_path = '/home/ncp/workspace/blocks3/kidneyData_windowing_mass_classified/TRAIN/PRE/'\n",
    "new_PRE_test_path = '/home/ncp/workspace/blocks3/kidneyData_windowing_mass_classified/TEST/PRE/'\n"
   ]
  },
  {
   "cell_type": "markdown",
   "metadata": {},
   "source": [
    "ART"
   ]
  },
  {
   "cell_type": "code",
   "execution_count": 10,
   "metadata": {},
   "outputs": [
    {
     "name": "stdout",
     "output_type": "stream",
     "text": [
      "ART Train : \n",
      "RCC  1091\n",
      "AML + onco  1307\n",
      "----------\n",
      "ART Test : \n",
      "RCC  254\n",
      "AML + onco  69\n",
      "----------\n",
      "PRE Train : \n",
      "RCC  1064\n",
      "AML + onco  1305\n",
      "----------\n",
      "PRE Test : \n",
      "RCC  256\n",
      "AML + onco  75\n",
      "----------\n"
     ]
    }
   ],
   "source": [
    "# check len of each labels\n",
    "\n",
    "print(\"ART Train : \")\n",
    "print(\"RCC \", len(os.listdir(new_ART_train_path + 'RCC/')))\n",
    "print(\"AML + onco \", len(os.listdir(new_ART_train_path + 'AML + onco/')))\n",
    "print(\"----------\")\n",
    "print(\"ART Test : \")\n",
    "print(\"RCC \", len(os.listdir(new_ART_test_path + 'RCC/')))\n",
    "print(\"AML + onco \", len(os.listdir(new_ART_test_path + 'AML + onco/')))\n",
    "print(\"----------\")\n",
    "print(\"PRE Train : \")\n",
    "print(\"RCC \", len(os.listdir(new_PRE_train_path + 'RCC/')))\n",
    "print(\"AML + onco \", len(os.listdir(new_PRE_train_path + 'AML + onco/')))\n",
    "print(\"----------\")\n",
    "print(\"PRE Test : \")\n",
    "print(\"RCC \", len(os.listdir(new_PRE_test_path + 'RCC/')))\n",
    "print(\"AML + onco \", len(os.listdir(new_PRE_test_path + 'AML + onco/')))\n",
    "print(\"----------\")"
   ]
  },
  {
   "cell_type": "markdown",
   "metadata": {},
   "source": [
    "### 3. Classification"
   ]
  },
  {
   "cell_type": "code",
   "execution_count": 11,
   "metadata": {},
   "outputs": [],
   "source": [
    "import tensorflow.keras as keras\n",
    "from tensorflow.keras.preprocessing.image import ImageDataGenerator, load_img, img_to_array\n",
    "from tensorflow.keras.models import Sequential\n",
    "from keras.utils import np_utils\n",
    "from tensorflow.keras import layers\n",
    "from tensorflow.keras.layers import Dense,Activation, Flatten, Dropout, BatchNormalization, Conv2D, MaxPooling2D\n",
    "from tensorflow.keras.callbacks import ModelCheckpoint, EarlyStopping\n",
    "from tensorflow.keras import regularizers, optimizers\n",
    "import tensorflow as tf\n",
    "from tensorflow.keras.applications import ResNet50,VGG16,ResNet101, VGG19, DenseNet201,   MobileNetV2 # ,EfficientNetB4\n",
    "from tensorflow.keras.applications import resnet, vgg16 , vgg19, densenet,  mobilenet_v2 # ,efficientnet\n",
    "from tensorflow.keras import Model\n",
    "\n",
    "import numpy as np\n",
    "import matplotlib.pyplot as plt\n",
    "import pandas as pd\n",
    "\n",
    "import scipy\n",
    "\n",
    "import PIL\n",
    "import os"
   ]
  },
  {
   "cell_type": "code",
   "execution_count": 12,
   "metadata": {},
   "outputs": [],
   "source": [
    "from tensorflow.compat.v1 import ConfigProto\n",
    "from tensorflow.compat.v1 import InteractiveSession\n",
    "\n",
    "config = ConfigProto()\n",
    "config.gpu_options.allow_growth = True\n",
    "session = InteractiveSession(config=config)"
   ]
  },
  {
   "cell_type": "code",
   "execution_count": 13,
   "metadata": {},
   "outputs": [],
   "source": [
    "batch_size = 32\n",
    "img_height = 512\n",
    "img_width = 512"
   ]
  },
  {
   "cell_type": "code",
   "execution_count": 14,
   "metadata": {},
   "outputs": [
    {
     "name": "stdout",
     "output_type": "stream",
     "text": [
      "Found 1919 images belonging to 2 classes.\n",
      "Found 479 images belonging to 2 classes.\n",
      "Found 323 images belonging to 2 classes.\n",
      "Found 1896 images belonging to 2 classes.\n",
      "Found 473 images belonging to 2 classes.\n",
      "Found 331 images belonging to 2 classes.\n"
     ]
    }
   ],
   "source": [
    "ART_train_path = '/home/ncp/workspace/blocks3/kidneyData_windowing_mass_classified/TRAIN/ART/'\n",
    "ART_test_path = '/home/ncp/workspace/blocks3/kidneyData_windowing_mass_classified/TEST/ART/'\n",
    "PRE_train_path = '/home/ncp/workspace/blocks3/kidneyData_windowing_mass_classified/TRAIN/PRE/'\n",
    "PRE_test_path = '/home/ncp/workspace/blocks3/kidneyData_windowing_mass_classified/TEST/PRE/'\n",
    "\n",
    "image_shape = (512, 512, 3)\n",
    "N_CLASSES = 2\n",
    "BATCH_SIZE = 32\n",
    "\n",
    "train_datagen = ImageDataGenerator(dtype='float32', \n",
    "                                       preprocessing_function=resnet.preprocess_input,\n",
    "                                       validation_split = 0.2)\n",
    "\n",
    "test_datagen = ImageDataGenerator(dtype='float32', \n",
    "                                  preprocessing_function=resnet.preprocess_input, \n",
    "                                  rescale= 1./255.)\n",
    "\n",
    "ART_train_generator = train_datagen.flow_from_directory(ART_train_path,\n",
    "                                                   batch_size = BATCH_SIZE,\n",
    "                                                   target_size = (512, 512),\n",
    "                                                   class_mode = 'categorical', \n",
    "                                                    subset = 'training')\n",
    "ART_val_generator = train_datagen.flow_from_directory(ART_train_path,\n",
    "                                                   batch_size = BATCH_SIZE,\n",
    "                                                   target_size = (512, 512),\n",
    "                                                   class_mode = 'categorical', \n",
    "                                                    subset = 'validation')\n",
    "ART_test_generator = test_datagen.flow_from_directory(ART_test_path,\n",
    "                                                   batch_size = BATCH_SIZE,\n",
    "                                                   target_size = (512, 512),\n",
    "                                                   class_mode = 'categorical')\n",
    "                                                    \n",
    "\n",
    "PRE_train_generator = train_datagen.flow_from_directory(PRE_train_path,\n",
    "                                                   batch_size = BATCH_SIZE,\n",
    "                                                   target_size = (512, 512),\n",
    "                                                   class_mode = 'categorical', \n",
    "                                                    subset = 'training')\n",
    "PRE_val_generator = train_datagen.flow_from_directory(PRE_train_path,\n",
    "                                                   batch_size = BATCH_SIZE,\n",
    "                                                   target_size = (512, 512),\n",
    "                                                   class_mode = 'categorical', \n",
    "                                                    subset = 'validation')\n",
    "PRE_test_generator = test_datagen.flow_from_directory(PRE_test_path,\n",
    "                                                   batch_size = BATCH_SIZE,\n",
    "                                                   target_size = (512, 512),\n",
    "                                                   class_mode = 'categorical')"
   ]
  },
  {
   "cell_type": "markdown",
   "metadata": {},
   "source": [
    "### RESNET50"
   ]
  },
  {
   "cell_type": "code",
   "execution_count": null,
   "metadata": {},
   "outputs": [],
   "source": [
    "# res_model = ResNet50(include_top=False, pooling='avg', weights='imagenet', input_shape = (image_shape))\n",
    "# for layer in res_model.layers:\n",
    "#     if 'conv5' not in layer.name:\n",
    "#         layer.trainable = False"
   ]
  },
  {
   "cell_type": "code",
   "execution_count": null,
   "metadata": {},
   "outputs": [],
   "source": [
    "res_model = ResNet50(include_top=False, pooling='avg', weights=None, input_shape = (image_shape))\n",
    "for layer in res_model.layers:\n",
    "    if 'conv5' not in layer.name:\n",
    "        layer.trainable = False"
   ]
  },
  {
   "cell_type": "code",
   "execution_count": null,
   "metadata": {},
   "outputs": [],
   "source": [
    "model = Sequential()\n",
    "model.add(res_model)\n",
    "model.add(Dropout(0.6))\n",
    "model.add(Flatten())\n",
    "model.add(BatchNormalization())\n",
    "model.add(Dropout(0.6))\n",
    "model.add(Dense(N_CLASSES, activation='softmax'))\n",
    "model.summary()"
   ]
  },
  {
   "cell_type": "code",
   "execution_count": null,
   "metadata": {},
   "outputs": [],
   "source": [
    "model.summary()"
   ]
  },
  {
   "cell_type": "code",
   "execution_count": null,
   "metadata": {},
   "outputs": [],
   "source": [
    "from tensorflow.keras.callbacks import ReduceLROnPlateau\n",
    "optimizer = optimizers.Adam(learning_rate= 0.00001, decay= 1e-6)\n",
    "\n",
    "\n",
    "learning_rate_reduction = ReduceLROnPlateau(monitor='val_loss',\n",
    "                                           patience =3, \n",
    "                                           verbose =1,\n",
    "                                            factor = 0.2,\n",
    "                                            min_lr =0.0000001)\n",
    "model.compile(optimizer=optimizer, loss = 'categorical_crossentropy', metrics = ['acc'])"
   ]
  },
  {
   "cell_type": "code",
   "execution_count": null,
   "metadata": {
    "scrolled": true
   },
   "outputs": [],
   "source": [
    "# ART train\n",
    "checkpointer = ModelCheckpoint(filepath='./mass_ART-ResNet50.hdf5',\n",
    "                           monitor='val_loss', verbose = 1,\n",
    "                           save_best_only=True)\n",
    "early_stopping = EarlyStopping(verbose=1, patience=15)\n",
    "\n",
    "history_res = model.fit(ART_train_generator,\n",
    "                    steps_per_epoch = 20,\n",
    "                    epochs = 100,\n",
    "                    verbose = 1,\n",
    "                    validation_data = ART_val_generator,\n",
    "                    callbacks = [checkpointer, early_stopping,learning_rate_reduction])                   "
   ]
  },
  {
   "cell_type": "code",
   "execution_count": null,
   "metadata": {
    "scrolled": true
   },
   "outputs": [],
   "source": [
    "result = model.evaluate(ART_test_generator)"
   ]
  },
  {
   "cell_type": "code",
   "execution_count": null,
   "metadata": {},
   "outputs": [],
   "source": [
    "plt.plot(history_res.history['acc'], label = 'train',)\n",
    "plt.plot(history_res.history['val_acc'], label = 'val')\n",
    "\n",
    "plt.legend(loc = 'right')\n",
    "plt.xlabel('epochs')\n",
    "plt.ylabel('accuracy')\n",
    "plt.show()"
   ]
  },
  {
   "cell_type": "code",
   "execution_count": null,
   "metadata": {
    "scrolled": true
   },
   "outputs": [],
   "source": [
    "# PRE train\n",
    "\n",
    "checkpointer = ModelCheckpoint(filepath='./cancer_PRE-ResNet50.hdf5',\n",
    "                            monitor='val_loss', verbose = 1,\n",
    "                            save_best_only=True)\n",
    "early_stopping = EarlyStopping(verbose=1, patience=15)\n",
    "\n",
    "history_res = model.fit(PRE_train_generator,\n",
    "                    steps_per_epoch = 20,\n",
    "                    epochs = 50,\n",
    "                    verbose = 1,\n",
    "                    validation_data = PRE_val_generator,\n",
    "                    callbacks = [checkpointer, early_stopping,learning_rate_reduction])"
   ]
  },
  {
   "cell_type": "code",
   "execution_count": null,
   "metadata": {},
   "outputs": [],
   "source": [
    "result = model.evaluate(PRE_test_generator)"
   ]
  },
  {
   "cell_type": "code",
   "execution_count": null,
   "metadata": {},
   "outputs": [],
   "source": [
    "plt.plot(history_res.history['acc'], label = 'train',)\n",
    "plt.plot(history_res.history['val_acc'], label = 'val')\n",
    "\n",
    "plt.legend(loc = 'right')\n",
    "plt.xlabel('epochs')\n",
    "plt.ylabel('accuracy')\n",
    "plt.show()"
   ]
  },
  {
   "cell_type": "markdown",
   "metadata": {},
   "source": [
    "## compare"
   ]
  },
  {
   "cell_type": "code",
   "execution_count": null,
   "metadata": {},
   "outputs": [],
   "source": [
    "os.getcwd()"
   ]
  },
  {
   "cell_type": "code",
   "execution_count": null,
   "metadata": {},
   "outputs": [],
   "source": [
    "path_resnet_ART = '/home/ncp/workspace/blocks3/zio_code/cancer_ART-ResNet50.hdf5'\n",
    "ART_resnet = tf.keras.models.load_model(path_resnet_ART)"
   ]
  },
  {
   "cell_type": "code",
   "execution_count": null,
   "metadata": {},
   "outputs": [],
   "source": [
    "path_resnet_PRE = '/home/ncp/workspace/blocks3/zio_code/cancer_PRE-ResNet50.hdf5'\n",
    "PRE_resnet = tf.keras.models.load_model(path_resnet_PRE)"
   ]
  },
  {
   "cell_type": "markdown",
   "metadata": {},
   "source": [
    "### 2. Create label - with configuration image           \n",
    "run '2. Create label' section first to create label dataframes"
   ]
  },
  {
   "cell_type": "code",
   "execution_count": null,
   "metadata": {},
   "outputs": [],
   "source": [
    "# 기존 kidney_data - ART, PRE - Test, Train imageset 을 3개의 label별 폴더로 분류\n",
    "\n",
    "ART_train_path = '/home/ncp/workspace/blocks1/kidneyData_windowing/Train_data/ART/'\n",
    "PRE_train_path = '/home/ncp/workspace/blocks1/kidneyData_windowing/Train_data/PRE/'\n",
    "ART_test_path = '/home/ncp/workspace/blocks1/kidneyData_windowing/Test_data/ART/'\n",
    "PRE_test_path = '/home/ncp/workspace/blocks1/kidneyData_windowing/Test_data/PRE/'\n",
    "\n",
    "new_ART_train_path = '/home/ncp/workspace/blocks3/zio_code/kidneyData_windowing/TRAIN/ART/'\n",
    "new_ART_test_path = '/home/ncp/workspace/blocks3/zio_code/kidneyData_windowing/TEST/ART/'\n",
    "new_PRE_train_path = '/home/ncp/workspace/blocks3/zio_code/kidneyData_windowing/TRAIN/PRE/'\n",
    "new_PRE_test_path = '/home/ncp/workspace/blocks3/zio_code/kidneyData_windowing/TEST/PRE/'\n",
    "\n",
    "# make dir\n",
    "def makedir(path): \n",
    "    if not os.path.exists(path): \n",
    "        os.mkdir(path)\n",
    "        \n",
    "dir = '/home/ncp/workspace/blocks3/zio_code/kidneyData_windowing/'\n",
    "makedir(os.path.join(dir, \"TRAIN\"))\n",
    "makedir(os.path.join(dir, \"TEST\"))\n",
    "\n",
    "makedir(os.path.join(dir, \"TRAIN\", \"ART\"))\n",
    "makedir(os.path.join(dir, \"TRAIN\", \"ART\", \"RCC\"))\n",
    "makedir(os.path.join(dir, \"TRAIN\", \"ART\", \"AML + onco\"))\n",
    "\n",
    "makedir(os.path.join(dir, \"TEST\", \"ART\"))\n",
    "makedir(os.path.join(dir, \"TEST\", \"ART\", \"RCC\"))\n",
    "makedir(os.path.join(dir, \"TEST\", \"ART\", \"AML + onco\"))\n",
    "\n",
    "makedir(os.path.join(dir, \"TRAIN\", \"PRE\"))\n",
    "makedir(os.path.join(dir, \"TRAIN\", \"PRE\", \"RCC\"))\n",
    "makedir(os.path.join(dir, \"TRAIN\", \"PRE\", \"AML + onco\"))\n",
    "\n",
    "makedir(os.path.join(dir, \"TEST\", \"PRE\"))\n",
    "makedir(os.path.join(dir, \"TEST\", \"PRE\", \"RCC\"))\n",
    "makedir(os.path.join(dir, \"TEST\", \"PRE\", \"AML + onco\"))\n",
    "\n",
    "\n",
    "# create img name list\n",
    "art_train_list = os.listdir(ART_train_path)\n",
    "pre_train_list = os.listdir(PRE_train_path)\n",
    "art_test_list = os.listdir(ART_test_path)\n",
    "pre_test_list = os.listdir(PRE_test_path)\n",
    "\n",
    "\n",
    "# ART train\n",
    "for img in tqdm(art_train_list): \n",
    "    case_id = img[0:10]\n",
    "    label = ART_train_label.loc[ART_train_label['case_id'] == case_id, 'label'].unique().tolist()\n",
    "    if label == ['RCC']: \n",
    "        shutil.copy(ART_train_path + img, new_ART_train_path + 'RCC/' + img)\n",
    "    if label == ['AML + onco']: \n",
    "        shutil.copy(ART_train_path + img, new_ART_train_path + 'AML + onco/' + img)\n",
    "\n",
    "# PRE train\n",
    "for img in tqdm(pre_train_list): \n",
    "    case_id = img[0:10]\n",
    "    label = PRE_train_label.loc[PRE_train_label['case_id'] == case_id, 'label'].unique().tolist()\n",
    "    if label == ['RCC']: \n",
    "        shutil.copy(PRE_train_path + img, new_PRE_train_path + 'RCC/' + img)\n",
    "    if label == ['AML + onco']: \n",
    "        shutil.copy(PRE_train_path + img, new_PRE_train_path + 'AML + onco/' + img)\n",
    "        \n",
    "# ART test\n",
    "for img in tqdm(art_test_list): \n",
    "    case_id = img[0:10]\n",
    "    label = ART_val_label.loc[ART_val_label['case_id'] == case_id, 'label'].unique().tolist()\n",
    "    if label == ['RCC']: \n",
    "        shutil.copy(ART_test_path + img, new_ART_test_path + 'RCC/' + img)\n",
    "    if label == ['AML + onco']: \n",
    "        shutil.copy(ART_test_path + img, new_ART_test_path + 'AML + onco/' + img)\n",
    "        \n",
    "# PRE test\n",
    "for img in tqdm(pre_test_list): \n",
    "    case_id = img[0:10]\n",
    "    label = PRE_val_label.loc[PRE_val_label['case_id'] == case_id, 'label'].unique().tolist()\n",
    "    if label == ['RCC']: \n",
    "        shutil.copy(PRE_test_path + img, new_PRE_test_path + 'RCC/' + img)\n",
    "    if label == ['AML + onco']: \n",
    "        shutil.copy(PRE_test_path + img, new_PRE_test_path + 'AML + onco/' + img)"
   ]
  },
  {
   "cell_type": "code",
   "execution_count": null,
   "metadata": {},
   "outputs": [],
   "source": [
    "# check len of each labels\n",
    "\n",
    "print(\"ART Train : \")\n",
    "print(\"RCC \", len(os.listdir(new_ART_train_path + 'RCC/')))\n",
    "print(\"AML + onco \", len(os.listdir(new_ART_train_path + 'AML + onco/')))\n",
    "print(\"----------\")\n",
    "print(\"ART Test : \")\n",
    "print(\"RCC \", len(os.listdir(new_ART_test_path + 'RCC/')))\n",
    "print(\"AML + onco \", len(os.listdir(new_ART_test_path + 'AML + onco/')))\n",
    "print(\"----------\")\n",
    "print(\"PRE Train : \")\n",
    "print(\"RCC \", len(os.listdir(new_PRE_train_path + 'RCC/')))\n",
    "print(\"AML + onco \", len(os.listdir(new_PRE_train_path + 'AML + onco/')))\n",
    "print(\"----------\")\n",
    "print(\"PRE Test : \")\n",
    "print(\"RCC \", len(os.listdir(new_PRE_test_path + 'RCC/')))\n",
    "print(\"AML + onco \", len(os.listdir(new_PRE_test_path + 'AML + onco/')))\n",
    "print(\"----------\")"
   ]
  },
  {
   "cell_type": "markdown",
   "metadata": {},
   "source": [
    "### 3. Classification - with configuration image"
   ]
  },
  {
   "cell_type": "code",
   "execution_count": null,
   "metadata": {},
   "outputs": [],
   "source": [
    "import tensorflow.keras as keras\n",
    "from tensorflow.keras.preprocessing.image import ImageDataGenerator, load_img, img_to_array\n",
    "from tensorflow.keras.models import Sequential\n",
    "from keras.utils import np_utils\n",
    "from tensorflow.keras.layers import Dense,Activation, Flatten, Dropout, BatchNormalization, Conv2D, MaxPooling2D\n",
    "from tensorflow.keras.callbacks import ModelCheckpoint, EarlyStopping\n",
    "from tensorflow.keras import regularizers, optimizers\n",
    "import tensorflow as tf\n",
    "from tensorflow.keras.applications import ResNet50,VGG16,ResNet101, VGG19, DenseNet201,   MobileNetV2 # ,EfficientNetB4\n",
    "from tensorflow.keras.applications import resnet, vgg16 , vgg19, densenet,  mobilenet_v2 # ,efficientnet\n",
    "from tensorflow.keras import Model\n",
    "\n",
    "import numpy as np\n",
    "import matplotlib.pyplot as plt\n",
    "import pandas as pd\n",
    "\n",
    "import scipy\n",
    "\n",
    "import PIL\n",
    "import os"
   ]
  },
  {
   "cell_type": "code",
   "execution_count": null,
   "metadata": {},
   "outputs": [],
   "source": [
    "gpus =tf.config.experimental.list_physical_devices('GPU')\n",
    "if gpus: \n",
    "    # tensorflow가 첫번째 gpu만 사용하도록 제한\n",
    "    try: \n",
    "        tf.config.experimental.set_visible_devices(gpus[0], 'GPU')\n",
    "    except RuntimeError as e: \n",
    "        print(e)"
   ]
  },
  {
   "cell_type": "code",
   "execution_count": null,
   "metadata": {},
   "outputs": [],
   "source": [
    "import os\n",
    "os.environ[\"CUDA_VISIBLE_DEVICES\"]=\"0\""
   ]
  },
  {
   "cell_type": "code",
   "execution_count": null,
   "metadata": {},
   "outputs": [],
   "source": [
    "print(gpus[0])"
   ]
  },
  {
   "cell_type": "code",
   "execution_count": null,
   "metadata": {},
   "outputs": [],
   "source": [
    "#tf.test.is_gpu_available()\n",
    "#tf.test.is_built_with_cuda()\n",
    "tf.test.is_built_with_gpu_support()"
   ]
  },
  {
   "cell_type": "code",
   "execution_count": null,
   "metadata": {},
   "outputs": [],
   "source": [
    "from tensorflow.python.client import device_lib\n",
    "device_lib.list_local_devices()"
   ]
  },
  {
   "cell_type": "code",
   "execution_count": null,
   "metadata": {},
   "outputs": [],
   "source": [
    "from tensorflow.compat.v1 import ConfigProto\n",
    "from tensorflow.compat.v1 import InteractiveSession\n",
    "\n",
    "config = ConfigProto()\n",
    "config.gpu_options.allow_growth = True\n",
    "session = InteractiveSession(config=config)"
   ]
  },
  {
   "cell_type": "code",
   "execution_count": null,
   "metadata": {},
   "outputs": [],
   "source": [
    "batch_size = 32\n",
    "img_height = 512\n",
    "img_width = 512"
   ]
  },
  {
   "cell_type": "code",
   "execution_count": null,
   "metadata": {},
   "outputs": [],
   "source": [
    "ART_train_path = '/home/ncp/workspace/blocks3/zio_code/kidneyData_windowing/TRAIN/ART/'\n",
    "ART_test_path = '/home/ncp/workspace/blocks3/zio_code/kidneyData_windowing/TEST/ART/'\n",
    "PRE_train_path = '/home/ncp/workspace/blocks3/zio_code/kidneyData_windowing/TRAIN/PRE/'\n",
    "PRE_test_path = '/home/ncp/workspace/blocks3/zio_code/kidneyData_windowing/TEST/PRE/'\n",
    "\n",
    "image_shape = (512, 512, 3)\n",
    "N_CLASSES = 2\n",
    "BATCH_SIZE = 32\n",
    "\n",
    "train_datagen = ImageDataGenerator(dtype='float32', \n",
    "                                       rescale= 1./255.,\n",
    "                                       validation_split = 0.2)\n",
    "\n",
    "test_datagen = ImageDataGenerator(dtype='float32', \n",
    "                                       rescale= 1./255.)\n",
    "\n",
    "ART_train_generator = train_datagen.flow_from_directory(ART_train_path,\n",
    "                                                   batch_size = BATCH_SIZE,\n",
    "                                                   target_size = (512, 512),\n",
    "                                                   class_mode = 'categorical', \n",
    "                                                    subset = 'training')\n",
    "ART_val_generator = train_datagen.flow_from_directory(ART_train_path,\n",
    "                                                   batch_size = BATCH_SIZE,\n",
    "                                                   target_size = (512, 512),\n",
    "                                                   class_mode = 'categorical', \n",
    "                                                    subset = 'validation')\n",
    "ART_test_generator = test_datagen.flow_from_directory(ART_test_path,\n",
    "                                                   batch_size = BATCH_SIZE,\n",
    "                                                   target_size = (512, 512),\n",
    "                                                   class_mode = 'categorical')\n",
    "                                                    \n",
    "\n",
    "PRE_train_generator = train_datagen.flow_from_directory(PRE_train_path,\n",
    "                                                   batch_size = BATCH_SIZE,\n",
    "                                                   target_size = (512, 512),\n",
    "                                                   class_mode = 'categorical', \n",
    "                                                    subset = 'training')\n",
    "PRE_val_generator = train_datagen.flow_from_directory(PRE_train_path,\n",
    "                                                   batch_size = BATCH_SIZE,\n",
    "                                                   target_size = (512, 512),\n",
    "                                                   class_mode = 'categorical', \n",
    "                                                    subset = 'validation')\n",
    "PRE_test_generator = test_datagen.flow_from_directory(PRE_test_path,\n",
    "                                                   batch_size = BATCH_SIZE,\n",
    "                                                   target_size = (512, 512),\n",
    "                                                   class_mode = 'categorical')"
   ]
  },
  {
   "cell_type": "markdown",
   "metadata": {},
   "source": [
    "### RESNET50"
   ]
  },
  {
   "cell_type": "code",
   "execution_count": null,
   "metadata": {},
   "outputs": [],
   "source": [
    "image_shape = (512, 512, 3)\n",
    "res_model = ResNet50(include_top=False, pooling='avg', weights='imagenet', input_shape = (image_shape))\n",
    "for layer in res_model.layers:\n",
    "    if 'conv5' not in layer.name:\n",
    "        layer.trainable = False\n",
    "# Check if all layers except conv5 layers are not trainable\n",
    "#for i, layer in enumerate(res_model.layers):\n",
    "#    print(i, layer.name, \"-\", layer.trainable)"
   ]
  },
  {
   "cell_type": "code",
   "execution_count": null,
   "metadata": {},
   "outputs": [],
   "source": [
    "N_CLASSES = 2\n",
    "model = Sequential()\n",
    "model.add(res_model)\n",
    "model.add(Dropout(0.6))\n",
    "model.add(Flatten())\n",
    "model.add(BatchNormalization())\n",
    "model.add(Dropout(0.6))\n",
    "model.add(Dense(N_CLASSES, activation='softmax'))\n",
    "model.summary()"
   ]
  },
  {
   "cell_type": "code",
   "execution_count": null,
   "metadata": {},
   "outputs": [],
   "source": [
    "optimizer = optimizers.Adam(learning_rate= 0.00001, decay= 1e-6)\n",
    "model.compile(optimizer=optimizer, loss = 'categorical_crossentropy', metrics = ['acc'])"
   ]
  },
  {
   "cell_type": "code",
   "execution_count": null,
   "metadata": {
    "scrolled": true
   },
   "outputs": [],
   "source": [
    "# ART train\n",
    "checkpointer = ModelCheckpoint(filepath='./cancer_configuration_ART-ResNet50.hdf5',\n",
    "                            monitor='val_loss', verbose = 1,\n",
    "                            save_best_only=True)\n",
    "early_stopping = EarlyStopping(verbose=1, patience=15)\n",
    "\n",
    "history_res = model.fit(ART_train_generator,\n",
    "                    steps_per_epoch = 20,\n",
    "                    epochs = 100,\n",
    "                    verbose = 1,\n",
    "                    validation_data = ART_val_generator,\n",
    "                    callbacks = [checkpointer, early_stopping])"
   ]
  },
  {
   "cell_type": "code",
   "execution_count": null,
   "metadata": {},
   "outputs": [],
   "source": [
    "tf.isgpu_available()"
   ]
  },
  {
   "cell_type": "code",
   "execution_count": null,
   "metadata": {},
   "outputs": [],
   "source": [
    "result = model.evaluate(ART_test_generator)"
   ]
  },
  {
   "cell_type": "code",
   "execution_count": null,
   "metadata": {},
   "outputs": [],
   "source": [
    "plt.plot(history_res.history['acc'], label = 'train',)\n",
    "plt.plot(history_res.history['val_acc'], label = 'val')\n",
    "\n",
    "plt.legend(loc = 'right')\n",
    "plt.xlabel('epochs')\n",
    "plt.ylabel('accuracy')\n",
    "plt.show()"
   ]
  },
  {
   "cell_type": "code",
   "execution_count": null,
   "metadata": {
    "scrolled": true
   },
   "outputs": [],
   "source": [
    "history_res.history['acc']"
   ]
  },
  {
   "cell_type": "code",
   "execution_count": null,
   "metadata": {
    "scrolled": true
   },
   "outputs": [],
   "source": [
    "history_res.history['val_loss']"
   ]
  },
  {
   "cell_type": "code",
   "execution_count": null,
   "metadata": {},
   "outputs": [],
   "source": [
    "model_test = tf.keras.models.load_model('./cancer_configuration_ART-ResNet50.hdf5')\n",
    "model_test.evaluate(ART_test_generator)"
   ]
  },
  {
   "cell_type": "code",
   "execution_count": null,
   "metadata": {
    "scrolled": true
   },
   "outputs": [],
   "source": [
    "# PRE train\n",
    "checkpointer = ModelCheckpoint(filepath='./cancer_configuration_PRE-ResNet50.hdf5',\n",
    "                            monitor='val_loss', verbose = 1,\n",
    "                            save_best_only=True)\n",
    "early_stopping = EarlyStopping(verbose=1, patience=15)\n",
    "\n",
    "history_res = model.fit(PRE_train_generator,\n",
    "                    steps_per_epoch = 20,\n",
    "                    epochs = 100,\n",
    "                    verbose = 1,\n",
    "                    validation_data = PRE_val_generator,\n",
    "                    callbacks = [checkpointer, early_stopping])"
   ]
  },
  {
   "cell_type": "code",
   "execution_count": null,
   "metadata": {},
   "outputs": [],
   "source": [
    "result = model.evaluate(PRE_test_generator)"
   ]
  },
  {
   "cell_type": "code",
   "execution_count": null,
   "metadata": {},
   "outputs": [],
   "source": [
    "plt.plot(history_res.history['acc'], label = 'train',)\n",
    "plt.plot(history_res.history['val_acc'], label = 'val')\n",
    "\n",
    "plt.legend(loc = 'right')\n",
    "plt.xlabel('epochs')\n",
    "plt.ylabel('accuracy')\n",
    "plt.show()"
   ]
  },
  {
   "cell_type": "markdown",
   "metadata": {},
   "source": [
    "### RESNET101"
   ]
  },
  {
   "cell_type": "code",
   "execution_count": null,
   "metadata": {},
   "outputs": [],
   "source": [
    "image_shape = (512, 512, 3)\n",
    "res101_model = ResNet101(include_top=False, pooling='avg', weights='imagenet', input_shape = (image_shape))\n",
    "for layer in res101_model.layers:\n",
    "    layer.trainable = False"
   ]
  },
  {
   "cell_type": "code",
   "execution_count": null,
   "metadata": {},
   "outputs": [],
   "source": [
    "N_CLASSES = 2\n",
    "\n",
    "model = Sequential()\n",
    "model.add(res101_model)\n",
    "#model.add(Dropout(0.6))\n",
    "model.add(Flatten())\n",
    "model.add(BatchNormalization())\n",
    "model.add(Dense(300))\n",
    "model.add(BatchNormalization())\n",
    "model.add(Dense(100))\n",
    "model.add(BatchNormalization())\n",
    "#model.add(Dropout(0.6))\n",
    "model.add(Dense(N_CLASSES, activation='softmax'))\n",
    "model.summary()"
   ]
  },
  {
   "cell_type": "code",
   "execution_count": null,
   "metadata": {},
   "outputs": [],
   "source": [
    "# ART Train\n",
    "optimizer = optimizers.Adam(learning_rate= 0.00001, decay= 1e-6)\n",
    "model.compile(optimizer=optimizer, loss = 'categorical_crossentropy', metrics = ['acc'])\n",
    "checkpointer = ModelCheckpoint(filepath='./cancer_configuration_ART-ResNet101.hdf5',\n",
    "                            monitor='val_loss', verbose = 1,\n",
    "                            save_best_only=True)\n",
    "early_stopping = EarlyStopping(verbose=1, patience=15)\n",
    "\n",
    "history_res101 = model.fit(ART_train_generator,\n",
    "                    steps_per_epoch = 20,\n",
    "                    epochs = 100,\n",
    "                    verbose = 1,\n",
    "                    validation_data = ART_val_generator,\n",
    "                    callbacks = [checkpointer, early_stopping])"
   ]
  },
  {
   "cell_type": "code",
   "execution_count": null,
   "metadata": {},
   "outputs": [],
   "source": [
    "result = model.evaluate(ART_test_generator)"
   ]
  },
  {
   "cell_type": "code",
   "execution_count": null,
   "metadata": {},
   "outputs": [],
   "source": [
    "plt.plot(history_res101.history['acc'], label = 'train',)\n",
    "plt.plot(history_res101.history['val_acc'], label = 'val')\n",
    "\n",
    "plt.legend(loc = 'right')\n",
    "plt.xlabel('epochs')\n",
    "plt.ylabel('accuracy')\n",
    "plt.show()"
   ]
  },
  {
   "cell_type": "code",
   "execution_count": null,
   "metadata": {
    "scrolled": true
   },
   "outputs": [],
   "source": [
    "# PRE Train\n",
    "optimizer = optimizers.Adam(learning_rate= 0.00001, decay= 1e-6)\n",
    "model.compile(optimizer=optimizer, loss = 'categorical_crossentropy', metrics = ['acc'])\n",
    "checkpointer = ModelCheckpoint(filepath='./cancer_configuration_PRE-ResNet101.hdf5',\n",
    "                            monitor='val_loss', verbose = 1,\n",
    "                            save_best_only=True)\n",
    "early_stopping = EarlyStopping(verbose=1, patience=15)\n",
    "\n",
    "history_res101 = model.fit(PRE_train_generator,\n",
    "                    steps_per_epoch = 20,\n",
    "                    epochs = 100,\n",
    "                    verbose = 1,\n",
    "                    validation_data = PRE_val_generator,\n",
    "                    callbacks = [checkpointer, early_stopping])"
   ]
  },
  {
   "cell_type": "code",
   "execution_count": null,
   "metadata": {},
   "outputs": [],
   "source": [
    "result = model.evaluate(PRE_test_generator)"
   ]
  },
  {
   "cell_type": "code",
   "execution_count": null,
   "metadata": {},
   "outputs": [],
   "source": [
    "plt.plot(history_res101.history['acc'], label = 'train',)\n",
    "plt.plot(history_res101.history['val_acc'], label = 'val')\n",
    "\n",
    "plt.legend(loc = 'right')\n",
    "plt.xlabel('epochs')\n",
    "plt.ylabel('accuracy')\n",
    "plt.show()"
   ]
  },
  {
   "cell_type": "markdown",
   "metadata": {},
   "source": [
    "### Cross validation         \n",
    "change image data directory format to perform cross validation        \n",
    "모델은 ResNet101 을 사용하자. "
   ]
  },
  {
   "cell_type": "code",
   "execution_count": 15,
   "metadata": {},
   "outputs": [],
   "source": [
    "# create dataframe of file list\n",
    "# 라벨별로 분리해둔 폴더에서 filename - label 쌍의 dataframe을 생성\n",
    "\n",
    "ART_train_path = '/home/ncp/workspace/blocks3/kidneyData_windowing_mass_classified/TRAIN/ART/'\n",
    "ART_test_path = '/home/ncp/workspace/blocks3/kidneyData_windowing_mass_classified/TEST/ART/'\n",
    "PRE_train_path = '/home/ncp/workspace/blocks3/kidneyData_windowing_mass_classified/TRAIN/PRE/'\n",
    "PRE_test_path = '/home/ncp/workspace/blocks3/kidneyData_windowing_mass_classified/TEST/PRE/'\n",
    "#GCCT_train_path = '/home/ncp/workspace/blocks1/kidneyData_windowing_mass/TRAIN/GCCT/'\n",
    "#GCCT_test_path = '/home/ncp/workspace/blocks1/kidneyData_windowing_mass/TEST/GCCT/'\n",
    "\n",
    "\n",
    "# ART_train filename + label DF\n",
    "ART_train_RCC = pd.DataFrame(os.listdir(ART_train_path + 'RCC/'))\n",
    "ART_train_RCC['label'] = 'RCC'\n",
    "ART_train_RCC.rename(columns = {0 : 'filename'}, inplace = True)\n",
    "\n",
    "ART_train_AMLonco = pd.DataFrame(os.listdir(ART_train_path + 'AML + onco/'))\n",
    "ART_train_AMLonco['label'] = 'AML + onco'\n",
    "ART_train_AMLonco.rename(columns = {0 : 'filename'}, inplace = True)\n",
    "\n",
    "ART_train_df = pd.concat([ART_train_RCC, ART_train_AMLonco], axis = 0)\n",
    "ART_train_df.reset_index(drop = True, inplace = True)\n",
    "\n",
    "# PRE_train filename + label DF\n",
    "PRE_train_RCC = pd.DataFrame(os.listdir(PRE_train_path + 'RCC/'))\n",
    "PRE_train_RCC['label'] = 'RCC'\n",
    "PRE_train_RCC.rename(columns = {0 : 'filename'}, inplace = True)\n",
    "\n",
    "PRE_train_AMLonco = pd.DataFrame(os.listdir(PRE_train_path + 'AML + onco/'))\n",
    "PRE_train_AMLonco['label'] = 'AML + onco'\n",
    "PRE_train_AMLonco.rename(columns = {0 : 'filename'}, inplace = True)\n",
    "\n",
    "PRE_train_df = pd.concat([PRE_train_RCC, PRE_train_AMLonco], axis = 0)\n",
    "PRE_train_df.reset_index(drop = True, inplace = True)"
   ]
  },
  {
   "cell_type": "code",
   "execution_count": null,
   "metadata": {},
   "outputs": [],
   "source": [
    "# for GCCT \n",
    "\n",
    "GCCT_train_path = '/home/ncp/workspace/blocks1/kidneyData_windowing_mass/TRAIN/GCCT/'\n",
    "GCCT_test_path = '/home/ncp/workspace/blocks1/kidneyData_windowing_mass/TEST/GCCT/'\n",
    "\n",
    "new_GCCT_train_path = '/home/ncp/workspace/blocks3/kidneyData_windowing_mass/TRAIN/GCCT/'\n",
    "new_GCCT_test_path = '/home/ncp/workspace/blocks3/kidneyData_windowing_mass/TEST/GCCT/'\n",
    "\n",
    "def makedir(path): \n",
    "    if not os.path.exists(path): \n",
    "        os.mkdir(path)\n",
    "        \n",
    "dir = '/home/ncp/workspace/blocks3/kidneyData_windowing_mass/'\n",
    "makedir(dir)\n",
    "makedir(os.path.join(dir, \"TRAIN\"))\n",
    "makedir(os.path.join(dir, \"TEST\"))\n",
    "\n",
    "makedir(os.path.join(dir, \"TRAIN\", \"GCCT\"))\n",
    "makedir(os.path.join(dir, \"TRAIN\", \"GCCT\", \"RCC\"))\n",
    "makedir(os.path.join(dir, \"TRAIN\", \"GCCT\", \"AML + onco\"))\n",
    "\n",
    "makedir(os.path.join(dir, \"TEST\", \"GCCT\"))\n",
    "makedir(os.path.join(dir, \"TEST\", \"GCCT\", \"RCC\"))\n",
    "makedir(os.path.join(dir, \"TEST\", \"GCCT\", \"AML + onco\"))\n",
    "\n",
    "# create img name list\n",
    "GCCT_train_list = os.listdir(GCCT_train_path)\n",
    "GCCT_test_list = os.listdir(GCCT_test_path)\n",
    "\n",
    "# GCCT train / we can use same label for GCCT and PRE \n",
    "for img in tqdm(GCCT_train_list): \n",
    "    case_id = img[0:10]\n",
    "    label = PRE_train_label.loc[PRE_train_label['case_id'] == case_id, 'label'].unique().tolist()\n",
    "    if label == ['RCC']: \n",
    "        shutil.copy(GCCT_train_path + img, new_GCCT_train_path + 'RCC/' + img)\n",
    "    if label == ['AML + onco']: \n",
    "        shutil.copy(GCCT_train_path + img, new_GCCT_train_path + 'AML + onco/' + img)\n",
    "        \n",
    "        \n",
    "# GCCT test\n",
    "for img in tqdm(GCCT_test_list): \n",
    "    case_id = img[0:10]\n",
    "    label = PRE_val_label.loc[PRE_val_label['case_id'] == case_id, 'label'].unique().tolist()\n",
    "    if label == ['RCC']: \n",
    "        shutil.copy(GCCT_test_path + img, new_GCCT_test_path + 'RCC/' + img)\n",
    "    if label == ['AML + onco']: \n",
    "        shutil.copy(GCCT_test_path + img, new_GCCT_test_path + 'AML + onco/' + img)"
   ]
  },
  {
   "cell_type": "code",
   "execution_count": 16,
   "metadata": {},
   "outputs": [],
   "source": [
    "# image_shape = (512, 512, 3)\n",
    "# res101_model = ResNet101(include_top=False, pooling='avg', weights='imagenet', input_shape = (image_shape))\n",
    "# for layer in res101_model.layers:\n",
    "#     layer.trainable = False"
   ]
  },
  {
   "cell_type": "code",
   "execution_count": 52,
   "metadata": {},
   "outputs": [],
   "source": [
    "image_shape = (512, 512, 3)\n",
    "res101_model = ResNet101(include_top=False, pooling='avg', weights=None, input_shape = (image_shape))\n",
    "for layer in res101_model.layers:\n",
    "    layer.trainable = True"
   ]
  },
  {
   "cell_type": "code",
   "execution_count": 53,
   "metadata": {},
   "outputs": [
    {
     "name": "stdout",
     "output_type": "stream",
     "text": [
      "Model: \"sequential\"\n",
      "_________________________________________________________________\n",
      "Layer (type)                 Output Shape              Param #   \n",
      "=================================================================\n",
      "resnet101 (Model)            (None, 2048)              42658176  \n",
      "_________________________________________________________________\n",
      "dropout (Dropout)            (None, 2048)              0         \n",
      "_________________________________________________________________\n",
      "flatten (Flatten)            (None, 2048)              0         \n",
      "_________________________________________________________________\n",
      "batch_normalization (BatchNo (None, 2048)              8192      \n",
      "_________________________________________________________________\n",
      "dense (Dense)                (None, 2)                 4098      \n",
      "=================================================================\n",
      "Total params: 42,670,466\n",
      "Trainable params: 42,561,026\n",
      "Non-trainable params: 109,440\n",
      "_________________________________________________________________\n"
     ]
    }
   ],
   "source": [
    "# 모델 정의 - ResNet101\n",
    "image_shape = (512, 512, 3)\n",
    "res101_model = ResNet101(include_top=False, pooling='avg', weights=None, input_shape = (image_shape))\n",
    "for layer in res101_model.layers:\n",
    "    layer.trainable = True\n",
    "\n",
    "N_CLASSES = 2\n",
    "\n",
    "model = Sequential()\n",
    "model.add(res101_model)\n",
    "model.add(Dropout(0.6))\n",
    "model.add(Flatten())\n",
    "model.add(BatchNormalization())\n",
    "#model.add(Dense(300))\n",
    "#model.add(BatchNormalization())\n",
    "#model.add(Dense(100))\n",
    "#model.add(BatchNormalization())\n",
    "#model.add(Dropout(0.6))\n",
    "model.add(Dense(N_CLASSES, activation='softmax'))\n",
    "model.summary()"
   ]
  },
  {
   "cell_type": "code",
   "execution_count": 28,
   "metadata": {},
   "outputs": [],
   "source": [
    "# # test dataset 은 다시 라벨별로 분리해둔 폴더를 사용\n",
    "\n",
    "# ART_test_path = '/home/ncp/workspace/blocks3/zio_code/kidneyData_windowing/TEST/ART/'\n",
    "\n",
    "# BATCH_SIZE = 32\n",
    "\n",
    "# # create datagen\n",
    "# create_datagen = ImageDataGenerator(rescale= 1./255.)\n",
    "\n",
    "\n",
    "# # generate test data first\n",
    "# ART_test_generator = create_datagen.flow_from_directory(ART_test_path,\n",
    "#                                                    batch_size = BATCH_SIZE,\n",
    "#                                                    target_size = (512, 512),\n",
    "#                                                    class_mode = 'categorical')"
   ]
  },
  {
   "cell_type": "code",
   "execution_count": null,
   "metadata": {
    "scrolled": true
   },
   "outputs": [
    {
     "name": "stdout",
     "output_type": "stream",
     "text": [
      "Found 323 images belonging to 2 classes.\n",
      "Found 1918 validated image filenames belonging to 2 classes.\n",
      "Found 480 validated image filenames belonging to 2 classes.\n",
      "Epoch 1/100\n",
      "20/20 [==============================] - ETA: 0s - loss: 0.0450 - accuracy: 0.9812\n",
      "Epoch 00001: val_loss improved from inf to 0.01589, saving model to ./2D_classification_ART-ResNet101_crossval.hdf5\n",
      "20/20 [==============================] - 26s 1s/step - loss: 0.0450 - accuracy: 0.9812 - val_loss: 0.0159 - val_accuracy: 0.9937 - lr: 1.0000e-04\n",
      "Epoch 2/100\n",
      "20/20 [==============================] - ETA: 0s - loss: 0.0830 - accuracy: 0.9734\n",
      "Epoch 00002: val_loss improved from 0.01589 to 0.01395, saving model to ./2D_classification_ART-ResNet101_crossval.hdf5\n",
      "20/20 [==============================] - 15s 733ms/step - loss: 0.0830 - accuracy: 0.9734 - val_loss: 0.0140 - val_accuracy: 0.9937 - lr: 1.0000e-04\n",
      "Epoch 3/100\n",
      "20/20 [==============================] - ETA: 0s - loss: 0.0531 - accuracy: 0.9875\n",
      "Epoch 00003: val_loss did not improve from 0.01395\n",
      "20/20 [==============================] - 10s 518ms/step - loss: 0.0531 - accuracy: 0.9875 - val_loss: 0.0311 - val_accuracy: 0.9833 - lr: 1.0000e-04\n",
      "Epoch 4/100\n",
      "20/20 [==============================] - ETA: 0s - loss: 0.0341 - accuracy: 0.9922\n",
      "Epoch 00004: val_loss improved from 0.01395 to 0.01051, saving model to ./2D_classification_ART-ResNet101_crossval.hdf5\n",
      "20/20 [==============================] - 14s 719ms/step - loss: 0.0341 - accuracy: 0.9922 - val_loss: 0.0105 - val_accuracy: 0.9979 - lr: 1.0000e-04\n",
      "Epoch 5/100\n",
      "20/20 [==============================] - ETA: 0s - loss: 0.0586 - accuracy: 0.9781\n",
      "Epoch 00005: val_loss improved from 0.01051 to 0.00899, saving model to ./2D_classification_ART-ResNet101_crossval.hdf5\n",
      "20/20 [==============================] - 15s 729ms/step - loss: 0.0586 - accuracy: 0.9781 - val_loss: 0.0090 - val_accuracy: 1.0000 - lr: 1.0000e-04\n",
      "Epoch 6/100\n",
      "20/20 [==============================] - ETA: 0s - loss: 0.0151 - accuracy: 0.9937\n",
      "Epoch 00006: val_loss did not improve from 0.00899\n",
      "20/20 [==============================] - 10s 516ms/step - loss: 0.0151 - accuracy: 0.9937 - val_loss: 0.0930 - val_accuracy: 0.9563 - lr: 1.0000e-04\n",
      "Epoch 7/100\n",
      "20/20 [==============================] - ETA: 0s - loss: 0.0071 - accuracy: 1.0000\n",
      "Epoch 00007: val_loss did not improve from 0.00899\n",
      "20/20 [==============================] - 10s 519ms/step - loss: 0.0071 - accuracy: 1.0000 - val_loss: 0.0148 - val_accuracy: 0.9958 - lr: 1.0000e-04\n",
      "Epoch 8/100\n",
      "20/20 [==============================] - ETA: 0s - loss: 0.0140 - accuracy: 0.9937\n",
      "Epoch 00008: val_loss did not improve from 0.00899\n",
      "\n",
      "Epoch 00008: ReduceLROnPlateau reducing learning rate to 1.9999999494757503e-05.\n",
      "20/20 [==============================] - 10s 520ms/step - loss: 0.0140 - accuracy: 0.9937 - val_loss: 0.0281 - val_accuracy: 0.9937 - lr: 1.0000e-04\n",
      "Epoch 9/100\n",
      "20/20 [==============================] - ETA: 0s - loss: 0.0080 - accuracy: 0.9984\n",
      "Epoch 00009: val_loss improved from 0.00899 to 0.00603, saving model to ./2D_classification_ART-ResNet101_crossval.hdf5\n",
      "20/20 [==============================] - 15s 727ms/step - loss: 0.0080 - accuracy: 0.9984 - val_loss: 0.0060 - val_accuracy: 0.9979 - lr: 2.0000e-05\n",
      "Epoch 10/100\n",
      "20/20 [==============================] - ETA: 0s - loss: 0.0025 - accuracy: 1.0000\n",
      "Epoch 00010: val_loss improved from 0.00603 to 0.00418, saving model to ./2D_classification_ART-ResNet101_crossval.hdf5\n",
      "20/20 [==============================] - 15s 727ms/step - loss: 0.0025 - accuracy: 1.0000 - val_loss: 0.0042 - val_accuracy: 0.9979 - lr: 2.0000e-05\n",
      "Epoch 11/100\n",
      "20/20 [==============================] - ETA: 0s - loss: 0.0123 - accuracy: 0.9969\n",
      "Epoch 00011: val_loss improved from 0.00418 to 0.00338, saving model to ./2D_classification_ART-ResNet101_crossval.hdf5\n",
      "20/20 [==============================] - 13s 668ms/step - loss: 0.0123 - accuracy: 0.9969 - val_loss: 0.0034 - val_accuracy: 1.0000 - lr: 2.0000e-05\n",
      "Epoch 12/100\n",
      "20/20 [==============================] - ETA: 0s - loss: 0.0026 - accuracy: 1.0000\n",
      "Epoch 00012: val_loss did not improve from 0.00338\n",
      "20/20 [==============================] - 10s 514ms/step - loss: 0.0026 - accuracy: 1.0000 - val_loss: 0.0044 - val_accuracy: 0.9979 - lr: 2.0000e-05\n",
      "Epoch 13/100\n",
      "20/20 [==============================] - ETA: 0s - loss: 0.0028 - accuracy: 1.0000\n",
      "Epoch 00013: val_loss did not improve from 0.00338\n",
      "20/20 [==============================] - 10s 520ms/step - loss: 0.0028 - accuracy: 1.0000 - val_loss: 0.0051 - val_accuracy: 0.9979 - lr: 2.0000e-05\n",
      "Epoch 14/100\n",
      "20/20 [==============================] - ETA: 0s - loss: 8.0893e-04 - accuracy: 1.0000\n",
      "Epoch 00014: val_loss did not improve from 0.00338\n",
      "\n",
      "Epoch 00014: ReduceLROnPlateau reducing learning rate to 3.999999898951501e-06.\n",
      "20/20 [==============================] - 10s 517ms/step - loss: 8.0893e-04 - accuracy: 1.0000 - val_loss: 0.0051 - val_accuracy: 0.9979 - lr: 2.0000e-05\n",
      "Epoch 15/100\n",
      "20/20 [==============================] - ETA: 0s - loss: 0.0016 - accuracy: 1.0000\n",
      "Epoch 00015: val_loss did not improve from 0.00338\n",
      "20/20 [==============================] - 10s 518ms/step - loss: 0.0016 - accuracy: 1.0000 - val_loss: 0.0050 - val_accuracy: 0.9979 - lr: 4.0000e-06\n",
      "Epoch 16/100\n",
      "20/20 [==============================] - ETA: 0s - loss: 6.8894e-04 - accuracy: 1.0000\n",
      "Epoch 00016: val_loss did not improve from 0.00338\n",
      "20/20 [==============================] - 10s 519ms/step - loss: 6.8894e-04 - accuracy: 1.0000 - val_loss: 0.0052 - val_accuracy: 0.9979 - lr: 4.0000e-06\n",
      "Epoch 17/100\n",
      "20/20 [==============================] - ETA: 0s - loss: 0.0023 - accuracy: 1.0000\n",
      "Epoch 00017: val_loss did not improve from 0.00338\n",
      "\n",
      "Epoch 00017: ReduceLROnPlateau reducing learning rate to 7.999999979801942e-07.\n",
      "20/20 [==============================] - 10s 517ms/step - loss: 0.0023 - accuracy: 1.0000 - val_loss: 0.0058 - val_accuracy: 0.9979 - lr: 4.0000e-06\n",
      "Epoch 18/100\n",
      "20/20 [==============================] - ETA: 0s - loss: 0.0018 - accuracy: 1.0000\n",
      "Epoch 00018: val_loss did not improve from 0.00338\n",
      "20/20 [==============================] - 10s 519ms/step - loss: 0.0018 - accuracy: 1.0000 - val_loss: 0.0063 - val_accuracy: 0.9979 - lr: 8.0000e-07\n",
      "Epoch 19/100\n",
      "20/20 [==============================] - ETA: 0s - loss: 0.0043 - accuracy: 0.9984\n",
      "Epoch 00019: val_loss did not improve from 0.00338\n",
      "20/20 [==============================] - 10s 520ms/step - loss: 0.0043 - accuracy: 0.9984 - val_loss: 0.0065 - val_accuracy: 0.9979 - lr: 8.0000e-07\n",
      "Epoch 20/100\n",
      "20/20 [==============================] - ETA: 0s - loss: 0.0020 - accuracy: 1.0000\n",
      "Epoch 00020: val_loss did not improve from 0.00338\n",
      "\n",
      "Epoch 00020: ReduceLROnPlateau reducing learning rate to 1.600000018697756e-07.\n",
      "20/20 [==============================] - 10s 521ms/step - loss: 0.0020 - accuracy: 1.0000 - val_loss: 0.0067 - val_accuracy: 0.9979 - lr: 8.0000e-07\n",
      "Epoch 21/100\n",
      "20/20 [==============================] - ETA: 0s - loss: 0.0014 - accuracy: 1.0000  \n",
      "Epoch 00021: val_loss did not improve from 0.00338\n",
      "20/20 [==============================] - 10s 518ms/step - loss: 0.0014 - accuracy: 1.0000 - val_loss: 0.0068 - val_accuracy: 0.9979 - lr: 1.6000e-07\n",
      "Epoch 22/100\n",
      "20/20 [==============================] - ETA: 0s - loss: 0.0012 - accuracy: 1.0000\n",
      "Epoch 00022: val_loss did not improve from 0.00338\n",
      "20/20 [==============================] - 10s 515ms/step - loss: 0.0012 - accuracy: 1.0000 - val_loss: 0.0070 - val_accuracy: 0.9979 - lr: 1.6000e-07\n",
      "Epoch 23/100\n",
      "20/20 [==============================] - ETA: 0s - loss: 9.5308e-04 - accuracy: 1.0000\n",
      "Epoch 00023: val_loss did not improve from 0.00338\n",
      "\n",
      "Epoch 00023: ReduceLROnPlateau reducing learning rate to 1e-07.\n",
      "20/20 [==============================] - 10s 518ms/step - loss: 9.5308e-04 - accuracy: 1.0000 - val_loss: 0.0075 - val_accuracy: 0.9979 - lr: 1.6000e-07\n",
      "Epoch 24/100\n",
      "20/20 [==============================] - ETA: 0s - loss: 6.9138e-04 - accuracy: 1.0000\n",
      "Epoch 00024: val_loss did not improve from 0.00338\n",
      "20/20 [==============================] - 10s 519ms/step - loss: 6.9138e-04 - accuracy: 1.0000 - val_loss: 0.0079 - val_accuracy: 0.9979 - lr: 1.0000e-07\n",
      "Epoch 25/100\n"
     ]
    },
    {
     "name": "stdout",
     "output_type": "stream",
     "text": [
      "20/20 [==============================] - ETA: 0s - loss: 0.0012 - accuracy: 1.0000\n",
      "Epoch 00025: val_loss did not improve from 0.00338\n",
      "20/20 [==============================] - 10s 510ms/step - loss: 0.0012 - accuracy: 1.0000 - val_loss: 0.0082 - val_accuracy: 0.9979 - lr: 1.0000e-07\n",
      "Epoch 26/100\n",
      "20/20 [==============================] - ETA: 0s - loss: 0.0011 - accuracy: 1.0000    \n",
      "Epoch 00026: val_loss did not improve from 0.00338\n",
      "\n",
      "Epoch 00026: ReduceLROnPlateau reducing learning rate to 1e-07.\n",
      "20/20 [==============================] - 10s 514ms/step - loss: 0.0011 - accuracy: 1.0000 - val_loss: 0.0079 - val_accuracy: 0.9979 - lr: 1.0000e-07\n",
      "Epoch 00026: early stopping\n",
      "15/15 [==============================] - 4s 270ms/step - loss: 0.0079 - accuracy: 0.9979\n",
      "Found 1918 validated image filenames belonging to 2 classes.\n",
      "Found 480 validated image filenames belonging to 2 classes.\n",
      "Epoch 1/100\n",
      "20/20 [==============================] - ETA: 0s - loss: 0.0494 - accuracy: 0.9922\n",
      "Epoch 00001: val_loss improved from inf to 0.05815, saving model to ./2D_classification_ART-ResNet101_crossval.hdf5\n",
      "20/20 [==============================] - 16s 815ms/step - loss: 0.0494 - accuracy: 0.9922 - val_loss: 0.0581 - val_accuracy: 0.9812 - lr: 1.0000e-04\n",
      "Epoch 2/100\n",
      "20/20 [==============================] - ETA: 0s - loss: 0.0391 - accuracy: 0.9812\n",
      "Epoch 00002: val_loss did not improve from 0.05815\n",
      "20/20 [==============================] - 10s 522ms/step - loss: 0.0391 - accuracy: 0.9812 - val_loss: 0.1618 - val_accuracy: 0.9417 - lr: 1.0000e-04\n",
      "Epoch 3/100\n",
      "20/20 [==============================] - ETA: 0s - loss: 0.0340 - accuracy: 0.9875\n",
      "Epoch 00003: val_loss did not improve from 0.05815\n",
      "20/20 [==============================] - 10s 512ms/step - loss: 0.0340 - accuracy: 0.9875 - val_loss: 0.1331 - val_accuracy: 0.9417 - lr: 1.0000e-04\n",
      "Epoch 4/100\n",
      "20/20 [==============================] - ETA: 0s - loss: 0.0574 - accuracy: 0.9781\n",
      "Epoch 00004: val_loss did not improve from 0.05815\n",
      "\n",
      "Epoch 00004: ReduceLROnPlateau reducing learning rate to 1.9999999494757503e-05.\n",
      "20/20 [==============================] - 10s 518ms/step - loss: 0.0574 - accuracy: 0.9781 - val_loss: 0.1189 - val_accuracy: 0.9625 - lr: 1.0000e-04\n",
      "Epoch 5/100\n",
      "20/20 [==============================] - ETA: 0s - loss: 0.0392 - accuracy: 0.9906\n",
      "Epoch 00005: val_loss did not improve from 0.05815\n",
      "20/20 [==============================] - 10s 521ms/step - loss: 0.0392 - accuracy: 0.9906 - val_loss: 0.0886 - val_accuracy: 0.9688 - lr: 2.0000e-05\n",
      "Epoch 6/100\n",
      "20/20 [==============================] - ETA: 0s - loss: 0.0211 - accuracy: 0.9922\n",
      "Epoch 00006: val_loss improved from 0.05815 to 0.03536, saving model to ./2D_classification_ART-ResNet101_crossval.hdf5\n",
      "20/20 [==============================] - 14s 723ms/step - loss: 0.0211 - accuracy: 0.9922 - val_loss: 0.0354 - val_accuracy: 0.9875 - lr: 2.0000e-05\n",
      "Epoch 7/100\n",
      "20/20 [==============================] - ETA: 0s - loss: 0.0066 - accuracy: 0.9984\n",
      "Epoch 00007: val_loss improved from 0.03536 to 0.02178, saving model to ./2D_classification_ART-ResNet101_crossval.hdf5\n",
      "20/20 [==============================] - 14s 723ms/step - loss: 0.0066 - accuracy: 0.9984 - val_loss: 0.0218 - val_accuracy: 0.9917 - lr: 2.0000e-05\n",
      "Epoch 8/100\n",
      "20/20 [==============================] - ETA: 0s - loss: 0.0041 - accuracy: 1.0000\n",
      "Epoch 00008: val_loss improved from 0.02178 to 0.00836, saving model to ./2D_classification_ART-ResNet101_crossval.hdf5\n",
      "20/20 [==============================] - 14s 682ms/step - loss: 0.0041 - accuracy: 1.0000 - val_loss: 0.0084 - val_accuracy: 0.9979 - lr: 2.0000e-05\n",
      "Epoch 9/100\n",
      "20/20 [==============================] - ETA: 0s - loss: 0.0150 - accuracy: 0.9969\n",
      "Epoch 00009: val_loss improved from 0.00836 to 0.00699, saving model to ./2D_classification_ART-ResNet101_crossval.hdf5\n",
      "20/20 [==============================] - 15s 727ms/step - loss: 0.0150 - accuracy: 0.9969 - val_loss: 0.0070 - val_accuracy: 0.9979 - lr: 2.0000e-05\n",
      "Epoch 10/100\n",
      "20/20 [==============================] - ETA: 0s - loss: 0.0055 - accuracy: 0.9984\n",
      "Epoch 00010: val_loss did not improve from 0.00699\n",
      "20/20 [==============================] - 10s 521ms/step - loss: 0.0055 - accuracy: 0.9984 - val_loss: 0.0079 - val_accuracy: 0.9958 - lr: 2.0000e-05\n",
      "Epoch 11/100\n",
      "20/20 [==============================] - ETA: 0s - loss: 0.0044 - accuracy: 0.9984\n",
      "Epoch 00011: val_loss improved from 0.00699 to 0.00583, saving model to ./2D_classification_ART-ResNet101_crossval.hdf5\n",
      "20/20 [==============================] - 14s 723ms/step - loss: 0.0044 - accuracy: 0.9984 - val_loss: 0.0058 - val_accuracy: 0.9979 - lr: 2.0000e-05\n",
      "Epoch 12/100\n",
      "20/20 [==============================] - ETA: 0s - loss: 0.0025 - accuracy: 0.9984\n",
      "Epoch 00012: val_loss improved from 0.00583 to 0.00523, saving model to ./2D_classification_ART-ResNet101_crossval.hdf5\n",
      "20/20 [==============================] - 15s 726ms/step - loss: 0.0025 - accuracy: 0.9984 - val_loss: 0.0052 - val_accuracy: 0.9979 - lr: 2.0000e-05\n",
      "Epoch 13/100\n",
      "20/20 [==============================] - ETA: 0s - loss: 0.0023 - accuracy: 1.0000\n",
      "Epoch 00013: val_loss improved from 0.00523 to 0.00483, saving model to ./2D_classification_ART-ResNet101_crossval.hdf5\n",
      "20/20 [==============================] - 14s 724ms/step - loss: 0.0023 - accuracy: 1.0000 - val_loss: 0.0048 - val_accuracy: 0.9958 - lr: 2.0000e-05\n",
      "Epoch 14/100\n",
      "20/20 [==============================] - ETA: 0s - loss: 5.4975e-04 - accuracy: 1.0000\n",
      "Epoch 00014: val_loss improved from 0.00483 to 0.00458, saving model to ./2D_classification_ART-ResNet101_crossval.hdf5\n",
      "20/20 [==============================] - 14s 681ms/step - loss: 5.4975e-04 - accuracy: 1.0000 - val_loss: 0.0046 - val_accuracy: 0.9958 - lr: 2.0000e-05\n",
      "Epoch 15/100\n",
      "20/20 [==============================] - ETA: 0s - loss: 0.0092 - accuracy: 0.9953\n",
      "Epoch 00015: val_loss improved from 0.00458 to 0.00329, saving model to ./2D_classification_ART-ResNet101_crossval.hdf5\n",
      "20/20 [==============================] - 14s 722ms/step - loss: 0.0092 - accuracy: 0.9953 - val_loss: 0.0033 - val_accuracy: 0.9979 - lr: 2.0000e-05\n",
      "Epoch 16/100\n",
      "20/20 [==============================] - ETA: 0s - loss: 0.0020 - accuracy: 1.0000\n",
      "Epoch 00016: val_loss improved from 0.00329 to 0.00236, saving model to ./2D_classification_ART-ResNet101_crossval.hdf5\n",
      "20/20 [==============================] - 15s 732ms/step - loss: 0.0020 - accuracy: 1.0000 - val_loss: 0.0024 - val_accuracy: 1.0000 - lr: 2.0000e-05\n",
      "Epoch 17/100\n",
      "20/20 [==============================] - ETA: 0s - loss: 0.0017 - accuracy: 1.0000\n",
      "Epoch 00017: val_loss improved from 0.00236 to 0.00228, saving model to ./2D_classification_ART-ResNet101_crossval.hdf5\n",
      "20/20 [==============================] - 13s 671ms/step - loss: 0.0017 - accuracy: 1.0000 - val_loss: 0.0023 - val_accuracy: 1.0000 - lr: 2.0000e-05\n",
      "Epoch 18/100\n",
      "20/20 [==============================] - ETA: 0s - loss: 0.0046 - accuracy: 0.9984\n",
      "Epoch 00018: val_loss did not improve from 0.00228\n",
      "20/20 [==============================] - 10s 519ms/step - loss: 0.0046 - accuracy: 0.9984 - val_loss: 0.0024 - val_accuracy: 0.9979 - lr: 2.0000e-05\n",
      "Epoch 19/100\n",
      "20/20 [==============================] - ETA: 0s - loss: 0.0025 - accuracy: 0.9984\n",
      "Epoch 00019: val_loss did not improve from 0.00228\n",
      "\n",
      "Epoch 00019: ReduceLROnPlateau reducing learning rate to 3.999999898951501e-06.\n",
      "20/20 [==============================] - 10s 516ms/step - loss: 0.0025 - accuracy: 0.9984 - val_loss: 0.0026 - val_accuracy: 0.9979 - lr: 2.0000e-05\n",
      "Epoch 20/100\n",
      "20/20 [==============================] - ETA: 0s - loss: 6.7521e-04 - accuracy: 1.0000\n",
      "Epoch 00020: val_loss did not improve from 0.00228\n",
      "20/20 [==============================] - 10s 523ms/step - loss: 6.7521e-04 - accuracy: 1.0000 - val_loss: 0.0029 - val_accuracy: 0.9979 - lr: 4.0000e-06\n",
      "Epoch 21/100\n",
      "20/20 [==============================] - ETA: 0s - loss: 0.0012 - accuracy: 1.0000\n",
      "Epoch 00021: val_loss did not improve from 0.00228\n",
      "20/20 [==============================] - 10s 517ms/step - loss: 0.0012 - accuracy: 1.0000 - val_loss: 0.0031 - val_accuracy: 0.9979 - lr: 4.0000e-06\n",
      "Epoch 22/100\n"
     ]
    },
    {
     "name": "stdout",
     "output_type": "stream",
     "text": [
      "20/20 [==============================] - ETA: 0s - loss: 0.0016 - accuracy: 1.0000\n",
      "Epoch 00022: val_loss did not improve from 0.00228\n",
      "\n",
      "Epoch 00022: ReduceLROnPlateau reducing learning rate to 7.999999979801942e-07.\n",
      "20/20 [==============================] - 10s 513ms/step - loss: 0.0016 - accuracy: 1.0000 - val_loss: 0.0030 - val_accuracy: 0.9979 - lr: 4.0000e-06\n",
      "Epoch 23/100\n",
      "20/20 [==============================] - ETA: 0s - loss: 0.0089 - accuracy: 0.9984\n",
      "Epoch 00023: val_loss did not improve from 0.00228\n",
      "20/20 [==============================] - 10s 513ms/step - loss: 0.0089 - accuracy: 0.9984 - val_loss: 0.0028 - val_accuracy: 0.9979 - lr: 8.0000e-07\n",
      "Epoch 24/100\n",
      "20/20 [==============================] - ETA: 0s - loss: 8.2051e-04 - accuracy: 1.0000\n",
      "Epoch 00024: val_loss did not improve from 0.00228\n",
      "20/20 [==============================] - 10s 515ms/step - loss: 8.2051e-04 - accuracy: 1.0000 - val_loss: 0.0027 - val_accuracy: 0.9979 - lr: 8.0000e-07\n",
      "Epoch 25/100\n",
      "20/20 [==============================] - ETA: 0s - loss: 0.0041 - accuracy: 0.9984\n",
      "Epoch 00025: val_loss did not improve from 0.00228\n",
      "\n",
      "Epoch 00025: ReduceLROnPlateau reducing learning rate to 1.600000018697756e-07.\n",
      "20/20 [==============================] - 10s 517ms/step - loss: 0.0041 - accuracy: 0.9984 - val_loss: 0.0029 - val_accuracy: 0.9979 - lr: 8.0000e-07\n",
      "Epoch 26/100\n",
      "20/20 [==============================] - ETA: 0s - loss: 7.7267e-04 - accuracy: 1.0000\n",
      "Epoch 00026: val_loss did not improve from 0.00228\n",
      "20/20 [==============================] - 10s 519ms/step - loss: 7.7267e-04 - accuracy: 1.0000 - val_loss: 0.0029 - val_accuracy: 0.9979 - lr: 1.6000e-07\n",
      "Epoch 27/100\n",
      "20/20 [==============================] - ETA: 0s - loss: 5.4903e-04 - accuracy: 1.0000\n",
      "Epoch 00027: val_loss did not improve from 0.00228\n",
      "20/20 [==============================] - 10s 515ms/step - loss: 5.4903e-04 - accuracy: 1.0000 - val_loss: 0.0029 - val_accuracy: 0.9979 - lr: 1.6000e-07\n",
      "Epoch 28/100\n",
      "20/20 [==============================] - ETA: 0s - loss: 0.0015 - accuracy: 1.0000\n",
      "Epoch 00028: val_loss did not improve from 0.00228\n",
      "\n",
      "Epoch 00028: ReduceLROnPlateau reducing learning rate to 1e-07.\n",
      "20/20 [==============================] - 10s 515ms/step - loss: 0.0015 - accuracy: 1.0000 - val_loss: 0.0029 - val_accuracy: 0.9979 - lr: 1.6000e-07\n",
      "Epoch 29/100\n",
      "20/20 [==============================] - ETA: 0s - loss: 0.0014 - accuracy: 1.0000\n",
      "Epoch 00029: val_loss did not improve from 0.00228\n",
      "20/20 [==============================] - 10s 516ms/step - loss: 0.0014 - accuracy: 1.0000 - val_loss: 0.0031 - val_accuracy: 0.9979 - lr: 1.0000e-07\n",
      "Epoch 30/100\n",
      "20/20 [==============================] - ETA: 0s - loss: 5.9754e-04 - accuracy: 1.0000\n",
      "Epoch 00030: val_loss did not improve from 0.00228\n",
      "20/20 [==============================] - 10s 518ms/step - loss: 5.9754e-04 - accuracy: 1.0000 - val_loss: 0.0030 - val_accuracy: 0.9979 - lr: 1.0000e-07\n",
      "Epoch 31/100\n",
      "20/20 [==============================] - ETA: 0s - loss: 2.8766e-04 - accuracy: 1.0000\n",
      "Epoch 00031: val_loss did not improve from 0.00228\n",
      "\n",
      "Epoch 00031: ReduceLROnPlateau reducing learning rate to 1e-07.\n",
      "20/20 [==============================] - 10s 519ms/step - loss: 2.8766e-04 - accuracy: 1.0000 - val_loss: 0.0031 - val_accuracy: 0.9979 - lr: 1.0000e-07\n",
      "Epoch 32/100\n",
      "20/20 [==============================] - ETA: 0s - loss: 4.9974e-04 - accuracy: 1.0000\n",
      "Epoch 00032: val_loss did not improve from 0.00228\n",
      "20/20 [==============================] - 10s 521ms/step - loss: 4.9974e-04 - accuracy: 1.0000 - val_loss: 0.0032 - val_accuracy: 0.9979 - lr: 1.0000e-07\n",
      "Epoch 00032: early stopping\n",
      "15/15 [==============================] - 4s 271ms/step - loss: 0.0032 - accuracy: 0.9979\n",
      "Found 1918 validated image filenames belonging to 2 classes.\n",
      "Found 480 validated image filenames belonging to 2 classes.\n",
      "Epoch 1/100\n",
      "20/20 [==============================] - ETA: 0s - loss: 0.0143 - accuracy: 0.9937\n",
      "Epoch 00001: val_loss improved from inf to 0.01749, saving model to ./2D_classification_ART-ResNet101_crossval.hdf5\n",
      "20/20 [==============================] - 16s 816ms/step - loss: 0.0143 - accuracy: 0.9937 - val_loss: 0.0175 - val_accuracy: 0.9917 - lr: 1.0000e-04\n",
      "Epoch 2/100\n",
      "20/20 [==============================] - ETA: 0s - loss: 0.0183 - accuracy: 0.9906\n",
      "Epoch 00002: val_loss did not improve from 0.01749\n",
      "20/20 [==============================] - 10s 515ms/step - loss: 0.0183 - accuracy: 0.9906 - val_loss: 0.0523 - val_accuracy: 0.9854 - lr: 1.0000e-04\n",
      "Epoch 3/100\n",
      "20/20 [==============================] - ETA: 0s - loss: 0.0463 - accuracy: 0.9875\n",
      "Epoch 00003: val_loss did not improve from 0.01749\n",
      "20/20 [==============================] - 10s 517ms/step - loss: 0.0463 - accuracy: 0.9875 - val_loss: 0.2693 - val_accuracy: 0.9229 - lr: 1.0000e-04\n",
      "Epoch 4/100\n",
      "20/20 [==============================] - ETA: 0s - loss: 0.0356 - accuracy: 0.9844\n",
      "Epoch 00004: val_loss did not improve from 0.01749\n",
      "\n",
      "Epoch 00004: ReduceLROnPlateau reducing learning rate to 1.9999999494757503e-05.\n",
      "20/20 [==============================] - 10s 521ms/step - loss: 0.0356 - accuracy: 0.9844 - val_loss: 0.7838 - val_accuracy: 0.7854 - lr: 1.0000e-04\n",
      "Epoch 5/100\n",
      "20/20 [==============================] - ETA: 0s - loss: 0.0216 - accuracy: 0.9922\n",
      "Epoch 00005: val_loss did not improve from 0.01749\n",
      "20/20 [==============================] - 10s 519ms/step - loss: 0.0216 - accuracy: 0.9922 - val_loss: 0.3335 - val_accuracy: 0.8792 - lr: 2.0000e-05\n",
      "Epoch 6/100\n",
      "20/20 [==============================] - ETA: 0s - loss: 0.0251 - accuracy: 0.9953\n",
      "Epoch 00006: val_loss did not improve from 0.01749\n",
      "20/20 [==============================] - 10s 520ms/step - loss: 0.0251 - accuracy: 0.9953 - val_loss: 0.1077 - val_accuracy: 0.9708 - lr: 2.0000e-05\n",
      "Epoch 7/100\n",
      "20/20 [==============================] - ETA: 0s - loss: 0.0078 - accuracy: 0.9953\n",
      "Epoch 00007: val_loss did not improve from 0.01749\n",
      "\n",
      "Epoch 00007: ReduceLROnPlateau reducing learning rate to 3.999999898951501e-06.\n",
      "20/20 [==============================] - 10s 516ms/step - loss: 0.0078 - accuracy: 0.9953 - val_loss: 0.0288 - val_accuracy: 0.9958 - lr: 2.0000e-05\n",
      "Epoch 8/100\n",
      "20/20 [==============================] - ETA: 0s - loss: 0.0051 - accuracy: 0.9984\n",
      "Epoch 00008: val_loss did not improve from 0.01749\n",
      "20/20 [==============================] - 10s 522ms/step - loss: 0.0051 - accuracy: 0.9984 - val_loss: 0.0237 - val_accuracy: 0.9958 - lr: 4.0000e-06\n",
      "Epoch 9/100\n",
      "20/20 [==============================] - ETA: 0s - loss: 0.0048 - accuracy: 0.9969\n",
      "Epoch 00009: val_loss did not improve from 0.01749\n",
      "20/20 [==============================] - 10s 521ms/step - loss: 0.0048 - accuracy: 0.9969 - val_loss: 0.0209 - val_accuracy: 0.9958 - lr: 4.0000e-06\n",
      "Epoch 10/100\n",
      "20/20 [==============================] - ETA: 0s - loss: 0.0123 - accuracy: 0.9937\n",
      "Epoch 00010: val_loss improved from 0.01749 to 0.01672, saving model to ./2D_classification_ART-ResNet101_crossval.hdf5\n",
      "20/20 [==============================] - 15s 730ms/step - loss: 0.0123 - accuracy: 0.9937 - val_loss: 0.0167 - val_accuracy: 0.9958 - lr: 4.0000e-06\n",
      "Epoch 11/100\n",
      "20/20 [==============================] - ETA: 0s - loss: 0.0046 - accuracy: 0.9984\n",
      "Epoch 00011: val_loss improved from 0.01672 to 0.01348, saving model to ./2D_classification_ART-ResNet101_crossval.hdf5\n",
      "20/20 [==============================] - 15s 729ms/step - loss: 0.0046 - accuracy: 0.9984 - val_loss: 0.0135 - val_accuracy: 0.9958 - lr: 4.0000e-06\n",
      "Epoch 12/100\n",
      "20/20 [==============================] - ETA: 0s - loss: 0.0137 - accuracy: 0.9937\n",
      "Epoch 00012: val_loss improved from 0.01348 to 0.01209, saving model to ./2D_classification_ART-ResNet101_crossval.hdf5\n",
      "20/20 [==============================] - 14s 681ms/step - loss: 0.0137 - accuracy: 0.9937 - val_loss: 0.0121 - val_accuracy: 0.9979 - lr: 4.0000e-06\n",
      "Epoch 13/100\n",
      "20/20 [==============================] - ETA: 0s - loss: 0.0039 - accuracy: 0.9984\n",
      "Epoch 00013: val_loss improved from 0.01209 to 0.01121, saving model to ./2D_classification_ART-ResNet101_crossval.hdf5\n",
      "20/20 [==============================] - 15s 729ms/step - loss: 0.0039 - accuracy: 0.9984 - val_loss: 0.0112 - val_accuracy: 0.9979 - lr: 4.0000e-06\n",
      "Epoch 14/100\n"
     ]
    },
    {
     "name": "stdout",
     "output_type": "stream",
     "text": [
      "20/20 [==============================] - ETA: 0s - loss: 0.0065 - accuracy: 0.9984\n",
      "Epoch 00014: val_loss improved from 0.01121 to 0.01049, saving model to ./2D_classification_ART-ResNet101_crossval.hdf5\n",
      "20/20 [==============================] - 15s 730ms/step - loss: 0.0065 - accuracy: 0.9984 - val_loss: 0.0105 - val_accuracy: 0.9979 - lr: 4.0000e-06\n",
      "Epoch 15/100\n",
      "20/20 [==============================] - ETA: 0s - loss: 0.0037 - accuracy: 0.9984\n",
      "Epoch 00015: val_loss did not improve from 0.01049\n",
      "20/20 [==============================] - 10s 517ms/step - loss: 0.0037 - accuracy: 0.9984 - val_loss: 0.0106 - val_accuracy: 0.9979 - lr: 4.0000e-06\n",
      "Epoch 16/100\n",
      "20/20 [==============================] - ETA: 0s - loss: 0.0035 - accuracy: 0.9984\n",
      "Epoch 00016: val_loss did not improve from 0.01049\n",
      "20/20 [==============================] - 10s 514ms/step - loss: 0.0035 - accuracy: 0.9984 - val_loss: 0.0107 - val_accuracy: 0.9979 - lr: 4.0000e-06\n",
      "Epoch 17/100\n",
      "20/20 [==============================] - ETA: 0s - loss: 0.0058 - accuracy: 0.9969\n",
      "Epoch 00017: val_loss did not improve from 0.01049\n",
      "\n",
      "Epoch 00017: ReduceLROnPlateau reducing learning rate to 7.999999979801942e-07.\n",
      "20/20 [==============================] - 10s 515ms/step - loss: 0.0058 - accuracy: 0.9969 - val_loss: 0.0106 - val_accuracy: 0.9979 - lr: 4.0000e-06\n",
      "Epoch 18/100\n",
      "20/20 [==============================] - ETA: 0s - loss: 0.0023 - accuracy: 1.0000\n",
      "Epoch 00018: val_loss did not improve from 0.01049\n",
      "20/20 [==============================] - 10s 516ms/step - loss: 0.0023 - accuracy: 1.0000 - val_loss: 0.0107 - val_accuracy: 0.9979 - lr: 8.0000e-07\n",
      "Epoch 19/100\n",
      "20/20 [==============================] - ETA: 0s - loss: 0.0043 - accuracy: 0.9984\n",
      "Epoch 00019: val_loss improved from 0.01049 to 0.01010, saving model to ./2D_classification_ART-ResNet101_crossval.hdf5\n",
      "20/20 [==============================] - 14s 725ms/step - loss: 0.0043 - accuracy: 0.9984 - val_loss: 0.0101 - val_accuracy: 0.9979 - lr: 8.0000e-07\n",
      "Epoch 20/100\n",
      "20/20 [==============================] - ETA: 0s - loss: 0.0015 - accuracy: 1.0000\n",
      "Epoch 00020: val_loss improved from 0.01010 to 0.00997, saving model to ./2D_classification_ART-ResNet101_crossval.hdf5\n",
      "20/20 [==============================] - 14s 724ms/step - loss: 0.0015 - accuracy: 1.0000 - val_loss: 0.0100 - val_accuracy: 0.9979 - lr: 8.0000e-07\n",
      "Epoch 21/100\n",
      "20/20 [==============================] - ETA: 0s - loss: 0.0023 - accuracy: 1.0000\n",
      "Epoch 00021: val_loss improved from 0.00997 to 0.00982, saving model to ./2D_classification_ART-ResNet101_crossval.hdf5\n",
      "20/20 [==============================] - 14s 683ms/step - loss: 0.0023 - accuracy: 1.0000 - val_loss: 0.0098 - val_accuracy: 0.9979 - lr: 8.0000e-07\n",
      "Epoch 22/100\n",
      "20/20 [==============================] - ETA: 0s - loss: 0.0032 - accuracy: 0.9984\n",
      "Epoch 00022: val_loss improved from 0.00982 to 0.00925, saving model to ./2D_classification_ART-ResNet101_crossval.hdf5\n",
      "20/20 [==============================] - 14s 720ms/step - loss: 0.0032 - accuracy: 0.9984 - val_loss: 0.0092 - val_accuracy: 0.9979 - lr: 8.0000e-07\n",
      "Epoch 23/100\n",
      "20/20 [==============================] - ETA: 0s - loss: 7.2700e-04 - accuracy: 1.0000\n",
      "Epoch 00023: val_loss improved from 0.00925 to 0.00917, saving model to ./2D_classification_ART-ResNet101_crossval.hdf5\n",
      "20/20 [==============================] - 14s 722ms/step - loss: 7.2700e-04 - accuracy: 1.0000 - val_loss: 0.0092 - val_accuracy: 0.9979 - lr: 8.0000e-07\n",
      "Epoch 24/100\n",
      "20/20 [==============================] - ETA: 0s - loss: 0.0039 - accuracy: 0.9984\n",
      "Epoch 00024: val_loss did not improve from 0.00917\n",
      "20/20 [==============================] - 10s 515ms/step - loss: 0.0039 - accuracy: 0.9984 - val_loss: 0.0098 - val_accuracy: 0.9979 - lr: 8.0000e-07\n",
      "Epoch 25/100\n",
      "20/20 [==============================] - ETA: 0s - loss: 0.0026 - accuracy: 1.0000\n",
      "Epoch 00025: val_loss did not improve from 0.00917\n",
      "\n",
      "Epoch 00025: ReduceLROnPlateau reducing learning rate to 1.600000018697756e-07.\n",
      "20/20 [==============================] - 10s 516ms/step - loss: 0.0026 - accuracy: 1.0000 - val_loss: 0.0097 - val_accuracy: 0.9979 - lr: 8.0000e-07\n",
      "Epoch 26/100\n",
      "20/20 [==============================] - ETA: 0s - loss: 6.9505e-04 - accuracy: 1.0000\n",
      "Epoch 00026: val_loss did not improve from 0.00917\n",
      "20/20 [==============================] - 10s 516ms/step - loss: 6.9505e-04 - accuracy: 1.0000 - val_loss: 0.0097 - val_accuracy: 0.9979 - lr: 1.6000e-07\n",
      "Epoch 27/100\n",
      "20/20 [==============================] - ETA: 0s - loss: 0.0230 - accuracy: 0.9937\n",
      "Epoch 00027: val_loss did not improve from 0.00917\n",
      "20/20 [==============================] - 10s 516ms/step - loss: 0.0230 - accuracy: 0.9937 - val_loss: 0.0098 - val_accuracy: 0.9979 - lr: 1.6000e-07\n",
      "Epoch 28/100\n",
      "20/20 [==============================] - ETA: 0s - loss: 0.0016 - accuracy: 1.0000\n",
      "Epoch 00028: val_loss did not improve from 0.00917\n",
      "\n",
      "Epoch 00028: ReduceLROnPlateau reducing learning rate to 1e-07.\n",
      "20/20 [==============================] - 11s 529ms/step - loss: 0.0016 - accuracy: 1.0000 - val_loss: 0.0098 - val_accuracy: 0.9979 - lr: 1.6000e-07\n",
      "Epoch 29/100\n",
      "20/20 [==============================] - ETA: 0s - loss: 7.8290e-04 - accuracy: 1.0000\n",
      "Epoch 00029: val_loss did not improve from 0.00917\n",
      "20/20 [==============================] - 10s 514ms/step - loss: 7.8290e-04 - accuracy: 1.0000 - val_loss: 0.0095 - val_accuracy: 0.9979 - lr: 1.0000e-07\n",
      "Epoch 30/100\n",
      "20/20 [==============================] - ETA: 0s - loss: 7.8967e-04 - accuracy: 1.0000\n",
      "Epoch 00030: val_loss did not improve from 0.00917\n",
      "20/20 [==============================] - 10s 515ms/step - loss: 7.8967e-04 - accuracy: 1.0000 - val_loss: 0.0095 - val_accuracy: 0.9979 - lr: 1.0000e-07\n",
      "Epoch 31/100\n",
      "20/20 [==============================] - ETA: 0s - loss: 0.0074 - accuracy: 0.9953\n",
      "Epoch 00031: val_loss did not improve from 0.00917\n",
      "\n",
      "Epoch 00031: ReduceLROnPlateau reducing learning rate to 1e-07.\n",
      "20/20 [==============================] - 10s 515ms/step - loss: 0.0074 - accuracy: 0.9953 - val_loss: 0.0096 - val_accuracy: 0.9979 - lr: 1.0000e-07\n",
      "Epoch 32/100\n",
      "20/20 [==============================] - ETA: 0s - loss: 8.1290e-04 - accuracy: 1.0000\n",
      "Epoch 00032: val_loss did not improve from 0.00917\n",
      "20/20 [==============================] - 10s 514ms/step - loss: 8.1290e-04 - accuracy: 1.0000 - val_loss: 0.0094 - val_accuracy: 0.9979 - lr: 1.0000e-07\n",
      "Epoch 33/100\n",
      "20/20 [==============================] - ETA: 0s - loss: 0.0024 - accuracy: 1.0000\n",
      "Epoch 00033: val_loss improved from 0.00917 to 0.00896, saving model to ./2D_classification_ART-ResNet101_crossval.hdf5\n",
      "20/20 [==============================] - 14s 723ms/step - loss: 0.0024 - accuracy: 1.0000 - val_loss: 0.0090 - val_accuracy: 0.9979 - lr: 1.0000e-07\n",
      "Epoch 34/100\n",
      "20/20 [==============================] - ETA: 0s - loss: 0.0023 - accuracy: 1.0000\n",
      "Epoch 00034: val_loss improved from 0.00896 to 0.00859, saving model to ./2D_classification_ART-ResNet101_crossval.hdf5\n",
      "20/20 [==============================] - 14s 722ms/step - loss: 0.0023 - accuracy: 1.0000 - val_loss: 0.0086 - val_accuracy: 0.9979 - lr: 1.0000e-07\n",
      "Epoch 35/100\n",
      "20/20 [==============================] - ETA: 0s - loss: 5.4119e-04 - accuracy: 1.0000\n",
      "Epoch 00035: val_loss did not improve from 0.00859\n",
      "20/20 [==============================] - 10s 514ms/step - loss: 5.4119e-04 - accuracy: 1.0000 - val_loss: 0.0087 - val_accuracy: 0.9979 - lr: 1.0000e-07\n",
      "Epoch 36/100\n",
      "20/20 [==============================] - ETA: 0s - loss: 0.0016 - accuracy: 1.0000\n",
      "Epoch 00036: val_loss did not improve from 0.00859\n",
      "20/20 [==============================] - 10s 516ms/step - loss: 0.0016 - accuracy: 1.0000 - val_loss: 0.0087 - val_accuracy: 0.9979 - lr: 1.0000e-07\n",
      "Epoch 37/100\n",
      "20/20 [==============================] - ETA: 0s - loss: 0.0019 - accuracy: 1.0000\n",
      "Epoch 00037: val_loss did not improve from 0.00859\n",
      "\n",
      "Epoch 00037: ReduceLROnPlateau reducing learning rate to 1e-07.\n",
      "20/20 [==============================] - 10s 517ms/step - loss: 0.0019 - accuracy: 1.0000 - val_loss: 0.0088 - val_accuracy: 0.9979 - lr: 1.0000e-07\n",
      "Epoch 38/100\n",
      "20/20 [==============================] - ETA: 0s - loss: 6.5542e-04 - accuracy: 1.0000\n",
      "Epoch 00038: val_loss did not improve from 0.00859\n",
      "20/20 [==============================] - 10s 514ms/step - loss: 6.5542e-04 - accuracy: 1.0000 - val_loss: 0.0091 - val_accuracy: 0.9979 - lr: 1.0000e-07\n"
     ]
    },
    {
     "name": "stdout",
     "output_type": "stream",
     "text": [
      "Epoch 39/100\n",
      "20/20 [==============================] - ETA: 0s - loss: 0.0014 - accuracy: 1.0000\n",
      "Epoch 00039: val_loss did not improve from 0.00859\n",
      "20/20 [==============================] - 10s 521ms/step - loss: 0.0014 - accuracy: 1.0000 - val_loss: 0.0089 - val_accuracy: 0.9979 - lr: 1.0000e-07\n",
      "Epoch 40/100\n",
      "20/20 [==============================] - ETA: 0s - loss: 0.0016 - accuracy: 1.0000\n",
      "Epoch 00040: val_loss did not improve from 0.00859\n",
      "\n",
      "Epoch 00040: ReduceLROnPlateau reducing learning rate to 1e-07.\n",
      "20/20 [==============================] - 10s 518ms/step - loss: 0.0016 - accuracy: 1.0000 - val_loss: 0.0091 - val_accuracy: 0.9979 - lr: 1.0000e-07\n",
      "Epoch 41/100\n",
      "20/20 [==============================] - ETA: 0s - loss: 0.0017 - accuracy: 1.0000\n",
      "Epoch 00041: val_loss did not improve from 0.00859\n",
      "20/20 [==============================] - 10s 512ms/step - loss: 0.0017 - accuracy: 1.0000 - val_loss: 0.0089 - val_accuracy: 0.9979 - lr: 1.0000e-07\n",
      "Epoch 42/100\n",
      "20/20 [==============================] - ETA: 0s - loss: 0.0055 - accuracy: 0.9984\n",
      "Epoch 00042: val_loss did not improve from 0.00859\n",
      "20/20 [==============================] - 10s 515ms/step - loss: 0.0055 - accuracy: 0.9984 - val_loss: 0.0089 - val_accuracy: 0.9979 - lr: 1.0000e-07\n",
      "Epoch 43/100\n",
      "20/20 [==============================] - ETA: 0s - loss: 0.0020 - accuracy: 1.0000\n",
      "Epoch 00043: val_loss did not improve from 0.00859\n",
      "\n",
      "Epoch 00043: ReduceLROnPlateau reducing learning rate to 1e-07.\n",
      "20/20 [==============================] - 10s 513ms/step - loss: 0.0020 - accuracy: 1.0000 - val_loss: 0.0086 - val_accuracy: 0.9979 - lr: 1.0000e-07\n",
      "Epoch 44/100\n",
      "20/20 [==============================] - ETA: 0s - loss: 0.0016 - accuracy: 1.0000\n",
      "Epoch 00044: val_loss did not improve from 0.00859\n",
      "20/20 [==============================] - 10s 514ms/step - loss: 0.0016 - accuracy: 1.0000 - val_loss: 0.0086 - val_accuracy: 0.9979 - lr: 1.0000e-07\n",
      "Epoch 45/100\n",
      "20/20 [==============================] - ETA: 0s - loss: 0.0021 - accuracy: 1.0000\n",
      "Epoch 00045: val_loss did not improve from 0.00859\n",
      "20/20 [==============================] - 10s 519ms/step - loss: 0.0021 - accuracy: 1.0000 - val_loss: 0.0088 - val_accuracy: 0.9979 - lr: 1.0000e-07\n",
      "Epoch 46/100\n",
      "20/20 [==============================] - ETA: 0s - loss: 0.0051 - accuracy: 0.9984\n",
      "Epoch 00046: val_loss did not improve from 0.00859\n",
      "\n",
      "Epoch 00046: ReduceLROnPlateau reducing learning rate to 1e-07.\n",
      "20/20 [==============================] - 10s 516ms/step - loss: 0.0051 - accuracy: 0.9984 - val_loss: 0.0091 - val_accuracy: 0.9979 - lr: 1.0000e-07\n",
      "Epoch 47/100\n",
      "20/20 [==============================] - ETA: 0s - loss: 0.0021 - accuracy: 1.0000\n",
      "Epoch 00047: val_loss did not improve from 0.00859\n",
      "20/20 [==============================] - 10s 519ms/step - loss: 0.0021 - accuracy: 1.0000 - val_loss: 0.0091 - val_accuracy: 0.9979 - lr: 1.0000e-07\n",
      "Epoch 48/100\n",
      "20/20 [==============================] - ETA: 0s - loss: 0.0017 - accuracy: 1.0000\n",
      "Epoch 00048: val_loss did not improve from 0.00859\n",
      "20/20 [==============================] - 10s 514ms/step - loss: 0.0017 - accuracy: 1.0000 - val_loss: 0.0090 - val_accuracy: 0.9979 - lr: 1.0000e-07\n",
      "Epoch 49/100\n",
      "20/20 [==============================] - ETA: 0s - loss: 0.0055 - accuracy: 0.9969\n",
      "Epoch 00049: val_loss did not improve from 0.00859\n",
      "\n",
      "Epoch 00049: ReduceLROnPlateau reducing learning rate to 1e-07.\n",
      "20/20 [==============================] - 10s 520ms/step - loss: 0.0055 - accuracy: 0.9969 - val_loss: 0.0094 - val_accuracy: 0.9979 - lr: 1.0000e-07\n",
      "Epoch 00049: early stopping\n",
      "15/15 [==============================] - 4s 275ms/step - loss: 0.0094 - accuracy: 0.9979\n",
      "Found 1919 validated image filenames belonging to 2 classes.\n",
      "Found 479 validated image filenames belonging to 2 classes.\n",
      "Epoch 1/100\n",
      "20/20 [==============================] - ETA: 0s - loss: 0.0253 - accuracy: 0.9937\n",
      "Epoch 00001: val_loss improved from inf to 0.01678, saving model to ./2D_classification_ART-ResNet101_crossval.hdf5\n",
      "20/20 [==============================] - 17s 830ms/step - loss: 0.0253 - accuracy: 0.9937 - val_loss: 0.0168 - val_accuracy: 0.9979 - lr: 1.0000e-04\n",
      "Epoch 2/100\n",
      "20/20 [==============================] - ETA: 0s - loss: 0.0268 - accuracy: 0.9922\n",
      "Epoch 00002: val_loss did not improve from 0.01678\n",
      "20/20 [==============================] - 10s 519ms/step - loss: 0.0268 - accuracy: 0.9922 - val_loss: 0.0278 - val_accuracy: 0.9937 - lr: 1.0000e-04\n",
      "Epoch 3/100\n",
      "20/20 [==============================] - ETA: 0s - loss: 0.0331 - accuracy: 0.9859\n",
      "Epoch 00003: val_loss did not improve from 0.01678\n",
      "20/20 [==============================] - 10s 516ms/step - loss: 0.0331 - accuracy: 0.9859 - val_loss: 0.0774 - val_accuracy: 0.9833 - lr: 1.0000e-04\n",
      "Epoch 4/100\n",
      "20/20 [==============================] - ETA: 0s - loss: 0.0915 - accuracy: 0.9687\n",
      "Epoch 00004: val_loss did not improve from 0.01678\n",
      "\n",
      "Epoch 00004: ReduceLROnPlateau reducing learning rate to 1.9999999494757503e-05.\n",
      "20/20 [==============================] - 10s 520ms/step - loss: 0.0915 - accuracy: 0.9687 - val_loss: 0.0653 - val_accuracy: 0.9770 - lr: 1.0000e-04\n",
      "Epoch 5/100\n",
      "20/20 [==============================] - ETA: 0s - loss: 0.0175 - accuracy: 0.9922\n",
      "Epoch 00005: val_loss did not improve from 0.01678\n",
      "20/20 [==============================] - 10s 516ms/step - loss: 0.0175 - accuracy: 0.9922 - val_loss: 0.0415 - val_accuracy: 0.9833 - lr: 2.0000e-05\n",
      "Epoch 6/100\n",
      "20/20 [==============================] - ETA: 0s - loss: 0.0188 - accuracy: 0.9937\n",
      "Epoch 00006: val_loss did not improve from 0.01678\n",
      "20/20 [==============================] - 10s 515ms/step - loss: 0.0188 - accuracy: 0.9937 - val_loss: 0.0243 - val_accuracy: 0.9896 - lr: 2.0000e-05\n",
      "Epoch 7/100\n",
      "20/20 [==============================] - ETA: 0s - loss: 0.0076 - accuracy: 0.9969\n",
      "Epoch 00007: val_loss improved from 0.01678 to 0.01440, saving model to ./2D_classification_ART-ResNet101_crossval.hdf5\n",
      "20/20 [==============================] - 15s 728ms/step - loss: 0.0076 - accuracy: 0.9969 - val_loss: 0.0144 - val_accuracy: 0.9937 - lr: 2.0000e-05\n",
      "Epoch 8/100\n",
      "20/20 [==============================] - ETA: 0s - loss: 0.0062 - accuracy: 0.9984\n",
      "Epoch 00008: val_loss improved from 0.01440 to 0.00601, saving model to ./2D_classification_ART-ResNet101_crossval.hdf5\n",
      "20/20 [==============================] - 15s 731ms/step - loss: 0.0062 - accuracy: 0.9984 - val_loss: 0.0060 - val_accuracy: 0.9958 - lr: 2.0000e-05\n",
      "Epoch 9/100\n",
      "20/20 [==============================] - ETA: 0s - loss: 0.0112 - accuracy: 0.9969\n",
      "Epoch 00009: val_loss improved from 0.00601 to 0.00398, saving model to ./2D_classification_ART-ResNet101_crossval.hdf5\n",
      "20/20 [==============================] - 14s 678ms/step - loss: 0.0112 - accuracy: 0.9969 - val_loss: 0.0040 - val_accuracy: 1.0000 - lr: 2.0000e-05\n",
      "Epoch 10/100\n",
      "20/20 [==============================] - ETA: 0s - loss: 0.0062 - accuracy: 0.9969\n",
      "Epoch 00010: val_loss improved from 0.00398 to 0.00170, saving model to ./2D_classification_ART-ResNet101_crossval.hdf5\n",
      "20/20 [==============================] - 15s 732ms/step - loss: 0.0062 - accuracy: 0.9969 - val_loss: 0.0017 - val_accuracy: 1.0000 - lr: 2.0000e-05\n",
      "Epoch 11/100\n",
      "20/20 [==============================] - ETA: 0s - loss: 0.0028 - accuracy: 0.9984\n",
      "Epoch 00011: val_loss improved from 0.00170 to 0.00101, saving model to ./2D_classification_ART-ResNet101_crossval.hdf5\n",
      "20/20 [==============================] - 15s 735ms/step - loss: 0.0028 - accuracy: 0.9984 - val_loss: 0.0010 - val_accuracy: 1.0000 - lr: 2.0000e-05\n",
      "Epoch 12/100\n",
      "20/20 [==============================] - ETA: 0s - loss: 0.0012 - accuracy: 1.0000\n",
      "Epoch 00012: val_loss improved from 0.00101 to 0.00086, saving model to ./2D_classification_ART-ResNet101_crossval.hdf5\n",
      "20/20 [==============================] - 15s 733ms/step - loss: 0.0012 - accuracy: 1.0000 - val_loss: 8.6051e-04 - val_accuracy: 1.0000 - lr: 2.0000e-05\n",
      "Epoch 13/100\n",
      "20/20 [==============================] - ETA: 0s - loss: 0.0011 - accuracy: 1.0000\n",
      "Epoch 00013: val_loss improved from 0.00086 to 0.00065, saving model to ./2D_classification_ART-ResNet101_crossval.hdf5\n",
      "20/20 [==============================] - 15s 732ms/step - loss: 0.0011 - accuracy: 1.0000 - val_loss: 6.4715e-04 - val_accuracy: 1.0000 - lr: 2.0000e-05\n"
     ]
    },
    {
     "name": "stdout",
     "output_type": "stream",
     "text": [
      "Epoch 14/100\n",
      "20/20 [==============================] - ETA: 0s - loss: 0.0013 - accuracy: 1.0000\n",
      "Epoch 00014: val_loss did not improve from 0.00065\n",
      "20/20 [==============================] - 10s 517ms/step - loss: 0.0013 - accuracy: 1.0000 - val_loss: 7.0196e-04 - val_accuracy: 1.0000 - lr: 2.0000e-05\n",
      "Epoch 15/100\n",
      "15/20 [=====================>........] - ETA: 1s - loss: 0.0020 - accuracy: 0.9979"
     ]
    }
   ],
   "source": [
    "# ART\n",
    "# 다시 라벨별 분리하지 않은 데이터 경로에서 작업 (덕선선생님이 만드신것)\n",
    "# test dataset 은 다시 라벨별로 분리해둔 폴더를 사용\n",
    "# 1007 learning rate reduction 추가\n",
    "from tensorflow.keras.callbacks import ReduceLROnPlateau\n",
    "\n",
    "BATCH_SIZE = 32\n",
    "\n",
    "ART_train_path = '/home/ncp/workspace/blocks1/kidneyData_windowing_mass/TRAIN/ART/'\n",
    "PRE_train_path = '/home/ncp/workspace/blocks1/kidneyData_windowing_mass/TRAIN/PRE/'\n",
    "ART_test_path = '/home/ncp/workspace/blocks3/kidneyData_windowing_mass_classified/TEST/ART/'\n",
    "PRE_test_path = '/home/ncp/workspace/blocks3/kidneyData_windowing_mass_classified/TEST/PRE/'\n",
    "\n",
    "# y is imbalance - KFold 대신 StratifiedKFold 사용\n",
    "from sklearn.model_selection import StratifiedKFold\n",
    "skf = StratifiedKFold(n_splits = 5, random_state = 42, shuffle = True)\n",
    "\n",
    "# create datagen\n",
    "create_datagen = ImageDataGenerator(rescale= 1./255.)\n",
    "\n",
    "\n",
    "# generate test data first\n",
    "ART_test_generator = create_datagen.flow_from_directory(ART_test_path,\n",
    "                                                   batch_size = BATCH_SIZE,\n",
    "                                                   target_size = (512, 512),\n",
    "                                                   class_mode = 'categorical')\n",
    "\n",
    "\n",
    "## PERFORM TRAIN & VAL ## - ART\n",
    "\n",
    "VALIDATION_ACCURACY = []\n",
    "VALIDATION_LOSS = []\n",
    "val_acc = 0\n",
    "\n",
    "fold_var = 1 # weight 나 모델 저장용\n",
    "\n",
    "for train_index, val_index in skf.split(ART_train_df, ART_train_df['label']):  # Y의 분포 기준으로 나눔\n",
    "    \n",
    "    training_data = ART_train_df.iloc[train_index]\n",
    "    validation_data = ART_train_df.iloc[val_index]\n",
    "    \n",
    "    train_data_generator = create_datagen.flow_from_dataframe(training_data, directory = ART_train_path, \n",
    "                                                             x_col = 'filename', y_col = 'label', \n",
    "                                                             class_mode = 'categorical', \n",
    "                                                             shuffle = True)\n",
    "    valid_data_generator = create_datagen.flow_from_dataframe(validation_data, directory = ART_train_path, \n",
    "                                                             x_col = 'filename', y_col = 'label', \n",
    "                                                             class_mode = 'categorical', \n",
    "                                                             shuffle = True)\n",
    "    \n",
    "    optimizer = optimizers.Adam(learning_rate= 0.0001, decay= 1e-6)\n",
    "    learning_rate_reduction = ReduceLROnPlateau(monitor='val_loss',\n",
    "                                           patience =3, \n",
    "                                           verbose =1,\n",
    "                                            factor = 0.2,\n",
    "                                            min_lr =0.0000001)\n",
    "    model.compile(optimizer=optimizer, loss = 'categorical_crossentropy', metrics = ['accuracy'])\n",
    "    checkpointer = ModelCheckpoint(filepath='./2D_classification_ART-ResNet101_crossval.hdf5',\n",
    "                            monitor='val_loss', verbose = 1,\n",
    "                            save_best_only=True)\n",
    "    early_stopping = EarlyStopping(verbose=1, patience=15)\n",
    "\n",
    "    history_res101 = model.fit(train_data_generator,\n",
    "                        steps_per_epoch = 20,\n",
    "                        epochs = 100,\n",
    "                        verbose = 1,\n",
    "                        validation_data = valid_data_generator,\n",
    "                        callbacks = [checkpointer, early_stopping, learning_rate_reduction])\n",
    "    \n",
    "    # validation accuracy, loss\n",
    "    results = model.evaluate(valid_data_generator)\n",
    "    results = dict(zip(model.metrics_names, results))\n",
    "    \n",
    "    VALIDATION_ACCURACY.append(results['accuracy'])\n",
    "    VALIDATION_LOSS.append(results['loss'])\n",
    "    \n",
    "    tf.keras.backend.clear_session()\n",
    "    \n",
    "    fold_var += 1\n",
    "    \n",
    "    val_acc += results['accuracy'] / 10   # 평균 ACC\n",
    "    \n",
    "print(\"mean validation accuracy: \", val_acc)"
   ]
  },
  {
   "cell_type": "code",
   "execution_count": null,
   "metadata": {},
   "outputs": [],
   "source": [
    "# path_resnet_ART = '/home/ncp/workspace/blocks3/zio_code/cancer_configuration_ART-ResNet101_crossval.hdf5'\n",
    "# ART_resnet = tf.keras.models.load_model(path_resnet_ART)"
   ]
  },
  {
   "cell_type": "code",
   "execution_count": null,
   "metadata": {},
   "outputs": [],
   "source": [
    "model_ART =model\n",
    "result = model_ART.evaluate(ART_test_generator)"
   ]
  },
  {
   "cell_type": "code",
   "execution_count": 34,
   "metadata": {},
   "outputs": [
    {
     "data": {
      "image/png": "[encoded data removed]",
      "text/plain": [
       "<Figure size 432x288 with 1 Axes>"
      ]
     },
     "metadata": {
      "needs_background": "light"
     },
     "output_type": "display_data"
    }
   ],
   "source": [
    "plt.plot(history_res101.history['accuracy'], label = 'train',)\n",
    "plt.plot(history_res101.history['val_accuracy'], label = 'val')\n",
    "\n",
    "plt.legend(loc = 'right')\n",
    "plt.xlabel('epochs')\n",
    "plt.ylabel('accuracy')\n",
    "plt.show()"
   ]
  },
  {
   "cell_type": "code",
   "execution_count": null,
   "metadata": {},
   "outputs": [],
   "source": [
    "image_shape = (512, 512, 3)\n",
    "res101_model = ResNet101(include_top=False, pooling='avg', weights=None, input_shape = (image_shape))\n",
    "for layer in res101_model.layers:\n",
    "    layer.trainable = True\n",
    "\n",
    "N_CLASSES = 2\n",
    "\n",
    "model = Sequential()\n",
    "model.add(res101_model)\n",
    "model.add(Dropout(0.6))\n",
    "model.add(Flatten())\n",
    "model.add(BatchNormalization())\n",
    "#model.add(Dense(300))\n",
    "#model.add(BatchNormalization())\n",
    "#model.add(Dense(100))\n",
    "#model.add(BatchNormalization())\n",
    "#model.add(Dropout(0.6))\n",
    "model.add(Dense(N_CLASSES, activation='softmax'))\n",
    "model.summary()"
   ]
  },
  {
   "cell_type": "code",
   "execution_count": null,
   "metadata": {
    "scrolled": true
   },
   "outputs": [],
   "source": [
    "# GCCT\n",
    "# 다시 라벨별 분리하지 않은 데이터 경로에서 작업 (덕선선생님이 만드신것)\n",
    "# test dataset 은 다시 라벨별로 분리해둔 폴더를 사용\n",
    "# 1007 learning rate reduction 추가\n",
    "from tensorflow.keras.callbacks import ReduceLROnPlateau\n",
    "\n",
    "BATCH_SIZE = 32\n",
    "\n",
    "\n",
    "\n",
    "GCCT_train_path = '/home/ncp/workspace/blocks1/kidneyData_windowing_mass/TRAIN/GCCT/'\n",
    "GCCT_test_path = '/home/ncp/workspace/blocks3/kidneyData_windowing_mass/TEST/GCCT/'\n",
    "\n",
    "# y is imbalance - KFold 대신 StratifiedKFold 사용\n",
    "from sklearn.model_selection import StratifiedKFold\n",
    "skf = StratifiedKFold(n_splits = 10, random_state = 42, shuffle = True)\n",
    "\n",
    "# create datagen\n",
    "create_datagen = ImageDataGenerator(rescale= 1./255.)\n",
    "\n",
    "\n",
    "# generate test data first\n",
    "GCCT_test_generator = create_datagen.flow_from_directory(GCCT_test_path,\n",
    "                                                   batch_size = BATCH_SIZE,\n",
    "                                                   target_size = (512, 512),\n",
    "                                                   class_mode = 'categorical')\n",
    "\n",
    "\n",
    "## PERFORM TRAIN & VAL ## - ART\n",
    "\n",
    "VALIDATION_ACCURACY = []\n",
    "VALIDATION_LOSS = []\n",
    "val_acc = 0\n",
    "\n",
    "fold_var = 1 # weight 나 모델 저장용\n",
    "\n",
    "for train_index, val_index in skf.split(PRE_train_df, PRE_train_df['label']):  # Y의 분포 기준으로 나눔\n",
    "    \n",
    "    training_data = PRE_train_df.iloc[train_index]\n",
    "    validation_data = PRE_train_df.iloc[val_index]\n",
    "    \n",
    "    train_data_generator = create_datagen.flow_from_dataframe(training_data, directory = GCCT_train_path, \n",
    "                                                             x_col = 'filename', y_col = 'label', \n",
    "                                                             class_mode = 'categorical', \n",
    "                                                             shuffle = True)\n",
    "    valid_data_generator = create_datagen.flow_from_dataframe(validation_data, directory = GCCT_train_path, \n",
    "                                                             x_col = 'filename', y_col = 'label', \n",
    "                                                             class_mode = 'categorical', \n",
    "                                                             shuffle = True)\n",
    "    \n",
    "    optimizer = optimizers.Adam(learning_rate= 0.0001, decay= 1e-6)\n",
    "    learning_rate_reduction = ReduceLROnPlateau(monitor='val_loss',\n",
    "                                           patience =3, \n",
    "                                           verbose =1,\n",
    "                                            factor = 0.2,\n",
    "                                            min_lr =0.0000001)\n",
    "    model.compile(optimizer=optimizer, loss = 'categorical_crossentropy', metrics = ['accuracy'])\n",
    "    checkpointer = ModelCheckpoint(filepath='./2D_classification_ART-ResNet101_crossval.hdf5',\n",
    "                            monitor='val_loss', verbose = 1,\n",
    "                            save_best_only=True)\n",
    "    early_stopping = EarlyStopping(verbose=1, patience=15)\n",
    "\n",
    "    history_res101 = model.fit(train_data_generator,\n",
    "                        steps_per_epoch = 20,\n",
    "                        epochs = 100,\n",
    "                        verbose = 1,\n",
    "                        validation_data = valid_data_generator,\n",
    "                        callbacks = [checkpointer, early_stopping, learning_rate_reduction])\n",
    "    \n",
    "    # validation accuracy, loss\n",
    "    results = model.evaluate(valid_data_generator)\n",
    "    results = dict(zip(model.metrics_names, results))\n",
    "    \n",
    "    VALIDATION_ACCURACY.append(results['accuracy'])\n",
    "    VALIDATION_LOSS.append(results['loss'])\n",
    "    \n",
    "    tf.keras.backend.clear_session()\n",
    "    \n",
    "    fold_var += 1\n",
    "    \n",
    "    val_acc += results['accuracy'] / 10   # 평균 ACC\n",
    "    \n",
    "print(\"mean validation accuracy: \", val_acc)"
   ]
  },
  {
   "cell_type": "code",
   "execution_count": null,
   "metadata": {
    "scrolled": true
   },
   "outputs": [],
   "source": [
    "model_GCCT = model\n",
    "\n",
    "result = model_GCCT.evaluate(GCCT_test_generator)"
   ]
  },
  {
   "cell_type": "code",
   "execution_count": 30,
   "metadata": {},
   "outputs": [
    {
     "data": {
      "image/png": "[encoded data removed]",
      "text/plain": [
       "<Figure size 432x288 with 1 Axes>"
      ]
     },
     "metadata": {
      "needs_background": "light"
     },
     "output_type": "display_data"
    }
   ],
   "source": [
    "\n",
    "\n",
    "plt.plot(history_res101.history['accuracy'], label = 'train',)\n",
    "plt.plot(history_res101.history['val_accuracy'], label = 'val')\n",
    "\n",
    "plt.legend(loc = 'right')\n",
    "plt.xlabel('epochs')\n",
    "plt.ylabel('accuracy')\n",
    "plt.show()\n",
    "\n"
   ]
  },
  {
   "cell_type": "code",
   "execution_count": null,
   "metadata": {},
   "outputs": [],
   "source": [
    "path_resnet_PRE = '/home/ncp/workspace/blocks3/zio_code/cancer_configuration_PRE-ResNet101_crossval.hdf5'\n",
    "PRE_resnet = tf.keras.models.load_model(path_resnet_PRE)"
   ]
  },
  {
   "cell_type": "code",
   "execution_count": null,
   "metadata": {},
   "outputs": [],
   "source": [
    "image_shape = (512, 512, 3)\n",
    "res101_model = ResNet101(include_top=False, pooling='avg', weights=None, input_shape = (image_shape))\n",
    "for layer in res101_model.layers:\n",
    "    layer.trainable = True\n",
    "\n",
    "N_CLASSES = 2\n",
    "\n",
    "model = Sequential()\n",
    "model.add(res101_model)\n",
    "model.add(Dropout(0.6))\n",
    "model.add(Flatten())\n",
    "model.add(BatchNormalization())\n",
    "#model.add(Dense(300))\n",
    "#model.add(BatchNormalization())\n",
    "#model.add(Dense(100))\n",
    "#model.add(BatchNormalization())\n",
    "#model.add(Dropout(0.6))\n",
    "model.add(Dense(N_CLASSES, activation='softmax'))\n",
    "model.summary()"
   ]
  },
  {
   "cell_type": "code",
   "execution_count": null,
   "metadata": {
    "scrolled": true
   },
   "outputs": [],
   "source": [
    "# PRE\n",
    "# 다시 라벨별 분리하지 않은 데이터 경로에서 작업 (덕선선생님이 만드신것)\n",
    "# test dataset 은 다시 라벨별로 분리해둔 폴더를 사용\n",
    "# 1007 learning rate reduction 추가\n",
    "from tensorflow.keras.callbacks import ReduceLROnPlateau\n",
    "\n",
    "BATCH_SIZE = 32\n",
    "\n",
    "ART_train_path = '/home/ncp/workspace/blocks1/kidneyData_windowing_mass/TRAIN/ART/'\n",
    "PRE_train_path = '/home/ncp/workspace/blocks1/kidneyData_windowing_mass/TRAIN/PRE/'\n",
    "ART_test_path = '/home/ncp/workspace/blocks3/kidneyData_windowing_mass_classified/TEST/ART/'\n",
    "PRE_test_path = '/home/ncp/workspace/blocks3/kidneyData_windowing_mass_classified/TEST/PRE/'\n",
    "\n",
    "# y is imbalance - KFold 대신 StratifiedKFold 사용\n",
    "from sklearn.model_selection import StratifiedKFold\n",
    "skf = StratifiedKFold(n_splits = 10, random_state = 42, shuffle = True)\n",
    "\n",
    "# create datagen\n",
    "create_datagen = ImageDataGenerator(rescale= 1./255.)\n",
    "\n",
    "\n",
    "# generate test data first\n",
    "PRE_test_generator = create_datagen.flow_from_directory(PRE_test_path,\n",
    "                                                   batch_size = BATCH_SIZE,\n",
    "                                                   target_size = (512, 512),\n",
    "                                                   class_mode = 'categorical')\n",
    "\n",
    "\n",
    "## PERFORM TRAIN & VAL ## - ART\n",
    "\n",
    "VALIDATION_ACCURACY_PRE = []\n",
    "VALIDATION_LOSS_PRE = []\n",
    "val_acc_PRE = 0\n",
    "\n",
    "fold_var = 1 # weight 나 모델 저장용\n",
    "\n",
    "for train_index, val_index in skf.split(PRE_train_df, PRE_train_df['label']):  # Y의 분포 기준으로 나눔\n",
    "    \n",
    "    training_data = PRE_train_df.iloc[train_index]\n",
    "    validation_data = PRE_train_df.iloc[val_index]\n",
    "    \n",
    "    train_data_generator = create_datagen.flow_from_dataframe(training_data, directory = PRE_train_path, \n",
    "                                                             x_col = 'filename', y_col = 'label', \n",
    "                                                             class_mode = 'categorical', \n",
    "                                                             shuffle = True)\n",
    "    valid_data_generator = create_datagen.flow_from_dataframe(validation_data, directory = PRE_train_path, \n",
    "                                                             x_col = 'filename', y_col = 'label', \n",
    "                                                             class_mode = 'categorical', \n",
    "                                                             shuffle = True)\n",
    "    \n",
    "    optimizer = optimizers.Adam(learning_rate= 0.0001, decay= 1e-6)\n",
    "    learning_rate_reduction = ReduceLROnPlateau(monitor='val_loss',\n",
    "                                           patience =3, \n",
    "                                           verbose =1,\n",
    "                                            factor = 0.2,\n",
    "                                            min_lr =0.0000001)\n",
    "    model.compile(optimizer=optimizer, loss = 'categorical_crossentropy', metrics = ['accuracy'])\n",
    "    checkpointer = ModelCheckpoint(filepath='./2D_classification_PRE-ResNet101_crossval.hdf5',\n",
    "                            monitor='val_loss', verbose = 1,\n",
    "                            save_best_only=True)\n",
    "    early_stopping = EarlyStopping(verbose=1, patience=15)\n",
    "\n",
    "    history_res101_PRE = model.fit(train_data_generator,\n",
    "                        steps_per_epoch = 20,\n",
    "                        epochs = 100,\n",
    "                        verbose = 1,\n",
    "                        validation_data = valid_data_generator,\n",
    "                        callbacks = [checkpointer, early_stopping])\n",
    "    \n",
    "    # validation accuracy, loss\n",
    "    results_PRE = model.evaluate(valid_data_generator)\n",
    "    results_PRE = dict(zip(model.metrics_names, results_PRE))\n",
    "    \n",
    "    VALIDATION_ACCURACY_PRE.append(results_PRE['accuracy'])\n",
    "    VALIDATION_LOSS_PRE.append(results_PRE['loss'])\n",
    "    \n",
    "    tf.keras.backend.clear_session()\n",
    "    \n",
    "    fold_var += 1\n",
    "    \n",
    "    val_acc_PRE += results_PRE['accuracy'] / 10   # 평균 ACC\n",
    "    \n",
    "print(\"mean validation accuracy: \", val_acc_PRE)"
   ]
  },
  {
   "cell_type": "code",
   "execution_count": null,
   "metadata": {},
   "outputs": [],
   "source": [
    "model_pre = model \n",
    "result = model_pre.evaluate(PRE_test_generator)"
   ]
  },
  {
   "cell_type": "code",
   "execution_count": 46,
   "metadata": {},
   "outputs": [
    {
     "data": {
      "text/plain": [
       "{'loss': [0.05856511369347572],\n",
       " 'accuracy': [0.9825119376182556],\n",
       " 'val_loss': [0.003313901135697961],\n",
       " 'val_accuracy': [1.0]}"
      ]
     },
     "execution_count": 46,
     "metadata": {},
     "output_type": "execute_result"
    }
   ],
   "source": [
    "history_res101_PRE.history"
   ]
  },
  {
   "cell_type": "code",
   "execution_count": 44,
   "metadata": {},
   "outputs": [
    {
     "data": {
      "image/png": "[encoded data removed]",
      "text/plain": [
       "<Figure size 432x288 with 1 Axes>"
      ]
     },
     "metadata": {
      "needs_background": "light"
     },
     "output_type": "display_data"
    }
   ],
   "source": [
    "plt.plot(history_res101_PRE.history['accuracy'], label = 'train',)\n",
    "plt.plot(history_res101_PRE.history['val_accuracy'], label = 'val')\n",
    "\n",
    "plt.legend(loc = 'right')\n",
    "plt.xlabel('epochs')\n",
    "plt.ylabel('accuracy')\n",
    "plt.show()"
   ]
  },
  {
   "cell_type": "code",
   "execution_count": null,
   "metadata": {},
   "outputs": [],
   "source": [
    "path_resnet_PRE = '/home/ncp/workspace/blocks3/zio_code/cancer_configuration_PRE-ResNet101_crossval.hdf5'\n",
    "PRE_resnet = tf.keras.models.load_model(path_resnet_PRE)"
   ]
  },
  {
   "cell_type": "code",
   "execution_count": null,
   "metadata": {},
   "outputs": [],
   "source": [
    "PRE_resnet()"
   ]
  },
  {
   "cell_type": "code",
   "execution_count": null,
   "metadata": {},
   "outputs": [],
   "source": [
    "result_PRE = model.evaluate(PRE_test_generator)"
   ]
  },
  {
   "cell_type": "code",
   "execution_count": null,
   "metadata": {},
   "outputs": [],
   "source": [
    "plt.plot(history_res101_PRE.history['accuracy'], label = 'train',)\n",
    "plt.plot(history_res101_PRE.history['val_accuracy'], label = 'val')\n",
    "\n",
    "plt.legend(loc = 'right')\n",
    "plt.xlabel('epochs')\n",
    "plt.ylabel('accuracy')\n",
    "plt.show()"
   ]
  },
  {
   "cell_type": "code",
   "execution_count": null,
   "metadata": {},
   "outputs": [],
   "source": [
    "!nvidia-smi"
   ]
  },
  {
   "cell_type": "code",
   "execution_count": null,
   "metadata": {},
   "outputs": [],
   "source": []
  }
 ],
 "metadata": {
  "kernelspec": {
   "display_name": "ddd",
   "language": "python",
   "name": "ddd"
  },
  "language_info": {
   "codemirror_mode": {
    "name": "ipython",
    "version": 3
   },
   "file_extension": ".py",
   "mimetype": "text/x-python",
   "name": "python",
   "nbconvert_exporter": "python",
   "pygments_lexer": "ipython3",
   "version": "3.6.13"
  }
 },
 "nbformat": 4,
 "nbformat_minor": 2
}
