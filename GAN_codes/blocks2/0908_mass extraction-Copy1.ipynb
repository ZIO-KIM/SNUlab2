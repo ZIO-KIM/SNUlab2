{
 "cells": [
  {
   "cell_type": "code",
   "execution_count": 1,
   "metadata": {},
   "outputs": [],
   "source": [
    "import pandas as pd\n",
    "import numpy as np\n",
    "import math\n",
    "\n",
    "import os\n",
    "from tqdm import tqdm\n",
    "import json\n",
    "import shutil\n",
    "\n",
    "# image data\n",
    "from PIL import Image\n",
    "# import cv2\n",
    "\n",
    "import tensorflow as tf\n",
    "from tensorflow import keras\n",
    "from tensorflow.keras import layers\n",
    "\n",
    "from glob import glob\n",
    "import matplotlib.pyplot as plt"
   ]
  },
  {
   "cell_type": "markdown",
   "metadata": {},
   "source": [
    "### 1. GPU setting"
   ]
  },
  {
   "cell_type": "code",
   "execution_count": 2,
   "metadata": {},
   "outputs": [],
   "source": [
    "gpus =tf.config.experimental.list_physical_devices('GPU')\n",
    "if gpus: \n",
    "    # tensorflow가 첫번째 gpu만 사용하도록 제한\n",
    "    try: \n",
    "        tf.config.experimental.set_visible_devices(gpus[0], 'GPU')\n",
    "    except RuntimeError as e: \n",
    "        print(e)"
   ]
  },
  {
   "cell_type": "code",
   "execution_count": 3,
   "metadata": {},
   "outputs": [],
   "source": [
    "import os\n",
    "os.environ[\"CUDA_VISIBLE_DEVICES\"]=\"0\""
   ]
  },
  {
   "cell_type": "code",
   "execution_count": 4,
   "metadata": {},
   "outputs": [
    {
     "data": {
      "text/plain": [
       "True"
      ]
     },
     "execution_count": 4,
     "metadata": {},
     "output_type": "execute_result"
    }
   ],
   "source": [
    "#tf.test.is_gpu_available()\n",
    "#tf.test.is_built_with_cuda()\n",
    "tf.test.is_built_with_gpu_support()"
   ]
  },
  {
   "cell_type": "code",
   "execution_count": 5,
   "metadata": {},
   "outputs": [],
   "source": [
    "from tensorflow.compat.v1 import ConfigProto\n",
    "from tensorflow.compat.v1 import InteractiveSession\n",
    "\n",
    "config = ConfigProto()\n",
    "config.gpu_options.allow_growth = True\n",
    "session = InteractiveSession(config=config)"
   ]
  },
  {
   "cell_type": "markdown",
   "metadata": {},
   "source": [
    "### 2. Mass extraction"
   ]
  },
  {
   "cell_type": "code",
   "execution_count": 43,
   "metadata": {},
   "outputs": [],
   "source": [
    "LABEL_path = '/home/ncp/workspace/202002n035/035.신장암 진단을 위한 의료 영상 데이터/01.데이터/신장암2/1.Training/라벨링데이터/'\n",
    "people = os.listdir(LABEL_path)"
   ]
  },
  {
   "cell_type": "code",
   "execution_count": null,
   "metadata": {},
   "outputs": [],
   "source": [
    "# 02_01_0001\n",
    "ppl = '02_01_0010'\n",
    "ppl_ARTlabel_path = LABEL_path + ppl + '/' + '{}_ART.json'.format(ppl)\n",
    "with open(ppl_ARTlabel_path) as f: \n",
    "    ART_json = json.load(f)\n",
    "    \n",
    "ART_json"
   ]
  },
  {
   "cell_type": "code",
   "execution_count": null,
   "metadata": {},
   "outputs": [],
   "source": [
    "# create unique list of mass z \n",
    "\n",
    "ppl_ARTlabel_path = LABEL_path + ppl + '/' + '{}_ART.json'.format(ppl)\n",
    "with open(ppl_ARTlabel_path) as f: \n",
    "    ART_json = json.load(f)\n",
    "    \n",
    "ART_json\n",
    "\n",
    "length_left = len(ART_json['roi_list']['left mass'])\n",
    "length_right = len(ART_json['roi_list']['right mass'])\n",
    "\n",
    "if length_left == 0:\n",
    "    length = length_right\n",
    "    where = 'right'\n",
    "else: \n",
    "    length = length_left\n",
    "    where = 'left'\n",
    "    \n",
    "z_list = []\n",
    "for i in range(length): \n",
    "    z_list.append(ART_json['roi_list']['{} mass'.format(where)][i]['z'])\n",
    "    \n",
    "z_list = set(z_list)\n",
    "z_list_unique = list(z_list)\n",
    "z_list_unique = ['%04d' % x for x in z_list_unique]\n",
    "z_list_unique"
   ]
  },
  {
   "cell_type": "code",
   "execution_count": 32,
   "metadata": {},
   "outputs": [
    {
     "data": {
      "text/plain": [
       "17165"
      ]
     },
     "execution_count": 32,
     "metadata": {},
     "output_type": "execute_result"
    }
   ],
   "source": [
    "length_left"
   ]
  },
  {
   "cell_type": "code",
   "execution_count": 90,
   "metadata": {
    "scrolled": true
   },
   "outputs": [
    {
     "name": "stdout",
     "output_type": "stream",
     "text": [
      "0019\n",
      "0020\n",
      "0021\n"
     ]
    }
   ],
   "source": [
    "for item in z_list_unique: \n",
    "    print('%04s' % item)"
   ]
  },
  {
   "cell_type": "code",
   "execution_count": null,
   "metadata": {},
   "outputs": [],
   "source": [
    "ppl = '02_01_0001'\n",
    "lst = glob('/home/ncp/workspace/blocks1/kidneyData_windowing/Train_data/ART/{}_*'.format(ppl))\n",
    "lst.sort()\n",
    "lst"
   ]
  },
  {
   "cell_type": "code",
   "execution_count": 33,
   "metadata": {},
   "outputs": [
    {
     "name": "stderr",
     "output_type": "stream",
     "text": [
      "100%|██████████| 320/320 [00:28<00:00, 11.15it/s]\n"
     ]
    }
   ],
   "source": [
    "# create ART_train_label dataframe\n",
    "\n",
    "LABEL_path = '/home/ncp/workspace/202002n035/035.신장암 진단을 위한 의료 영상 데이터/01.데이터/신장암2/1.Training/라벨링데이터/'\n",
    "people = os.listdir(LABEL_path) \n",
    "ART_train_label = pd.DataFrame()\n",
    "\n",
    "for ppl in tqdm(people): \n",
    "    ppl_ARTlabel_path = LABEL_path + ppl + '/' + '{}_ART.json'.format(ppl)\n",
    "    with open(ppl_ARTlabel_path) as f: \n",
    "        ART_json = json.load(f)\n",
    "    case_id = ART_json['case_id'][0:10]\n",
    "    type = ART_json['Clinical Information (Global)']['histologic type']\n",
    "    data = {'case_id' : [case_id], 'histologic type' : [type]}\n",
    "    data = pd.DataFrame(data)\n",
    "    ART_train_label = pd.concat([ART_train_label, data]).reset_index(drop = True)"
   ]
  },
  {
   "cell_type": "code",
   "execution_count": 34,
   "metadata": {},
   "outputs": [
    {
     "name": "stderr",
     "output_type": "stream",
     "text": [
      "100%|██████████| 40/40 [00:03<00:00, 10.44it/s]\n"
     ]
    }
   ],
   "source": [
    "# create ART_val_label dataframe\n",
    "\n",
    "LABEL_path = '/home/ncp/workspace/202002n035/035.신장암 진단을 위한 의료 영상 데이터/01.데이터/신장암2/2.Validation/라벨링데이터/'\n",
    "people = os.listdir(LABEL_path) \n",
    "ART_val_label = pd.DataFrame()\n",
    "\n",
    "for ppl in tqdm(people): \n",
    "    ppl_ARTlabel_path = LABEL_path + ppl + '/' + '{}_ART.json'.format(ppl)\n",
    "    with open(ppl_ARTlabel_path) as f: \n",
    "        ART_json = json.load(f)\n",
    "    case_id = ART_json['case_id'][0:10]\n",
    "    type = ART_json['Clinical Information (Global)']['histologic type']\n",
    "    data = {'case_id' : [case_id], 'histologic type' : [type]}\n",
    "    data = pd.DataFrame(data)\n",
    "    ART_val_label = pd.concat([ART_val_label, data]).reset_index(drop = True)"
   ]
  },
  {
   "cell_type": "code",
   "execution_count": 35,
   "metadata": {},
   "outputs": [
    {
     "name": "stderr",
     "output_type": "stream",
     "text": [
      "100%|██████████| 320/320 [00:27<00:00, 11.69it/s]\n"
     ]
    }
   ],
   "source": [
    "# create PRE_train_label dataframe\n",
    "\n",
    "LABEL_path = '/home/ncp/workspace/202002n035/035.신장암 진단을 위한 의료 영상 데이터/01.데이터/신장암2/1.Training/라벨링데이터/'\n",
    "people = os.listdir(LABEL_path) \n",
    "PRE_train_label = pd.DataFrame()\n",
    "\n",
    "for ppl in tqdm(people): \n",
    "    ppl_PRElabel_path = LABEL_path + ppl + '/' + '{}_PRE.json'.format(ppl)\n",
    "    with open(ppl_PRElabel_path) as f: \n",
    "        PRE_json = json.load(f)\n",
    "    case_id = PRE_json['case_id'][0:10]\n",
    "    type = PRE_json['Clinical Information (Global)']['histologic type']\n",
    "    data = {'case_id' : [case_id], 'histologic type' : [type]}\n",
    "    data = pd.DataFrame(data)\n",
    "    PRE_train_label = pd.concat([PRE_train_label, data]).reset_index(drop = True)"
   ]
  },
  {
   "cell_type": "code",
   "execution_count": 36,
   "metadata": {},
   "outputs": [
    {
     "name": "stderr",
     "output_type": "stream",
     "text": [
      "100%|██████████| 40/40 [00:03<00:00, 10.53it/s]\n"
     ]
    }
   ],
   "source": [
    "# create PRE_val_label dataframe\n",
    "\n",
    "LABEL_path = '/home/ncp/workspace/202002n035/035.신장암 진단을 위한 의료 영상 데이터/01.데이터/신장암2/2.Validation/라벨링데이터/'\n",
    "people = os.listdir(LABEL_path) \n",
    "PRE_val_label = pd.DataFrame()\n",
    "\n",
    "for ppl in tqdm(people): \n",
    "    ppl_PRElabel_path = LABEL_path + ppl + '/' + '{}_PRE.json'.format(ppl)\n",
    "    with open(ppl_PRElabel_path) as f: \n",
    "        PRE_json = json.load(f)\n",
    "    case_id = PRE_json['case_id'][0:10]\n",
    "    type = PRE_json['Clinical Information (Global)']['histologic type']\n",
    "    data = {'case_id' : [case_id], 'histologic type' : [type]}\n",
    "    data = pd.DataFrame(data)\n",
    "    PRE_val_label = pd.concat([PRE_val_label, data]).reset_index(drop = True)"
   ]
  },
  {
   "cell_type": "code",
   "execution_count": 39,
   "metadata": {},
   "outputs": [],
   "source": [
    "# create new label in label_df\n",
    "    # cc, chr, pp -> RCC\n",
    "    # AML\n",
    "    # ONCO\n",
    "# (07.28 수정 반영) RCC // AML + onco 로 binary classification\n",
    "\n",
    "def new_label(df): \n",
    "    df['label'] = df['histologic type']\n",
    "    df.loc[df['label'].isin(['cc', 'chr', 'pp']) == True, 'label'] = 'RCC'\n",
    "    df.loc[df['label'] == 'AML', 'label'] = 'AML + onco'\n",
    "    df.loc[df['label'] == 'onco', 'label'] = 'AML + onco'\n",
    "    return df\n",
    "\n",
    "ART_train_label = new_label(ART_train_label)\n",
    "PRE_train_label = new_label(PRE_train_label)\n",
    "ART_val_label = new_label(ART_val_label)\n",
    "PRE_val_label = new_label(PRE_val_label)"
   ]
  },
  {
   "cell_type": "code",
   "execution_count": 104,
   "metadata": {},
   "outputs": [],
   "source": [
    "# define function to create unique list of mass z\n",
    "\n",
    "def extract_z_of_mass(LABEL_path, ppl, mass_name): \n",
    "    ppl_ARTlabel_path = LABEL_path + ppl + '/' + '{}_ART.json'.format(ppl)\n",
    "    with open(ppl_ARTlabel_path) as f: \n",
    "        ART_json = json.load(f)\n",
    "        \n",
    "    length = len(ART_json['roi_list'][mass_name])\n",
    "\n",
    "    z_list = []\n",
    "    for i in range(length): \n",
    "        z_list.append(ART_json['roi_list'][mass_name][i]['z'])\n",
    "\n",
    "    z_list = set(z_list)\n",
    "    z_list_unique = list(z_list)\n",
    "    z_list_unique = [x + 1 for x in z_list_unique]\n",
    "    z_list_unique = ['%04d' % x for x in z_list_unique]\n",
    "    \n",
    "    return z_list_unique"
   ]
  },
  {
   "cell_type": "code",
   "execution_count": 129,
   "metadata": {},
   "outputs": [
    {
     "name": "stdout",
     "output_type": "stream",
     "text": [
      "1\n"
     ]
    }
   ],
   "source": [
    "if 'left mass' in ART_json['roi_list'].keys(): \n",
    "    print(1)"
   ]
  },
  {
   "cell_type": "code",
   "execution_count": 106,
   "metadata": {},
   "outputs": [],
   "source": [
    "## mass가 여러 개인 환자 list 정의, 여러 개인지 검사하는 function def ##\n",
    "\n",
    "def check_if_multiple_mass(train_test, ppl):\n",
    "    LABEL_path = '/home/ncp/workspace/202002n035/035.신장암 진단을 위한 의료 영상 데이터/01.데이터/신장암2/1.Training/라벨링데이터/'\n",
    "    people = os.listdir(LABEL_path) \n",
    "\n",
    "    for ppl in tqdm(people): \n",
    "        ppl_ARTlabel_path = LABEL_path + ppl + '/' + '{}_ART.json'.format(ppl)\n",
    "        with open(ppl_ARTlabel_path) as f: \n",
    "            ART_json = json.load(f)\n",
    "        if 'left mass' in ART_json['roi_list'].keys():  \n",
    "    \n",
    "    if train_test == 'train' and ppl[6:] in tr_left_mass_list: \n",
    "        return ['left mass']\n",
    "    if train_test == 'train' and ppl[6:] in tr_left_mass2_list: \n",
    "        return ['left mass 1', 'left mass 2']\n",
    "    if train_test == 'train' and ppl[6:] in tr_left_mass3_list: \n",
    "        return ['left mass 1', 'left mass 2', 'left mass 3']\n",
    "    if train_test == 'train' and ppl[6:] in tr_left_mass5_list: \n",
    "        return ['left mass 1', 'left mass 2', 'left mass 3', 'left mass 4', 'left mass 5']\n",
    "    \n",
    "    if train_test == 'train' and ppl[6:] in tr_right_mass_list: \n",
    "        return ['right mass']\n",
    "    if train_test == 'train' and ppl[6:] in tr_right_mass2_list: \n",
    "        return ['right mass 1', 'right mass 2']\n",
    "    if train_test == 'train' and ppl[6:] in tr_right_mass3_list: \n",
    "        return ['right mass 1', 'right mass 2', 'right mass 3']\n",
    "    if train_test == 'train' and ppl[6:] in tr_right_mass4_list: \n",
    "        return ['right mass 1', 'right mass 2', 'right mass 3', 'right mass 4']\n",
    "    \n",
    "    if train_test == 'test' and ppl[6:] in te_left_mass_list: \n",
    "        return ['left mass']\n",
    "    if train_test == 'test' and ppl[6:] in te_left_mass2_list: \n",
    "        return ['left mass 1', 'left mass 2']\n",
    "    \n",
    "    if train_test == 'test' and ppl[6:] in te_right_mass_list: \n",
    "        return ['right mass']"
   ]
  },
  {
   "cell_type": "code",
   "execution_count": 120,
   "metadata": {},
   "outputs": [
    {
     "data": {
      "text/plain": [
       "['0041', '0042', '0043']"
      ]
     },
     "execution_count": 120,
     "metadata": {},
     "output_type": "execute_result"
    }
   ],
   "source": [
    "tr_right_mass3_list = [41, 42, 43]\n",
    "tr_right_mass3_list = ['%04d' % x for x in tr_right_mass3_list]\n",
    "tr_right_mass3_list"
   ]
  },
  {
   "cell_type": "code",
   "execution_count": 122,
   "metadata": {},
   "outputs": [
    {
     "data": {
      "text/plain": [
       "'0041'"
      ]
     },
     "execution_count": 122,
     "metadata": {},
     "output_type": "execute_result"
    }
   ],
   "source": [
    "'02_01_0041'[6:]"
   ]
  },
  {
   "cell_type": "code",
   "execution_count": 103,
   "metadata": {},
   "outputs": [],
   "source": [
    "# img 검사 후 복사하는 function 정의\n",
    "\n",
    "def copy_image(img_list, z_list_unique, label_df, old_path, new_path): \n",
    "    for img in tqdm(img_list): \n",
    "        if img[11:15] in z_list_unique: \n",
    "            case_id = img[4:14]\n",
    "            label = label_df.loc[label_df['case_id'] == case_id, 'label'].unique().tolist()\n",
    "            if label == ['RCC']: \n",
    "                shutil.copy(old_path + img, new_path + 'RCC/' + img)\n",
    "            if label == ['AML + onco']: \n",
    "                shutil.copy(old_path + img, new_path + 'AML + onco/' + img)"
   ]
  },
  {
   "cell_type": "code",
   "execution_count": 108,
   "metadata": {},
   "outputs": [],
   "source": [
    "shutil.rmtree('/home/ncp/workspace/blocks3/kidneyData_windowing_MASS/TRAIN/')\n",
    "shutil.rmtree('/home/ncp/workspace/blocks3/kidneyData_windowing_MASS/TEST/')"
   ]
  },
  {
   "cell_type": "code",
   "execution_count": null,
   "metadata": {
    "scrolled": true
   },
   "outputs": [],
   "source": [
    "# mass 만 추출한 데이터 새로 저장, 동시에 LABEL 별 폴더로 분류\n",
    "\n",
    "ART_train_path = '/home/ncp/workspace/blocks1/kidneyData_windowing/Train_data/ART/'\n",
    "PRE_train_path = '/home/ncp/workspace/blocks1/kidneyData_windowing/Train_data/PRE/'\n",
    "GCCT_train_path = '/home/ncp/workspace/blocks1/kidneyData_windowing/Train_data/GCCT/'\n",
    "ART_test_path = '/home/ncp/workspace/blocks1/kidneyData_windowing/Test_data/ART/'\n",
    "PRE_test_path = '/home/ncp/workspace/blocks1/kidneyData_windowing/Test_data/PRE/'\n",
    "GCCT_test_path = '/home/ncp/workspace/blocks1/kidneyData_windowing/Test_data/GCCT/'\n",
    "\n",
    "new_ART_train_path = '/home/ncp/workspace/blocks3/kidneyData_windowing_MASS/TRAIN/ART/'\n",
    "new_PRE_train_path = '/home/ncp/workspace/blocks3/kidneyData_windowing_MASS/TRAIN/PRE/'\n",
    "new_GCCT_train_path = '/home/ncp/workspace/blocks3/kidneyData_windowing_MASS/TRAIN/GCCT/'\n",
    "new_ART_test_path = '/home/ncp/workspace/blocks3/kidneyData_windowing_MASS/TEST/ART/'\n",
    "new_PRE_test_path = '/home/ncp/workspace/blocks3/kidneyData_windowing_MASS/TEST/PRE/'\n",
    "new_GCCT_test_path = '/home/ncp/workspace/blocks3/kidneyData_windowing_MASS/TEST/GCCT/'\n",
    "\n",
    "# make dir\n",
    "def makedir(path): \n",
    "    if not os.path.exists(path): \n",
    "        os.mkdir(path)\n",
    "        \n",
    "dir = '/home/ncp/workspace/blocks3/kidneyData_windowing_MASS/'\n",
    "makedir(os.path.join(dir, \"TRAIN\"))\n",
    "makedir(os.path.join(dir, \"TEST\"))\n",
    "\n",
    "makedir(os.path.join(dir, \"TRAIN\", \"ART\"))\n",
    "makedir(os.path.join(dir, \"TRAIN\", \"ART\", \"RCC\"))\n",
    "makedir(os.path.join(dir, \"TRAIN\", \"ART\", \"AML + onco\"))\n",
    "\n",
    "makedir(os.path.join(dir, \"TEST\", \"ART\"))\n",
    "makedir(os.path.join(dir, \"TEST\", \"ART\", \"RCC\"))\n",
    "makedir(os.path.join(dir, \"TEST\", \"ART\", \"AML + onco\"))\n",
    "\n",
    "makedir(os.path.join(dir, \"TRAIN\", \"PRE\"))\n",
    "makedir(os.path.join(dir, \"TRAIN\", \"PRE\", \"RCC\"))\n",
    "makedir(os.path.join(dir, \"TRAIN\", \"PRE\", \"AML + onco\"))\n",
    "\n",
    "makedir(os.path.join(dir, \"TEST\", \"PRE\"))\n",
    "makedir(os.path.join(dir, \"TEST\", \"PRE\", \"RCC\"))\n",
    "makedir(os.path.join(dir, \"TEST\", \"PRE\", \"AML + onco\"))\n",
    "\n",
    "makedir(os.path.join(dir, \"TRAIN\", \"GCCT\"))\n",
    "makedir(os.path.join(dir, \"TRAIN\", \"GCCT\", \"RCC\"))\n",
    "makedir(os.path.join(dir, \"TRAIN\", \"GCCT\", \"AML + onco\"))\n",
    "\n",
    "makedir(os.path.join(dir, \"TEST\", \"GCCT\"))\n",
    "makedir(os.path.join(dir, \"TEST\", \"GCCT\", \"RCC\"))\n",
    "makedir(os.path.join(dir, \"TEST\", \"GCCT\", \"AML + onco\"))\n",
    "\n",
    "# create img name list\n",
    "art_train_list = os.listdir(ART_train_path)\n",
    "pre_train_list = os.listdir(PRE_train_path)\n",
    "art_test_list = os.listdir(ART_test_path)\n",
    "pre_test_list = os.listdir(PRE_test_path)\n",
    "gcct_train_list = os.listdir(GCCT_train_path)\n",
    "gcct_test_list = os.listdir(GCCT_test_path)\n",
    "\n",
    "\n",
    "# ART train\n",
    "LABEL_path = '/home/ncp/workspace/202002n035/035.신장암 진단을 위한 의료 영상 데이터/01.데이터/신장암2/1.Training/라벨링데이터/'\n",
    "people = os.listdir(LABEL_path)\n",
    "for ppl in people: \n",
    "    mass_list = check_if_multiple_mass('train', ppl)\n",
    "    for mass_name in mass_list: \n",
    "        z_list_unique = extract_z_of_mass(LABEL_path, ppl, mass_name)\n",
    "        copy_image(art_train_list, z_list_unique, ART_train_label, ART_train_path, new_ART_train_path)\n",
    "\n",
    "# PRE train\n",
    "LABEL_path = '/home/ncp/workspace/202002n035/035.신장암 진단을 위한 의료 영상 데이터/01.데이터/신장암2/1.Training/라벨링데이터/'\n",
    "people = os.listdir(LABEL_path)\n",
    "for ppl in people: \n",
    "    mass_list = check_if_multiple_mass('train', ppl)\n",
    "    for mass_name in mass_list: \n",
    "        z_list_unique = extract_z_of_mass(LABEL_path, ppl, mass_name)\n",
    "        copy_image(pre_train_list, z_list_unique, PRE_train_label, PRE_train_path, new_PRE_train_path)\n",
    "                \n",
    "# GCCT train\n",
    "LABEL_path = '/home/ncp/workspace/202002n035/035.신장암 진단을 위한 의료 영상 데이터/01.데이터/신장암2/1.Training/라벨링데이터/'\n",
    "people = os.listdir(LABEL_path)\n",
    "for ppl in people: \n",
    "    mass_list = check_if_multiple_mass('train', ppl)\n",
    "    for mass_name in mass_list: \n",
    "        z_list_unique = extract_z_of_mass(LABEL_path, ppl, mass_name)\n",
    "        copy_image(gcct_train_list, z_list_unique, PRE_train_label, GCCT_train_path, new_GCCT_train_path)\n",
    "        \n",
    "# ART test\n",
    "LABEL_path = '/home/ncp/workspace/202002n035/035.신장암 진단을 위한 의료 영상 데이터/01.데이터/신장암2/2.Validation/라벨링데이터/'\n",
    "people = os.listdir(LABEL_path)\n",
    "for ppl in people: \n",
    "    mass_list = check_if_multiple_mass('test', ppl)\n",
    "    for mass_name in mass_list: \n",
    "        z_list_unique = extract_z_of_mass(LABEL_path, ppl, mass_name)\n",
    "        copy_image(art_test_list, z_list_unique, ART_val_label, ART_test_path, new_ART_test_path)\n",
    "        \n",
    "# PRE test\n",
    "LABEL_path = '/home/ncp/workspace/202002n035/035.신장암 진단을 위한 의료 영상 데이터/01.데이터/신장암2/2.Validation/라벨링데이터/'\n",
    "people = os.listdir(LABEL_path)\n",
    "for ppl in people: \n",
    "    mass_list = check_if_multiple_mass('test', ppl)\n",
    "    for mass_name in mass_list: \n",
    "        z_list_unique = extract_z_of_mass(LABEL_path, ppl, mass_name)\n",
    "        copy_image(pre_test_list, z_list_unique, PRE_val_label, PRE_test_path, new_PRE_test_path)\n",
    "                \n",
    "# GCCT test\n",
    "LABEL_path = '/home/ncp/workspace/202002n035/035.신장암 진단을 위한 의료 영상 데이터/01.데이터/신장암2/2.Validation/라벨링데이터/'\n",
    "people = os.listdir(LABEL_path)\n",
    "for ppl in people: \n",
    "    mass_list = check_if_multiple_mass('test', ppl)\n",
    "    for mass_name in mass_list: \n",
    "        z_list_unique = extract_z_of_mass(LABEL_path, ppl, mass_name)\n",
    "        copy_image(gcct_test_list, z_list_unique, PRE_val_label, GCCT_test_path, new_GCCT_test_path)"
   ]
  },
  {
   "cell_type": "code",
   "execution_count": 111,
   "metadata": {},
   "outputs": [
    {
     "data": {
      "text/plain": [
       "'02_01_0108'"
      ]
     },
     "execution_count": 111,
     "metadata": {},
     "output_type": "execute_result"
    }
   ],
   "source": [
    "ppl"
   ]
  },
  {
   "cell_type": "code",
   "execution_count": 123,
   "metadata": {},
   "outputs": [
    {
     "data": {
      "text/plain": [
       "['left mass']"
      ]
     },
     "execution_count": 123,
     "metadata": {},
     "output_type": "execute_result"
    }
   ],
   "source": [
    "mass_list = check_if_multiple_mass('train', '02_01_0041')\n",
    "mass_list"
   ]
  },
  {
   "cell_type": "code",
   "execution_count": 63,
   "metadata": {},
   "outputs": [
    {
     "name": "stdout",
     "output_type": "stream",
     "text": [
      "1\n"
     ]
    }
   ],
   "source": [
    "mass_list = check_if_multiple_mass('train', ppl)\n",
    "    for mass_name in mass_list: \n",
    "        z_list_unique = extract_z_of_mass(LABEL_path, ppl, mass_name)\n",
    "        copy_image(art_train_list, z_list_unique, ART_train_label, ART_train_path, new_ART_train_path)"
   ]
  },
  {
   "cell_type": "code",
   "execution_count": 81,
   "metadata": {},
   "outputs": [
    {
     "data": {
      "text/plain": [
       "'02_01_0041'"
      ]
     },
     "execution_count": 81,
     "metadata": {},
     "output_type": "execute_result"
    }
   ],
   "source": [
    "ppl"
   ]
  },
  {
   "cell_type": "code",
   "execution_count": null,
   "metadata": {},
   "outputs": [],
   "source": [
    "LABEL_path = '/home/ncp/workspace/202002n035/035.신장암 진단을 위한 의료 영상 데이터/01.데이터/신장암2/1.Training/라벨링데이터/'\n",
    "people = os.listdir(LABEL_path) \n",
    "\n",
    "for ppl in people: \n",
    "    ppl_ARTlabel_path = LABEL_path + ppl + '/' + '{}_ART.json'.format(ppl)\n",
    "    with open(ppl_ARTlabel_path) as f: \n",
    "        ART_json = json.load(f)\n",
    "        \n",
    "    print(ART_json['Clinical Information (Local)'])"
   ]
  },
  {
   "cell_type": "code",
   "execution_count": 85,
   "metadata": {},
   "outputs": [
    {
     "data": {
      "text/plain": [
       "'02_01_0303'"
      ]
     },
     "execution_count": 85,
     "metadata": {},
     "output_type": "execute_result"
    }
   ],
   "source": [
    "ppl"
   ]
  },
  {
   "cell_type": "code",
   "execution_count": null,
   "metadata": {},
   "outputs": [],
   "source": []
  }
 ],
 "metadata": {
  "kernelspec": {
   "display_name": "ddd",
   "language": "python",
   "name": "ddd"
  },
  "language_info": {
   "codemirror_mode": {
    "name": "ipython",
    "version": 3
   },
   "file_extension": ".py",
   "mimetype": "text/x-python",
   "name": "python",
   "nbconvert_exporter": "python",
   "pygments_lexer": "ipython3",
   "version": "3.6.13"
  }
 },
 "nbformat": 4,
 "nbformat_minor": 2
}
